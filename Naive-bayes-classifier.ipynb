{
 "cells": [
  {
   "cell_type": "markdown",
   "id": "61e475fc",
   "metadata": {
    "papermill": {
     "duration": 0.01753,
     "end_time": "2023-03-05T10:44:09.619236",
     "exception": false,
     "start_time": "2023-03-05T10:44:09.601706",
     "status": "completed"
    },
    "tags": []
   },
   "source": [
    "<div style=\"padding:20px;color:#A7727D;margin:0;font-size:200%;text-align:center;display:fill;border-radius:5px;background-color:#FBF8F1;overflow:hidden;font-weight:500\"> Naive Bayes Classifier  </div>\n",
    "\n",
    "\n",
    "\n"
   ]
  },
  {
   "cell_type": "markdown",
   "id": "85996f09",
   "metadata": {
    "papermill": {
     "duration": 0.014964,
     "end_time": "2023-03-05T10:44:09.650202",
     "exception": false,
     "start_time": "2023-03-05T10:44:09.635238",
     "status": "completed"
    },
    "tags": []
   },
   "source": [
    "# **Table of Contents**\n",
    "\n",
    "1.\t[Introduction](#1)\n",
    "2.\t[Data Preprocessing](#2)\n",
    "3.\t[Model Training](#3)\n",
    "4.\t[Evaluation](#4)\n",
    "5.\t[Cross Validation](#5)\n"
   ]
  },
  {
   "cell_type": "markdown",
   "id": "db3ab67a",
   "metadata": {
    "papermill": {
     "duration": 0.014785,
     "end_time": "2023-03-05T10:44:09.680267",
     "exception": false,
     "start_time": "2023-03-05T10:44:09.665482",
     "status": "completed"
    },
    "tags": []
   },
   "source": [
    "<div id='1'\n",
    "     style = \"display: fill;\n",
    "              border-radius: 10px;\n",
    "              background-color: #B7CADB;\">\n",
    "    <h2 style = \"padding: 15px; \n",
    "                 color: white;\n",
    "                 text-align: left;\n",
    "                 font-family: Trebuchet MS;\">Introduction\n",
    "    </h2>\n",
    "</div>"
   ]
  },
  {
   "cell_type": "markdown",
   "id": "9360bec2",
   "metadata": {
    "papermill": {
     "duration": 0.01493,
     "end_time": "2023-03-05T10:44:09.711977",
     "exception": false,
     "start_time": "2023-03-05T10:44:09.697047",
     "status": "completed"
    },
    "tags": []
   },
   "source": [
    "<div id='1'\n",
    "     style = \"display: fill;\n",
    "              border-radius: 10px;\n",
    "              background-color: #AD8B73;\">\n",
    "    <h3 style = \"padding: 15px; \n",
    "                 color: white;\n",
    "                 text-align: left;\n",
    "                 font-family: Trebuchet MS;\">Importing Libraries\n",
    "    </h3>\n",
    "</div>"
   ]
  },
  {
   "cell_type": "code",
   "execution_count": 1,
   "id": "b972a1b6",
   "metadata": {
    "_cell_guid": "b1076dfc-b9ad-4769-8c92-a6c4dae69d19",
    "_uuid": "8f2839f25d086af736a60e9eeb907d3b93b6e0e5",
    "execution": {
     "iopub.execute_input": "2023-03-05T10:44:09.746039Z",
     "iopub.status.busy": "2023-03-05T10:44:09.745479Z",
     "iopub.status.idle": "2023-03-05T10:44:11.216042Z",
     "shell.execute_reply": "2023-03-05T10:44:11.213383Z"
    },
    "papermill": {
     "duration": 1.492681,
     "end_time": "2023-03-05T10:44:11.220714",
     "exception": false,
     "start_time": "2023-03-05T10:44:09.728033",
     "status": "completed"
    },
    "tags": []
   },
   "outputs": [
    {
     "name": "stdout",
     "output_type": "stream",
     "text": [
      "/kaggle/input/adult-dataset/adult.csv\n"
     ]
    }
   ],
   "source": [
    "import numpy as np # linear algebra\n",
    "import pandas as pd # data processing, CSV file I/O (e.g. pd.read_csv)\n",
    "import matplotlib.pyplot as plt\n",
    "import seaborn as sns\n",
    "%matplotlib inline\n",
    "import os\n",
    "for dirname, _, filenames in os.walk('/kaggle/input'):\n",
    "    for filename in filenames:\n",
    "        print(os.path.join(dirname, filename))\n",
    "\n",
    "import warnings\n",
    "warnings.filterwarnings('ignore')"
   ]
  },
  {
   "cell_type": "code",
   "execution_count": 2,
   "id": "3d784990",
   "metadata": {
    "execution": {
     "iopub.execute_input": "2023-03-05T10:44:11.257989Z",
     "iopub.status.busy": "2023-03-05T10:44:11.257502Z",
     "iopub.status.idle": "2023-03-05T10:44:11.452087Z",
     "shell.execute_reply": "2023-03-05T10:44:11.450616Z"
    },
    "papermill": {
     "duration": 0.215113,
     "end_time": "2023-03-05T10:44:11.455024",
     "exception": false,
     "start_time": "2023-03-05T10:44:11.239911",
     "status": "completed"
    },
    "tags": []
   },
   "outputs": [
    {
     "data": {
      "text/html": [
       "<div>\n",
       "<style scoped>\n",
       "    .dataframe tbody tr th:only-of-type {\n",
       "        vertical-align: middle;\n",
       "    }\n",
       "\n",
       "    .dataframe tbody tr th {\n",
       "        vertical-align: top;\n",
       "    }\n",
       "\n",
       "    .dataframe thead th {\n",
       "        text-align: right;\n",
       "    }\n",
       "</style>\n",
       "<table border=\"1\" class=\"dataframe\">\n",
       "  <thead>\n",
       "    <tr style=\"text-align: right;\">\n",
       "      <th></th>\n",
       "      <th>39</th>\n",
       "      <th>State-gov</th>\n",
       "      <th>77516</th>\n",
       "      <th>Bachelors</th>\n",
       "      <th>13</th>\n",
       "      <th>Never-married</th>\n",
       "      <th>Adm-clerical</th>\n",
       "      <th>Not-in-family</th>\n",
       "      <th>White</th>\n",
       "      <th>Male</th>\n",
       "      <th>2174</th>\n",
       "      <th>0</th>\n",
       "      <th>40</th>\n",
       "      <th>United-States</th>\n",
       "      <th>&lt;=50K</th>\n",
       "    </tr>\n",
       "  </thead>\n",
       "  <tbody>\n",
       "    <tr>\n",
       "      <th>0</th>\n",
       "      <td>50</td>\n",
       "      <td>Self-emp-not-inc</td>\n",
       "      <td>83311</td>\n",
       "      <td>Bachelors</td>\n",
       "      <td>13</td>\n",
       "      <td>Married-civ-spouse</td>\n",
       "      <td>Exec-managerial</td>\n",
       "      <td>Husband</td>\n",
       "      <td>White</td>\n",
       "      <td>Male</td>\n",
       "      <td>0</td>\n",
       "      <td>0</td>\n",
       "      <td>13</td>\n",
       "      <td>United-States</td>\n",
       "      <td>&lt;=50K</td>\n",
       "    </tr>\n",
       "    <tr>\n",
       "      <th>1</th>\n",
       "      <td>38</td>\n",
       "      <td>Private</td>\n",
       "      <td>215646</td>\n",
       "      <td>HS-grad</td>\n",
       "      <td>9</td>\n",
       "      <td>Divorced</td>\n",
       "      <td>Handlers-cleaners</td>\n",
       "      <td>Not-in-family</td>\n",
       "      <td>White</td>\n",
       "      <td>Male</td>\n",
       "      <td>0</td>\n",
       "      <td>0</td>\n",
       "      <td>40</td>\n",
       "      <td>United-States</td>\n",
       "      <td>&lt;=50K</td>\n",
       "    </tr>\n",
       "    <tr>\n",
       "      <th>2</th>\n",
       "      <td>53</td>\n",
       "      <td>Private</td>\n",
       "      <td>234721</td>\n",
       "      <td>11th</td>\n",
       "      <td>7</td>\n",
       "      <td>Married-civ-spouse</td>\n",
       "      <td>Handlers-cleaners</td>\n",
       "      <td>Husband</td>\n",
       "      <td>Black</td>\n",
       "      <td>Male</td>\n",
       "      <td>0</td>\n",
       "      <td>0</td>\n",
       "      <td>40</td>\n",
       "      <td>United-States</td>\n",
       "      <td>&lt;=50K</td>\n",
       "    </tr>\n",
       "    <tr>\n",
       "      <th>3</th>\n",
       "      <td>28</td>\n",
       "      <td>Private</td>\n",
       "      <td>338409</td>\n",
       "      <td>Bachelors</td>\n",
       "      <td>13</td>\n",
       "      <td>Married-civ-spouse</td>\n",
       "      <td>Prof-specialty</td>\n",
       "      <td>Wife</td>\n",
       "      <td>Black</td>\n",
       "      <td>Female</td>\n",
       "      <td>0</td>\n",
       "      <td>0</td>\n",
       "      <td>40</td>\n",
       "      <td>Cuba</td>\n",
       "      <td>&lt;=50K</td>\n",
       "    </tr>\n",
       "    <tr>\n",
       "      <th>4</th>\n",
       "      <td>37</td>\n",
       "      <td>Private</td>\n",
       "      <td>284582</td>\n",
       "      <td>Masters</td>\n",
       "      <td>14</td>\n",
       "      <td>Married-civ-spouse</td>\n",
       "      <td>Exec-managerial</td>\n",
       "      <td>Wife</td>\n",
       "      <td>White</td>\n",
       "      <td>Female</td>\n",
       "      <td>0</td>\n",
       "      <td>0</td>\n",
       "      <td>40</td>\n",
       "      <td>United-States</td>\n",
       "      <td>&lt;=50K</td>\n",
       "    </tr>\n",
       "  </tbody>\n",
       "</table>\n",
       "</div>"
      ],
      "text/plain": [
       "   39          State-gov   77516   Bachelors   13        Never-married  \\\n",
       "0  50   Self-emp-not-inc   83311   Bachelors   13   Married-civ-spouse   \n",
       "1  38            Private  215646     HS-grad    9             Divorced   \n",
       "2  53            Private  234721        11th    7   Married-civ-spouse   \n",
       "3  28            Private  338409   Bachelors   13   Married-civ-spouse   \n",
       "4  37            Private  284582     Masters   14   Married-civ-spouse   \n",
       "\n",
       "         Adm-clerical   Not-in-family   White     Male   2174   0   40  \\\n",
       "0     Exec-managerial         Husband   White     Male      0   0   13   \n",
       "1   Handlers-cleaners   Not-in-family   White     Male      0   0   40   \n",
       "2   Handlers-cleaners         Husband   Black     Male      0   0   40   \n",
       "3      Prof-specialty            Wife   Black   Female      0   0   40   \n",
       "4     Exec-managerial            Wife   White   Female      0   0   40   \n",
       "\n",
       "    United-States   <=50K  \n",
       "0   United-States   <=50K  \n",
       "1   United-States   <=50K  \n",
       "2   United-States   <=50K  \n",
       "3            Cuba   <=50K  \n",
       "4   United-States   <=50K  "
      ]
     },
     "execution_count": 2,
     "metadata": {},
     "output_type": "execute_result"
    }
   ],
   "source": [
    "df=pd.read_csv('/kaggle/input/adult-dataset/adult.csv')\n",
    "df.head()"
   ]
  },
  {
   "cell_type": "code",
   "execution_count": 3,
   "id": "0b2bb8d9",
   "metadata": {
    "execution": {
     "iopub.execute_input": "2023-03-05T10:44:11.493627Z",
     "iopub.status.busy": "2023-03-05T10:44:11.492751Z",
     "iopub.status.idle": "2023-03-05T10:44:11.500814Z",
     "shell.execute_reply": "2023-03-05T10:44:11.499456Z"
    },
    "papermill": {
     "duration": 0.031397,
     "end_time": "2023-03-05T10:44:11.503369",
     "exception": false,
     "start_time": "2023-03-05T10:44:11.471972",
     "status": "completed"
    },
    "tags": []
   },
   "outputs": [
    {
     "data": {
      "text/plain": [
       "(32560, 15)"
      ]
     },
     "execution_count": 3,
     "metadata": {},
     "output_type": "execute_result"
    }
   ],
   "source": [
    "#Number of rows and columns\n",
    "df.shape"
   ]
  },
  {
   "cell_type": "code",
   "execution_count": 4,
   "id": "b5223ba1",
   "metadata": {
    "execution": {
     "iopub.execute_input": "2023-03-05T10:44:11.539255Z",
     "iopub.status.busy": "2023-03-05T10:44:11.538492Z",
     "iopub.status.idle": "2023-03-05T10:44:11.558699Z",
     "shell.execute_reply": "2023-03-05T10:44:11.557317Z"
    },
    "papermill": {
     "duration": 0.041418,
     "end_time": "2023-03-05T10:44:11.561246",
     "exception": false,
     "start_time": "2023-03-05T10:44:11.519828",
     "status": "completed"
    },
    "tags": []
   },
   "outputs": [
    {
     "data": {
      "text/html": [
       "<div>\n",
       "<style scoped>\n",
       "    .dataframe tbody tr th:only-of-type {\n",
       "        vertical-align: middle;\n",
       "    }\n",
       "\n",
       "    .dataframe tbody tr th {\n",
       "        vertical-align: top;\n",
       "    }\n",
       "\n",
       "    .dataframe thead th {\n",
       "        text-align: right;\n",
       "    }\n",
       "</style>\n",
       "<table border=\"1\" class=\"dataframe\">\n",
       "  <thead>\n",
       "    <tr style=\"text-align: right;\">\n",
       "      <th></th>\n",
       "      <th>age</th>\n",
       "      <th>workclass</th>\n",
       "      <th>fnlwgt</th>\n",
       "      <th>education</th>\n",
       "      <th>education_num</th>\n",
       "      <th>marital_status</th>\n",
       "      <th>occupation</th>\n",
       "      <th>relationship</th>\n",
       "      <th>race</th>\n",
       "      <th>sex</th>\n",
       "      <th>capital_gain</th>\n",
       "      <th>capital_loss</th>\n",
       "      <th>hours_per_week</th>\n",
       "      <th>native_country</th>\n",
       "      <th>income</th>\n",
       "    </tr>\n",
       "  </thead>\n",
       "  <tbody>\n",
       "    <tr>\n",
       "      <th>0</th>\n",
       "      <td>50</td>\n",
       "      <td>Self-emp-not-inc</td>\n",
       "      <td>83311</td>\n",
       "      <td>Bachelors</td>\n",
       "      <td>13</td>\n",
       "      <td>Married-civ-spouse</td>\n",
       "      <td>Exec-managerial</td>\n",
       "      <td>Husband</td>\n",
       "      <td>White</td>\n",
       "      <td>Male</td>\n",
       "      <td>0</td>\n",
       "      <td>0</td>\n",
       "      <td>13</td>\n",
       "      <td>United-States</td>\n",
       "      <td>&lt;=50K</td>\n",
       "    </tr>\n",
       "    <tr>\n",
       "      <th>1</th>\n",
       "      <td>38</td>\n",
       "      <td>Private</td>\n",
       "      <td>215646</td>\n",
       "      <td>HS-grad</td>\n",
       "      <td>9</td>\n",
       "      <td>Divorced</td>\n",
       "      <td>Handlers-cleaners</td>\n",
       "      <td>Not-in-family</td>\n",
       "      <td>White</td>\n",
       "      <td>Male</td>\n",
       "      <td>0</td>\n",
       "      <td>0</td>\n",
       "      <td>40</td>\n",
       "      <td>United-States</td>\n",
       "      <td>&lt;=50K</td>\n",
       "    </tr>\n",
       "    <tr>\n",
       "      <th>2</th>\n",
       "      <td>53</td>\n",
       "      <td>Private</td>\n",
       "      <td>234721</td>\n",
       "      <td>11th</td>\n",
       "      <td>7</td>\n",
       "      <td>Married-civ-spouse</td>\n",
       "      <td>Handlers-cleaners</td>\n",
       "      <td>Husband</td>\n",
       "      <td>Black</td>\n",
       "      <td>Male</td>\n",
       "      <td>0</td>\n",
       "      <td>0</td>\n",
       "      <td>40</td>\n",
       "      <td>United-States</td>\n",
       "      <td>&lt;=50K</td>\n",
       "    </tr>\n",
       "    <tr>\n",
       "      <th>3</th>\n",
       "      <td>28</td>\n",
       "      <td>Private</td>\n",
       "      <td>338409</td>\n",
       "      <td>Bachelors</td>\n",
       "      <td>13</td>\n",
       "      <td>Married-civ-spouse</td>\n",
       "      <td>Prof-specialty</td>\n",
       "      <td>Wife</td>\n",
       "      <td>Black</td>\n",
       "      <td>Female</td>\n",
       "      <td>0</td>\n",
       "      <td>0</td>\n",
       "      <td>40</td>\n",
       "      <td>Cuba</td>\n",
       "      <td>&lt;=50K</td>\n",
       "    </tr>\n",
       "    <tr>\n",
       "      <th>4</th>\n",
       "      <td>37</td>\n",
       "      <td>Private</td>\n",
       "      <td>284582</td>\n",
       "      <td>Masters</td>\n",
       "      <td>14</td>\n",
       "      <td>Married-civ-spouse</td>\n",
       "      <td>Exec-managerial</td>\n",
       "      <td>Wife</td>\n",
       "      <td>White</td>\n",
       "      <td>Female</td>\n",
       "      <td>0</td>\n",
       "      <td>0</td>\n",
       "      <td>40</td>\n",
       "      <td>United-States</td>\n",
       "      <td>&lt;=50K</td>\n",
       "    </tr>\n",
       "  </tbody>\n",
       "</table>\n",
       "</div>"
      ],
      "text/plain": [
       "   age          workclass  fnlwgt   education  education_num  \\\n",
       "0   50   Self-emp-not-inc   83311   Bachelors             13   \n",
       "1   38            Private  215646     HS-grad              9   \n",
       "2   53            Private  234721        11th              7   \n",
       "3   28            Private  338409   Bachelors             13   \n",
       "4   37            Private  284582     Masters             14   \n",
       "\n",
       "        marital_status          occupation    relationship    race      sex  \\\n",
       "0   Married-civ-spouse     Exec-managerial         Husband   White     Male   \n",
       "1             Divorced   Handlers-cleaners   Not-in-family   White     Male   \n",
       "2   Married-civ-spouse   Handlers-cleaners         Husband   Black     Male   \n",
       "3   Married-civ-spouse      Prof-specialty            Wife   Black   Female   \n",
       "4   Married-civ-spouse     Exec-managerial            Wife   White   Female   \n",
       "\n",
       "   capital_gain  capital_loss  hours_per_week  native_country  income  \n",
       "0             0             0              13   United-States   <=50K  \n",
       "1             0             0              40   United-States   <=50K  \n",
       "2             0             0              40   United-States   <=50K  \n",
       "3             0             0              40            Cuba   <=50K  \n",
       "4             0             0              40   United-States   <=50K  "
      ]
     },
     "execution_count": 4,
     "metadata": {},
     "output_type": "execute_result"
    }
   ],
   "source": [
    "## Renaming column names\n",
    "col_names = ['age', 'workclass', 'fnlwgt', 'education', 'education_num', 'marital_status', 'occupation', 'relationship',\n",
    "             'race', 'sex', 'capital_gain', 'capital_loss', 'hours_per_week', 'native_country', 'income']\n",
    "\n",
    "df.columns = col_names\n",
    "\n",
    "df.head()"
   ]
  },
  {
   "cell_type": "code",
   "execution_count": 5,
   "id": "2770fd4e",
   "metadata": {
    "_kg_hide-output": true,
    "execution": {
     "iopub.execute_input": "2023-03-05T10:44:11.596029Z",
     "iopub.status.busy": "2023-03-05T10:44:11.595254Z",
     "iopub.status.idle": "2023-03-05T10:44:11.648840Z",
     "shell.execute_reply": "2023-03-05T10:44:11.646639Z"
    },
    "papermill": {
     "duration": 0.074958,
     "end_time": "2023-03-05T10:44:11.652433",
     "exception": false,
     "start_time": "2023-03-05T10:44:11.577475",
     "status": "completed"
    },
    "tags": []
   },
   "outputs": [
    {
     "name": "stdout",
     "output_type": "stream",
     "text": [
      "<class 'pandas.core.frame.DataFrame'>\n",
      "RangeIndex: 32560 entries, 0 to 32559\n",
      "Data columns (total 15 columns):\n",
      " #   Column          Non-Null Count  Dtype \n",
      "---  ------          --------------  ----- \n",
      " 0   age             32560 non-null  int64 \n",
      " 1   workclass       32560 non-null  object\n",
      " 2   fnlwgt          32560 non-null  int64 \n",
      " 3   education       32560 non-null  object\n",
      " 4   education_num   32560 non-null  int64 \n",
      " 5   marital_status  32560 non-null  object\n",
      " 6   occupation      32560 non-null  object\n",
      " 7   relationship    32560 non-null  object\n",
      " 8   race            32560 non-null  object\n",
      " 9   sex             32560 non-null  object\n",
      " 10  capital_gain    32560 non-null  int64 \n",
      " 11  capital_loss    32560 non-null  int64 \n",
      " 12  hours_per_week  32560 non-null  int64 \n",
      " 13  native_country  32560 non-null  object\n",
      " 14  income          32560 non-null  object\n",
      "dtypes: int64(6), object(9)\n",
      "memory usage: 3.7+ MB\n"
     ]
    }
   ],
   "source": [
    "#Information about dataset\n",
    "df.info()"
   ]
  },
  {
   "cell_type": "markdown",
   "id": "a08369ec",
   "metadata": {
    "papermill": {
     "duration": 0.017067,
     "end_time": "2023-03-05T10:44:11.687515",
     "exception": false,
     "start_time": "2023-03-05T10:44:11.670448",
     "status": "completed"
    },
    "tags": []
   },
   "source": [
    "<div id='2'\n",
    "     style = \"display: fill;\n",
    "              border-radius: 10px;\n",
    "              background-color: #B7CADB;\">\n",
    "    <h2 style = \"padding: 15px; \n",
    "                 color: white;\n",
    "                 text-align: left;\n",
    "                 font-family: Trebuchet MS;\"> Data Preprocessing\n",
    "    </h2>\n",
    "</div>"
   ]
  },
  {
   "cell_type": "code",
   "execution_count": 6,
   "id": "19cdd0e4",
   "metadata": {
    "execution": {
     "iopub.execute_input": "2023-03-05T10:44:11.727504Z",
     "iopub.status.busy": "2023-03-05T10:44:11.726053Z",
     "iopub.status.idle": "2023-03-05T10:44:11.734758Z",
     "shell.execute_reply": "2023-03-05T10:44:11.732774Z"
    },
    "papermill": {
     "duration": 0.032575,
     "end_time": "2023-03-05T10:44:11.737580",
     "exception": false,
     "start_time": "2023-03-05T10:44:11.705005",
     "status": "completed"
    },
    "tags": []
   },
   "outputs": [
    {
     "name": "stdout",
     "output_type": "stream",
     "text": [
      "['workclass', 'education', 'marital_status', 'occupation', 'relationship', 'race', 'sex', 'native_country', 'income'] 9\n"
     ]
    }
   ],
   "source": [
    "# categorical columns\n",
    "categorical =[var for var in df.columns if df[var].dtype=='O']\n",
    "print(categorical,len(categorical))"
   ]
  },
  {
   "cell_type": "code",
   "execution_count": 7,
   "id": "ff3c6ff0",
   "metadata": {
    "execution": {
     "iopub.execute_input": "2023-03-05T10:44:11.772750Z",
     "iopub.status.busy": "2023-03-05T10:44:11.771862Z",
     "iopub.status.idle": "2023-03-05T10:44:11.791776Z",
     "shell.execute_reply": "2023-03-05T10:44:11.790378Z"
    },
    "papermill": {
     "duration": 0.040598,
     "end_time": "2023-03-05T10:44:11.794637",
     "exception": false,
     "start_time": "2023-03-05T10:44:11.754039",
     "status": "completed"
    },
    "tags": []
   },
   "outputs": [
    {
     "data": {
      "text/html": [
       "<div>\n",
       "<style scoped>\n",
       "    .dataframe tbody tr th:only-of-type {\n",
       "        vertical-align: middle;\n",
       "    }\n",
       "\n",
       "    .dataframe tbody tr th {\n",
       "        vertical-align: top;\n",
       "    }\n",
       "\n",
       "    .dataframe thead th {\n",
       "        text-align: right;\n",
       "    }\n",
       "</style>\n",
       "<table border=\"1\" class=\"dataframe\">\n",
       "  <thead>\n",
       "    <tr style=\"text-align: right;\">\n",
       "      <th></th>\n",
       "      <th>workclass</th>\n",
       "      <th>education</th>\n",
       "      <th>marital_status</th>\n",
       "      <th>occupation</th>\n",
       "      <th>relationship</th>\n",
       "      <th>race</th>\n",
       "      <th>sex</th>\n",
       "      <th>native_country</th>\n",
       "      <th>income</th>\n",
       "    </tr>\n",
       "  </thead>\n",
       "  <tbody>\n",
       "    <tr>\n",
       "      <th>0</th>\n",
       "      <td>Self-emp-not-inc</td>\n",
       "      <td>Bachelors</td>\n",
       "      <td>Married-civ-spouse</td>\n",
       "      <td>Exec-managerial</td>\n",
       "      <td>Husband</td>\n",
       "      <td>White</td>\n",
       "      <td>Male</td>\n",
       "      <td>United-States</td>\n",
       "      <td>&lt;=50K</td>\n",
       "    </tr>\n",
       "    <tr>\n",
       "      <th>1</th>\n",
       "      <td>Private</td>\n",
       "      <td>HS-grad</td>\n",
       "      <td>Divorced</td>\n",
       "      <td>Handlers-cleaners</td>\n",
       "      <td>Not-in-family</td>\n",
       "      <td>White</td>\n",
       "      <td>Male</td>\n",
       "      <td>United-States</td>\n",
       "      <td>&lt;=50K</td>\n",
       "    </tr>\n",
       "    <tr>\n",
       "      <th>2</th>\n",
       "      <td>Private</td>\n",
       "      <td>11th</td>\n",
       "      <td>Married-civ-spouse</td>\n",
       "      <td>Handlers-cleaners</td>\n",
       "      <td>Husband</td>\n",
       "      <td>Black</td>\n",
       "      <td>Male</td>\n",
       "      <td>United-States</td>\n",
       "      <td>&lt;=50K</td>\n",
       "    </tr>\n",
       "    <tr>\n",
       "      <th>3</th>\n",
       "      <td>Private</td>\n",
       "      <td>Bachelors</td>\n",
       "      <td>Married-civ-spouse</td>\n",
       "      <td>Prof-specialty</td>\n",
       "      <td>Wife</td>\n",
       "      <td>Black</td>\n",
       "      <td>Female</td>\n",
       "      <td>Cuba</td>\n",
       "      <td>&lt;=50K</td>\n",
       "    </tr>\n",
       "    <tr>\n",
       "      <th>4</th>\n",
       "      <td>Private</td>\n",
       "      <td>Masters</td>\n",
       "      <td>Married-civ-spouse</td>\n",
       "      <td>Exec-managerial</td>\n",
       "      <td>Wife</td>\n",
       "      <td>White</td>\n",
       "      <td>Female</td>\n",
       "      <td>United-States</td>\n",
       "      <td>&lt;=50K</td>\n",
       "    </tr>\n",
       "  </tbody>\n",
       "</table>\n",
       "</div>"
      ],
      "text/plain": [
       "           workclass   education       marital_status          occupation  \\\n",
       "0   Self-emp-not-inc   Bachelors   Married-civ-spouse     Exec-managerial   \n",
       "1            Private     HS-grad             Divorced   Handlers-cleaners   \n",
       "2            Private        11th   Married-civ-spouse   Handlers-cleaners   \n",
       "3            Private   Bachelors   Married-civ-spouse      Prof-specialty   \n",
       "4            Private     Masters   Married-civ-spouse     Exec-managerial   \n",
       "\n",
       "     relationship    race      sex  native_country  income  \n",
       "0         Husband   White     Male   United-States   <=50K  \n",
       "1   Not-in-family   White     Male   United-States   <=50K  \n",
       "2         Husband   Black     Male   United-States   <=50K  \n",
       "3            Wife   Black   Female            Cuba   <=50K  \n",
       "4            Wife   White   Female   United-States   <=50K  "
      ]
     },
     "execution_count": 7,
     "metadata": {},
     "output_type": "execute_result"
    }
   ],
   "source": [
    "df[categorical].head()"
   ]
  },
  {
   "cell_type": "markdown",
   "id": "0364dc85",
   "metadata": {
    "papermill": {
     "duration": 0.016511,
     "end_time": "2023-03-05T10:44:11.828597",
     "exception": false,
     "start_time": "2023-03-05T10:44:11.812086",
     "status": "completed"
    },
    "tags": []
   },
   "source": [
    "#### Income is the target variable"
   ]
  },
  {
   "cell_type": "code",
   "execution_count": 8,
   "id": "8ca0a130",
   "metadata": {
    "_kg_hide-output": true,
    "execution": {
     "iopub.execute_input": "2023-03-05T10:44:11.864031Z",
     "iopub.status.busy": "2023-03-05T10:44:11.863559Z",
     "iopub.status.idle": "2023-03-05T10:44:11.890697Z",
     "shell.execute_reply": "2023-03-05T10:44:11.889327Z"
    },
    "papermill": {
     "duration": 0.048326,
     "end_time": "2023-03-05T10:44:11.893640",
     "exception": false,
     "start_time": "2023-03-05T10:44:11.845314",
     "status": "completed"
    },
    "tags": []
   },
   "outputs": [
    {
     "data": {
      "text/plain": [
       "age               0\n",
       "workclass         0\n",
       "fnlwgt            0\n",
       "education         0\n",
       "education_num     0\n",
       "marital_status    0\n",
       "occupation        0\n",
       "relationship      0\n",
       "race              0\n",
       "sex               0\n",
       "capital_gain      0\n",
       "capital_loss      0\n",
       "hours_per_week    0\n",
       "native_country    0\n",
       "income            0\n",
       "dtype: int64"
      ]
     },
     "execution_count": 8,
     "metadata": {},
     "output_type": "execute_result"
    }
   ],
   "source": [
    "#Missing values\n",
    "df.isnull().sum()"
   ]
  },
  {
   "cell_type": "code",
   "execution_count": 9,
   "id": "bfabbc74",
   "metadata": {
    "_kg_hide-output": true,
    "execution": {
     "iopub.execute_input": "2023-03-05T10:44:11.931379Z",
     "iopub.status.busy": "2023-03-05T10:44:11.930904Z",
     "iopub.status.idle": "2023-03-05T10:44:11.949434Z",
     "shell.execute_reply": "2023-03-05T10:44:11.946550Z"
    },
    "papermill": {
     "duration": 0.041185,
     "end_time": "2023-03-05T10:44:11.952156",
     "exception": false,
     "start_time": "2023-03-05T10:44:11.910971",
     "status": "completed"
    },
    "tags": []
   },
   "outputs": [
    {
     "name": "stdout",
     "output_type": "stream",
     "text": [
      "<bound method IndexOpsMixin.value_counts of 0         Self-emp-not-inc\n",
      "1                  Private\n",
      "2                  Private\n",
      "3                  Private\n",
      "4                  Private\n",
      "               ...        \n",
      "32555              Private\n",
      "32556              Private\n",
      "32557              Private\n",
      "32558              Private\n",
      "32559         Self-emp-inc\n",
      "Name: workclass, Length: 32560, dtype: object>\n",
      "<bound method IndexOpsMixin.value_counts of 0          Bachelors\n",
      "1            HS-grad\n",
      "2               11th\n",
      "3          Bachelors\n",
      "4            Masters\n",
      "            ...     \n",
      "32555     Assoc-acdm\n",
      "32556        HS-grad\n",
      "32557        HS-grad\n",
      "32558        HS-grad\n",
      "32559        HS-grad\n",
      "Name: education, Length: 32560, dtype: object>\n",
      "<bound method IndexOpsMixin.value_counts of 0         Married-civ-spouse\n",
      "1                   Divorced\n",
      "2         Married-civ-spouse\n",
      "3         Married-civ-spouse\n",
      "4         Married-civ-spouse\n",
      "                ...         \n",
      "32555     Married-civ-spouse\n",
      "32556     Married-civ-spouse\n",
      "32557                Widowed\n",
      "32558          Never-married\n",
      "32559     Married-civ-spouse\n",
      "Name: marital_status, Length: 32560, dtype: object>\n",
      "<bound method IndexOpsMixin.value_counts of 0           Exec-managerial\n",
      "1         Handlers-cleaners\n",
      "2         Handlers-cleaners\n",
      "3            Prof-specialty\n",
      "4           Exec-managerial\n",
      "                ...        \n",
      "32555          Tech-support\n",
      "32556     Machine-op-inspct\n",
      "32557          Adm-clerical\n",
      "32558          Adm-clerical\n",
      "32559       Exec-managerial\n",
      "Name: occupation, Length: 32560, dtype: object>\n",
      "<bound method IndexOpsMixin.value_counts of 0               Husband\n",
      "1         Not-in-family\n",
      "2               Husband\n",
      "3                  Wife\n",
      "4                  Wife\n",
      "              ...      \n",
      "32555              Wife\n",
      "32556           Husband\n",
      "32557         Unmarried\n",
      "32558         Own-child\n",
      "32559              Wife\n",
      "Name: relationship, Length: 32560, dtype: object>\n",
      "<bound method IndexOpsMixin.value_counts of 0         White\n",
      "1         White\n",
      "2         Black\n",
      "3         Black\n",
      "4         White\n",
      "          ...  \n",
      "32555     White\n",
      "32556     White\n",
      "32557     White\n",
      "32558     White\n",
      "32559     White\n",
      "Name: race, Length: 32560, dtype: object>\n",
      "<bound method IndexOpsMixin.value_counts of 0           Male\n",
      "1           Male\n",
      "2           Male\n",
      "3         Female\n",
      "4         Female\n",
      "          ...   \n",
      "32555     Female\n",
      "32556       Male\n",
      "32557     Female\n",
      "32558       Male\n",
      "32559     Female\n",
      "Name: sex, Length: 32560, dtype: object>\n",
      "<bound method IndexOpsMixin.value_counts of 0         United-States\n",
      "1         United-States\n",
      "2         United-States\n",
      "3                  Cuba\n",
      "4         United-States\n",
      "              ...      \n",
      "32555     United-States\n",
      "32556     United-States\n",
      "32557     United-States\n",
      "32558     United-States\n",
      "32559     United-States\n",
      "Name: native_country, Length: 32560, dtype: object>\n",
      "<bound method IndexOpsMixin.value_counts of 0         <=50K\n",
      "1         <=50K\n",
      "2         <=50K\n",
      "3         <=50K\n",
      "4         <=50K\n",
      "          ...  \n",
      "32555     <=50K\n",
      "32556      >50K\n",
      "32557     <=50K\n",
      "32558     <=50K\n",
      "32559      >50K\n",
      "Name: income, Length: 32560, dtype: object>\n"
     ]
    }
   ],
   "source": [
    "## Frequency Counts\n",
    "for var in categorical:\n",
    "    print(df[var].value_counts)"
   ]
  },
  {
   "cell_type": "code",
   "execution_count": 10,
   "id": "506f9319",
   "metadata": {
    "_kg_hide-output": true,
    "execution": {
     "iopub.execute_input": "2023-03-05T10:44:11.988951Z",
     "iopub.status.busy": "2023-03-05T10:44:11.987533Z",
     "iopub.status.idle": "2023-03-05T10:44:12.025537Z",
     "shell.execute_reply": "2023-03-05T10:44:12.022125Z"
    },
    "papermill": {
     "duration": 0.059337,
     "end_time": "2023-03-05T10:44:12.028538",
     "exception": false,
     "start_time": "2023-03-05T10:44:11.969201",
     "status": "completed"
    },
    "tags": []
   },
   "outputs": [
    {
     "name": "stdout",
     "output_type": "stream",
     "text": [
      " Private             0.697052\n",
      " Self-emp-not-inc    0.078041\n",
      " Local-gov           0.064281\n",
      " ?                   0.056388\n",
      " State-gov           0.039834\n",
      " Self-emp-inc        0.034275\n",
      " Federal-gov         0.029484\n",
      " Without-pay         0.000430\n",
      " Never-worked        0.000215\n",
      "Name: workclass, dtype: float64\n",
      " HS-grad         0.322512\n",
      " Some-college    0.223925\n",
      " Bachelors       0.164435\n",
      " Masters         0.052918\n",
      " Assoc-voc       0.042445\n",
      " 11th            0.036087\n",
      " Assoc-acdm      0.032770\n",
      " 10th            0.028655\n",
      " 7th-8th         0.019840\n",
      " Prof-school     0.017690\n",
      " 9th             0.015786\n",
      " 12th            0.013299\n",
      " Doctorate       0.012684\n",
      " 5th-6th         0.010227\n",
      " 1st-4th         0.005160\n",
      " Preschool       0.001566\n",
      "Name: education, dtype: float64\n",
      " Married-civ-spouse       0.459951\n",
      " Never-married            0.328071\n",
      " Divorced                 0.136456\n",
      " Separated                0.031480\n",
      " Widowed                  0.030498\n",
      " Married-spouse-absent    0.012838\n",
      " Married-AF-spouse        0.000706\n",
      "Name: marital_status, dtype: float64\n",
      " Prof-specialty       0.127150\n",
      " Craft-repair         0.125891\n",
      " Exec-managerial      0.124877\n",
      " Adm-clerical         0.115756\n",
      " Sales                0.112101\n",
      " Other-service        0.101198\n",
      " Machine-op-inspct    0.061486\n",
      " ?                    0.056603\n",
      " Transport-moving     0.049048\n",
      " Handlers-cleaners    0.042076\n",
      " Farming-fishing      0.030528\n",
      " Tech-support         0.028501\n",
      " Protective-serv      0.019932\n",
      " Priv-house-serv      0.004576\n",
      " Armed-Forces         0.000276\n",
      "Name: occupation, dtype: float64\n",
      " Husband           0.405190\n",
      " Not-in-family     0.255037\n",
      " Own-child         0.155651\n",
      " Unmarried         0.105835\n",
      " Wife              0.048157\n",
      " Other-relative    0.030129\n",
      "Name: relationship, dtype: float64\n",
      " White                 0.854269\n",
      " Black                 0.095946\n",
      " Asian-Pac-Islander    0.031910\n",
      " Amer-Indian-Eskimo    0.009552\n",
      " Other                 0.008323\n",
      "Name: race, dtype: float64\n",
      " Male      0.669195\n",
      " Female    0.330805\n",
      "Name: sex, dtype: float64\n",
      " United-States                 0.895854\n",
      " Mexico                        0.019748\n",
      " ?                             0.017905\n",
      " Philippines                   0.006081\n",
      " Germany                       0.004208\n",
      " Canada                        0.003716\n",
      " Puerto-Rico                   0.003501\n",
      " El-Salvador                   0.003256\n",
      " India                         0.003071\n",
      " Cuba                          0.002918\n",
      " England                       0.002764\n",
      " Jamaica                       0.002488\n",
      " South                         0.002457\n",
      " China                         0.002303\n",
      " Italy                         0.002242\n",
      " Dominican-Republic            0.002150\n",
      " Vietnam                       0.002058\n",
      " Guatemala                     0.001966\n",
      " Japan                         0.001904\n",
      " Poland                        0.001843\n",
      " Columbia                      0.001812\n",
      " Taiwan                        0.001566\n",
      " Haiti                         0.001351\n",
      " Iran                          0.001321\n",
      " Portugal                      0.001136\n",
      " Nicaragua                     0.001044\n",
      " Peru                          0.000952\n",
      " France                        0.000891\n",
      " Greece                        0.000891\n",
      " Ecuador                       0.000860\n",
      " Ireland                       0.000737\n",
      " Hong                          0.000614\n",
      " Cambodia                      0.000584\n",
      " Trinadad&Tobago               0.000584\n",
      " Laos                          0.000553\n",
      " Thailand                      0.000553\n",
      " Yugoslavia                    0.000491\n",
      " Outlying-US(Guam-USVI-etc)    0.000430\n",
      " Honduras                      0.000399\n",
      " Hungary                       0.000399\n",
      " Scotland                      0.000369\n",
      " Holand-Netherlands            0.000031\n",
      "Name: native_country, dtype: float64\n",
      " <=50K    0.759183\n",
      " >50K     0.240817\n",
      "Name: income, dtype: float64\n"
     ]
    }
   ],
   "source": [
    "# viewing frequency distribution of categorical variables\n",
    "for var in categorical:\n",
    "    print(df[var].value_counts()/np.float(len(df)))"
   ]
  },
  {
   "cell_type": "markdown",
   "id": "88d2636f",
   "metadata": {
    "papermill": {
     "duration": 0.017741,
     "end_time": "2023-03-05T10:44:12.063520",
     "exception": false,
     "start_time": "2023-03-05T10:44:12.045779",
     "status": "completed"
    },
    "tags": []
   },
   "source": [
    "<div id='1'\n",
    "     style = \"display: fill;\n",
    "              border-radius: 10px;\n",
    "              background-color: #AD8B73;\">\n",
    "    <h3 style = \"padding: 15px; \n",
    "                 color: white;\n",
    "                 text-align: left;\n",
    "                 font-family: Trebuchet MS;\">Finding MisLabelled Values\n",
    "    </h3>\n",
    "</div>"
   ]
  },
  {
   "cell_type": "markdown",
   "id": "5a6b0563",
   "metadata": {
    "papermill": {
     "duration": 0.016722,
     "end_time": "2023-03-05T10:44:12.097380",
     "exception": false,
     "start_time": "2023-03-05T10:44:12.080658",
     "status": "completed"
    },
    "tags": []
   },
   "source": [
    " Generally, the missing values are coded as `NaN` and python will detect them with the usual command of `df.isnull().sum()`.\n",
    "\n",
    "But, in this case the missing values are coded as `?`. Python fail to detect these as missing values because it do not consider `?` as missing values. So, I have to replace `?` with `NaN` so that Python can detect these missing values.\n"
   ]
  },
  {
   "cell_type": "code",
   "execution_count": 11,
   "id": "17327778",
   "metadata": {
    "execution": {
     "iopub.execute_input": "2023-03-05T10:44:12.133844Z",
     "iopub.status.busy": "2023-03-05T10:44:12.133379Z",
     "iopub.status.idle": "2023-03-05T10:44:12.144584Z",
     "shell.execute_reply": "2023-03-05T10:44:12.143164Z"
    },
    "papermill": {
     "duration": 0.032922,
     "end_time": "2023-03-05T10:44:12.147244",
     "exception": false,
     "start_time": "2023-03-05T10:44:12.114322",
     "status": "completed"
    },
    "tags": []
   },
   "outputs": [
    {
     "data": {
      "text/plain": [
       "array([' Self-emp-not-inc', ' Private', ' State-gov', ' Federal-gov',\n",
       "       ' Local-gov', ' ?', ' Self-emp-inc', ' Without-pay',\n",
       "       ' Never-worked'], dtype=object)"
      ]
     },
     "execution_count": 11,
     "metadata": {},
     "output_type": "execute_result"
    }
   ],
   "source": [
    "# Checking labels in workclass variable\n",
    "df.workclass.unique()"
   ]
  },
  {
   "cell_type": "code",
   "execution_count": 12,
   "id": "76ab1a0e",
   "metadata": {
    "execution": {
     "iopub.execute_input": "2023-03-05T10:44:12.186517Z",
     "iopub.status.busy": "2023-03-05T10:44:12.185103Z",
     "iopub.status.idle": "2023-03-05T10:44:12.197745Z",
     "shell.execute_reply": "2023-03-05T10:44:12.196274Z"
    },
    "papermill": {
     "duration": 0.03492,
     "end_time": "2023-03-05T10:44:12.200139",
     "exception": false,
     "start_time": "2023-03-05T10:44:12.165219",
     "status": "completed"
    },
    "tags": []
   },
   "outputs": [
    {
     "data": {
      "text/plain": [
       " Private             22696\n",
       " Self-emp-not-inc     2541\n",
       " Local-gov            2093\n",
       " ?                    1836\n",
       " State-gov            1297\n",
       " Self-emp-inc         1116\n",
       " Federal-gov           960\n",
       " Without-pay            14\n",
       " Never-worked            7\n",
       "Name: workclass, dtype: int64"
      ]
     },
     "execution_count": 12,
     "metadata": {},
     "output_type": "execute_result"
    }
   ],
   "source": [
    "# check frequency distribution of values in workclass variable\n",
    "df.workclass.value_counts()"
   ]
  },
  {
   "cell_type": "code",
   "execution_count": 13,
   "id": "7958ca91",
   "metadata": {
    "execution": {
     "iopub.execute_input": "2023-03-05T10:44:12.239465Z",
     "iopub.status.busy": "2023-03-05T10:44:12.238986Z",
     "iopub.status.idle": "2023-03-05T10:44:12.246866Z",
     "shell.execute_reply": "2023-03-05T10:44:12.245421Z"
    },
    "papermill": {
     "duration": 0.030306,
     "end_time": "2023-03-05T10:44:12.249452",
     "exception": false,
     "start_time": "2023-03-05T10:44:12.219146",
     "status": "completed"
    },
    "tags": []
   },
   "outputs": [],
   "source": [
    "# replace '?' values in workclass variable with `NaN`\n",
    "df['workclass'].replace(' ?', np.nan,inplace=True)"
   ]
  },
  {
   "cell_type": "code",
   "execution_count": 14,
   "id": "6d9707ee",
   "metadata": {
    "execution": {
     "iopub.execute_input": "2023-03-05T10:44:12.287215Z",
     "iopub.status.busy": "2023-03-05T10:44:12.286726Z",
     "iopub.status.idle": "2023-03-05T10:44:12.300040Z",
     "shell.execute_reply": "2023-03-05T10:44:12.298710Z"
    },
    "papermill": {
     "duration": 0.035881,
     "end_time": "2023-03-05T10:44:12.302952",
     "exception": false,
     "start_time": "2023-03-05T10:44:12.267071",
     "status": "completed"
    },
    "tags": []
   },
   "outputs": [
    {
     "data": {
      "text/plain": [
       " Private             22696\n",
       " Self-emp-not-inc     2541\n",
       " Local-gov            2093\n",
       " State-gov            1297\n",
       " Self-emp-inc         1116\n",
       " Federal-gov           960\n",
       " Without-pay            14\n",
       " Never-worked            7\n",
       "Name: workclass, dtype: int64"
      ]
     },
     "execution_count": 14,
     "metadata": {},
     "output_type": "execute_result"
    }
   ],
   "source": [
    "# again check the frequency distribution of values in occupation variable\n",
    "df.workclass.value_counts()"
   ]
  },
  {
   "cell_type": "code",
   "execution_count": 15,
   "id": "f4e42703",
   "metadata": {
    "_kg_hide-output": true,
    "execution": {
     "iopub.execute_input": "2023-03-05T10:44:12.342152Z",
     "iopub.status.busy": "2023-03-05T10:44:12.340584Z",
     "iopub.status.idle": "2023-03-05T10:44:12.353799Z",
     "shell.execute_reply": "2023-03-05T10:44:12.352027Z"
    },
    "papermill": {
     "duration": 0.035951,
     "end_time": "2023-03-05T10:44:12.357035",
     "exception": false,
     "start_time": "2023-03-05T10:44:12.321084",
     "status": "completed"
    },
    "tags": []
   },
   "outputs": [
    {
     "data": {
      "text/plain": [
       "array([' Exec-managerial', ' Handlers-cleaners', ' Prof-specialty',\n",
       "       ' Other-service', ' Adm-clerical', ' Sales', ' Craft-repair',\n",
       "       ' Transport-moving', ' Farming-fishing', ' Machine-op-inspct',\n",
       "       ' Tech-support', ' ?', ' Protective-serv', ' Armed-Forces',\n",
       "       ' Priv-house-serv'], dtype=object)"
      ]
     },
     "execution_count": 15,
     "metadata": {},
     "output_type": "execute_result"
    }
   ],
   "source": [
    "# check labels in occupation variable\n",
    "df.occupation.unique()"
   ]
  },
  {
   "cell_type": "code",
   "execution_count": 16,
   "id": "3b63cc73",
   "metadata": {
    "_kg_hide-output": true,
    "execution": {
     "iopub.execute_input": "2023-03-05T10:44:12.395508Z",
     "iopub.status.busy": "2023-03-05T10:44:12.395048Z",
     "iopub.status.idle": "2023-03-05T10:44:12.406265Z",
     "shell.execute_reply": "2023-03-05T10:44:12.404900Z"
    },
    "papermill": {
     "duration": 0.033394,
     "end_time": "2023-03-05T10:44:12.409052",
     "exception": false,
     "start_time": "2023-03-05T10:44:12.375658",
     "status": "completed"
    },
    "tags": []
   },
   "outputs": [
    {
     "data": {
      "text/plain": [
       " Prof-specialty       4140\n",
       " Craft-repair         4099\n",
       " Exec-managerial      4066\n",
       " Adm-clerical         3769\n",
       " Sales                3650\n",
       " Other-service        3295\n",
       " Machine-op-inspct    2002\n",
       " ?                    1843\n",
       " Transport-moving     1597\n",
       " Handlers-cleaners    1370\n",
       " Farming-fishing       994\n",
       " Tech-support          928\n",
       " Protective-serv       649\n",
       " Priv-house-serv       149\n",
       " Armed-Forces            9\n",
       "Name: occupation, dtype: int64"
      ]
     },
     "execution_count": 16,
     "metadata": {},
     "output_type": "execute_result"
    }
   ],
   "source": [
    "# check frequency distribution of values in occupation variable\n",
    "df.occupation.value_counts()"
   ]
  },
  {
   "cell_type": "code",
   "execution_count": 17,
   "id": "a645c2b4",
   "metadata": {
    "execution": {
     "iopub.execute_input": "2023-03-05T10:44:12.446717Z",
     "iopub.status.busy": "2023-03-05T10:44:12.446258Z",
     "iopub.status.idle": "2023-03-05T10:44:12.453551Z",
     "shell.execute_reply": "2023-03-05T10:44:12.452218Z"
    },
    "papermill": {
     "duration": 0.029411,
     "end_time": "2023-03-05T10:44:12.456120",
     "exception": false,
     "start_time": "2023-03-05T10:44:12.426709",
     "status": "completed"
    },
    "tags": []
   },
   "outputs": [],
   "source": [
    "# replace '?' values in occupation variable with `NaN`\n",
    "df['occupation'].replace(' ?', np.nan, inplace=True)"
   ]
  },
  {
   "cell_type": "code",
   "execution_count": 18,
   "id": "c2729224",
   "metadata": {
    "_kg_hide-output": true,
    "execution": {
     "iopub.execute_input": "2023-03-05T10:44:12.493653Z",
     "iopub.status.busy": "2023-03-05T10:44:12.492739Z",
     "iopub.status.idle": "2023-03-05T10:44:12.505269Z",
     "shell.execute_reply": "2023-03-05T10:44:12.503927Z"
    },
    "papermill": {
     "duration": 0.034474,
     "end_time": "2023-03-05T10:44:12.508076",
     "exception": false,
     "start_time": "2023-03-05T10:44:12.473602",
     "status": "completed"
    },
    "tags": []
   },
   "outputs": [
    {
     "data": {
      "text/plain": [
       " Prof-specialty       4140\n",
       " Craft-repair         4099\n",
       " Exec-managerial      4066\n",
       " Adm-clerical         3769\n",
       " Sales                3650\n",
       " Other-service        3295\n",
       " Machine-op-inspct    2002\n",
       " Transport-moving     1597\n",
       " Handlers-cleaners    1370\n",
       " Farming-fishing       994\n",
       " Tech-support          928\n",
       " Protective-serv       649\n",
       " Priv-house-serv       149\n",
       " Armed-Forces            9\n",
       "Name: occupation, dtype: int64"
      ]
     },
     "execution_count": 18,
     "metadata": {},
     "output_type": "execute_result"
    }
   ],
   "source": [
    "# again check the frequency distribution of values in occupation variable\n",
    "df.occupation.value_counts()"
   ]
  },
  {
   "cell_type": "code",
   "execution_count": 19,
   "id": "6d52ae75",
   "metadata": {
    "_kg_hide-output": true,
    "execution": {
     "iopub.execute_input": "2023-03-05T10:44:12.546531Z",
     "iopub.status.busy": "2023-03-05T10:44:12.546063Z",
     "iopub.status.idle": "2023-03-05T10:44:12.556401Z",
     "shell.execute_reply": "2023-03-05T10:44:12.555205Z"
    },
    "papermill": {
     "duration": 0.032766,
     "end_time": "2023-03-05T10:44:12.559176",
     "exception": false,
     "start_time": "2023-03-05T10:44:12.526410",
     "status": "completed"
    },
    "tags": []
   },
   "outputs": [
    {
     "data": {
      "text/plain": [
       "array([' United-States', ' Cuba', ' Jamaica', ' India', ' ?', ' Mexico',\n",
       "       ' South', ' Puerto-Rico', ' Honduras', ' England', ' Canada',\n",
       "       ' Germany', ' Iran', ' Philippines', ' Italy', ' Poland',\n",
       "       ' Columbia', ' Cambodia', ' Thailand', ' Ecuador', ' Laos',\n",
       "       ' Taiwan', ' Haiti', ' Portugal', ' Dominican-Republic',\n",
       "       ' El-Salvador', ' France', ' Guatemala', ' China', ' Japan',\n",
       "       ' Yugoslavia', ' Peru', ' Outlying-US(Guam-USVI-etc)', ' Scotland',\n",
       "       ' Trinadad&Tobago', ' Greece', ' Nicaragua', ' Vietnam', ' Hong',\n",
       "       ' Ireland', ' Hungary', ' Holand-Netherlands'], dtype=object)"
      ]
     },
     "execution_count": 19,
     "metadata": {},
     "output_type": "execute_result"
    }
   ],
   "source": [
    "# check labels in native_country variable\n",
    "df.native_country.unique()"
   ]
  },
  {
   "cell_type": "code",
   "execution_count": 20,
   "id": "26031a49",
   "metadata": {
    "_kg_hide-output": true,
    "execution": {
     "iopub.execute_input": "2023-03-05T10:44:12.598644Z",
     "iopub.status.busy": "2023-03-05T10:44:12.598169Z",
     "iopub.status.idle": "2023-03-05T10:44:12.610161Z",
     "shell.execute_reply": "2023-03-05T10:44:12.608991Z"
    },
    "papermill": {
     "duration": 0.034826,
     "end_time": "2023-03-05T10:44:12.612715",
     "exception": false,
     "start_time": "2023-03-05T10:44:12.577889",
     "status": "completed"
    },
    "tags": []
   },
   "outputs": [
    {
     "data": {
      "text/plain": [
       " United-States                 29169\n",
       " Mexico                          643\n",
       " ?                               583\n",
       " Philippines                     198\n",
       " Germany                         137\n",
       " Canada                          121\n",
       " Puerto-Rico                     114\n",
       " El-Salvador                     106\n",
       " India                           100\n",
       " Cuba                             95\n",
       " England                          90\n",
       " Jamaica                          81\n",
       " South                            80\n",
       " China                            75\n",
       " Italy                            73\n",
       " Dominican-Republic               70\n",
       " Vietnam                          67\n",
       " Guatemala                        64\n",
       " Japan                            62\n",
       " Poland                           60\n",
       " Columbia                         59\n",
       " Taiwan                           51\n",
       " Haiti                            44\n",
       " Iran                             43\n",
       " Portugal                         37\n",
       " Nicaragua                        34\n",
       " Peru                             31\n",
       " France                           29\n",
       " Greece                           29\n",
       " Ecuador                          28\n",
       " Ireland                          24\n",
       " Hong                             20\n",
       " Cambodia                         19\n",
       " Trinadad&Tobago                  19\n",
       " Laos                             18\n",
       " Thailand                         18\n",
       " Yugoslavia                       16\n",
       " Outlying-US(Guam-USVI-etc)       14\n",
       " Honduras                         13\n",
       " Hungary                          13\n",
       " Scotland                         12\n",
       " Holand-Netherlands                1\n",
       "Name: native_country, dtype: int64"
      ]
     },
     "execution_count": 20,
     "metadata": {},
     "output_type": "execute_result"
    }
   ],
   "source": [
    "# check frequency distribution of values in native_country variable\n",
    "df.native_country.value_counts()"
   ]
  },
  {
   "cell_type": "code",
   "execution_count": 21,
   "id": "c0ec4628",
   "metadata": {
    "execution": {
     "iopub.execute_input": "2023-03-05T10:44:12.651548Z",
     "iopub.status.busy": "2023-03-05T10:44:12.650274Z",
     "iopub.status.idle": "2023-03-05T10:44:12.658202Z",
     "shell.execute_reply": "2023-03-05T10:44:12.656867Z"
    },
    "papermill": {
     "duration": 0.029734,
     "end_time": "2023-03-05T10:44:12.660678",
     "exception": false,
     "start_time": "2023-03-05T10:44:12.630944",
     "status": "completed"
    },
    "tags": []
   },
   "outputs": [],
   "source": [
    "# replace '?' values in native_country variable with `NaN`\n",
    "df['native_country'].replace(' ?', np.nan, inplace=True)"
   ]
  },
  {
   "cell_type": "code",
   "execution_count": 22,
   "id": "69c1021a",
   "metadata": {
    "_kg_hide-output": true,
    "execution": {
     "iopub.execute_input": "2023-03-05T10:44:12.699234Z",
     "iopub.status.busy": "2023-03-05T10:44:12.698775Z",
     "iopub.status.idle": "2023-03-05T10:44:12.709961Z",
     "shell.execute_reply": "2023-03-05T10:44:12.708924Z"
    },
    "papermill": {
     "duration": 0.033913,
     "end_time": "2023-03-05T10:44:12.712633",
     "exception": false,
     "start_time": "2023-03-05T10:44:12.678720",
     "status": "completed"
    },
    "tags": []
   },
   "outputs": [
    {
     "data": {
      "text/plain": [
       " United-States                 29169\n",
       " Mexico                          643\n",
       " Philippines                     198\n",
       " Germany                         137\n",
       " Canada                          121\n",
       " Puerto-Rico                     114\n",
       " El-Salvador                     106\n",
       " India                           100\n",
       " Cuba                             95\n",
       " England                          90\n",
       " Jamaica                          81\n",
       " South                            80\n",
       " China                            75\n",
       " Italy                            73\n",
       " Dominican-Republic               70\n",
       " Vietnam                          67\n",
       " Guatemala                        64\n",
       " Japan                            62\n",
       " Poland                           60\n",
       " Columbia                         59\n",
       " Taiwan                           51\n",
       " Haiti                            44\n",
       " Iran                             43\n",
       " Portugal                         37\n",
       " Nicaragua                        34\n",
       " Peru                             31\n",
       " France                           29\n",
       " Greece                           29\n",
       " Ecuador                          28\n",
       " Ireland                          24\n",
       " Hong                             20\n",
       " Cambodia                         19\n",
       " Trinadad&Tobago                  19\n",
       " Laos                             18\n",
       " Thailand                         18\n",
       " Yugoslavia                       16\n",
       " Outlying-US(Guam-USVI-etc)       14\n",
       " Honduras                         13\n",
       " Hungary                          13\n",
       " Scotland                         12\n",
       " Holand-Netherlands                1\n",
       "Name: native_country, dtype: int64"
      ]
     },
     "execution_count": 22,
     "metadata": {},
     "output_type": "execute_result"
    }
   ],
   "source": [
    "# again check the frequency distribution of values in native_country variable\n",
    "df.native_country.value_counts()"
   ]
  },
  {
   "cell_type": "code",
   "execution_count": 23,
   "id": "e8572f15",
   "metadata": {
    "_kg_hide-output": true,
    "execution": {
     "iopub.execute_input": "2023-03-05T10:44:12.752275Z",
     "iopub.status.busy": "2023-03-05T10:44:12.751686Z",
     "iopub.status.idle": "2023-03-05T10:44:12.781410Z",
     "shell.execute_reply": "2023-03-05T10:44:12.780165Z"
    },
    "papermill": {
     "duration": 0.052409,
     "end_time": "2023-03-05T10:44:12.784027",
     "exception": false,
     "start_time": "2023-03-05T10:44:12.731618",
     "status": "completed"
    },
    "tags": []
   },
   "outputs": [
    {
     "data": {
      "text/plain": [
       "workclass         1836\n",
       "education            0\n",
       "marital_status       0\n",
       "occupation        1843\n",
       "relationship         0\n",
       "race                 0\n",
       "sex                  0\n",
       "native_country     583\n",
       "income               0\n",
       "dtype: int64"
      ]
     },
     "execution_count": 23,
     "metadata": {},
     "output_type": "execute_result"
    }
   ],
   "source": [
    "#Checking for missing values \n",
    "df[categorical].isnull().sum()"
   ]
  },
  {
   "cell_type": "markdown",
   "id": "a851c349",
   "metadata": {
    "papermill": {
     "duration": 0.017996,
     "end_time": "2023-03-05T10:44:12.820224",
     "exception": false,
     "start_time": "2023-03-05T10:44:12.802228",
     "status": "completed"
    },
    "tags": []
   },
   "source": [
    "### Number of labels: cardinality\n",
    "\n",
    "\n",
    "The number of labels within a categorical variable is known as **cardinality**. A high number of labels within a variable is known as **high cardinality**. High cardinality may pose some serious problems in the machine learning model. So, I will check for high cardinality."
   ]
  },
  {
   "cell_type": "code",
   "execution_count": 24,
   "id": "3a7f5f33",
   "metadata": {
    "execution": {
     "iopub.execute_input": "2023-03-05T10:44:12.861117Z",
     "iopub.status.busy": "2023-03-05T10:44:12.860422Z",
     "iopub.status.idle": "2023-03-05T10:44:12.888883Z",
     "shell.execute_reply": "2023-03-05T10:44:12.886968Z"
    },
    "papermill": {
     "duration": 0.051932,
     "end_time": "2023-03-05T10:44:12.892070",
     "exception": false,
     "start_time": "2023-03-05T10:44:12.840138",
     "status": "completed"
    },
    "tags": []
   },
   "outputs": [
    {
     "name": "stdout",
     "output_type": "stream",
     "text": [
      "workclass  contains  9  labels\n",
      "education  contains  16  labels\n",
      "marital_status  contains  7  labels\n",
      "occupation  contains  15  labels\n",
      "relationship  contains  6  labels\n",
      "race  contains  5  labels\n",
      "sex  contains  2  labels\n",
      "native_country  contains  42  labels\n",
      "income  contains  2  labels\n"
     ]
    }
   ],
   "source": [
    "# check for cardinality in categorical variables\n",
    "for var in categorical:    \n",
    "    print(var, ' contains ', len(df[var].unique()), ' labels')"
   ]
  },
  {
   "cell_type": "code",
   "execution_count": 25,
   "id": "af013012",
   "metadata": {
    "execution": {
     "iopub.execute_input": "2023-03-05T10:44:12.933957Z",
     "iopub.status.busy": "2023-03-05T10:44:12.933493Z",
     "iopub.status.idle": "2023-03-05T10:44:12.940380Z",
     "shell.execute_reply": "2023-03-05T10:44:12.939096Z"
    },
    "papermill": {
     "duration": 0.032828,
     "end_time": "2023-03-05T10:44:12.944407",
     "exception": false,
     "start_time": "2023-03-05T10:44:12.911579",
     "status": "completed"
    },
    "tags": []
   },
   "outputs": [
    {
     "name": "stdout",
     "output_type": "stream",
     "text": [
      "There are 6 numerical variables\n",
      "\n",
      "The numerical variables are : ['age', 'fnlwgt', 'education_num', 'capital_gain', 'capital_loss', 'hours_per_week']\n"
     ]
    }
   ],
   "source": [
    "# find numerical variables\n",
    "numerical = [var for var in df.columns if df[var].dtype!='O']\n",
    "print('There are {} numerical variables\\n'.format(len(numerical)))\n",
    "print('The numerical variables are :', numerical)"
   ]
  },
  {
   "cell_type": "code",
   "execution_count": 26,
   "id": "e79307b3",
   "metadata": {
    "execution": {
     "iopub.execute_input": "2023-03-05T10:44:12.984194Z",
     "iopub.status.busy": "2023-03-05T10:44:12.983545Z",
     "iopub.status.idle": "2023-03-05T10:44:12.999694Z",
     "shell.execute_reply": "2023-03-05T10:44:12.998307Z"
    },
    "papermill": {
     "duration": 0.039241,
     "end_time": "2023-03-05T10:44:13.002565",
     "exception": false,
     "start_time": "2023-03-05T10:44:12.963324",
     "status": "completed"
    },
    "tags": []
   },
   "outputs": [
    {
     "data": {
      "text/html": [
       "<div>\n",
       "<style scoped>\n",
       "    .dataframe tbody tr th:only-of-type {\n",
       "        vertical-align: middle;\n",
       "    }\n",
       "\n",
       "    .dataframe tbody tr th {\n",
       "        vertical-align: top;\n",
       "    }\n",
       "\n",
       "    .dataframe thead th {\n",
       "        text-align: right;\n",
       "    }\n",
       "</style>\n",
       "<table border=\"1\" class=\"dataframe\">\n",
       "  <thead>\n",
       "    <tr style=\"text-align: right;\">\n",
       "      <th></th>\n",
       "      <th>age</th>\n",
       "      <th>fnlwgt</th>\n",
       "      <th>education_num</th>\n",
       "      <th>capital_gain</th>\n",
       "      <th>capital_loss</th>\n",
       "      <th>hours_per_week</th>\n",
       "    </tr>\n",
       "  </thead>\n",
       "  <tbody>\n",
       "    <tr>\n",
       "      <th>0</th>\n",
       "      <td>50</td>\n",
       "      <td>83311</td>\n",
       "      <td>13</td>\n",
       "      <td>0</td>\n",
       "      <td>0</td>\n",
       "      <td>13</td>\n",
       "    </tr>\n",
       "    <tr>\n",
       "      <th>1</th>\n",
       "      <td>38</td>\n",
       "      <td>215646</td>\n",
       "      <td>9</td>\n",
       "      <td>0</td>\n",
       "      <td>0</td>\n",
       "      <td>40</td>\n",
       "    </tr>\n",
       "    <tr>\n",
       "      <th>2</th>\n",
       "      <td>53</td>\n",
       "      <td>234721</td>\n",
       "      <td>7</td>\n",
       "      <td>0</td>\n",
       "      <td>0</td>\n",
       "      <td>40</td>\n",
       "    </tr>\n",
       "    <tr>\n",
       "      <th>3</th>\n",
       "      <td>28</td>\n",
       "      <td>338409</td>\n",
       "      <td>13</td>\n",
       "      <td>0</td>\n",
       "      <td>0</td>\n",
       "      <td>40</td>\n",
       "    </tr>\n",
       "    <tr>\n",
       "      <th>4</th>\n",
       "      <td>37</td>\n",
       "      <td>284582</td>\n",
       "      <td>14</td>\n",
       "      <td>0</td>\n",
       "      <td>0</td>\n",
       "      <td>40</td>\n",
       "    </tr>\n",
       "  </tbody>\n",
       "</table>\n",
       "</div>"
      ],
      "text/plain": [
       "   age  fnlwgt  education_num  capital_gain  capital_loss  hours_per_week\n",
       "0   50   83311             13             0             0              13\n",
       "1   38  215646              9             0             0              40\n",
       "2   53  234721              7             0             0              40\n",
       "3   28  338409             13             0             0              40\n",
       "4   37  284582             14             0             0              40"
      ]
     },
     "execution_count": 26,
     "metadata": {},
     "output_type": "execute_result"
    }
   ],
   "source": [
    "# view the numerical variables\n",
    "df[numerical].head()"
   ]
  },
  {
   "cell_type": "markdown",
   "id": "487518d0",
   "metadata": {
    "papermill": {
     "duration": 0.01906,
     "end_time": "2023-03-05T10:44:13.040761",
     "exception": false,
     "start_time": "2023-03-05T10:44:13.021701",
     "status": "completed"
    },
    "tags": []
   },
   "source": [
    "<div id='1'\n",
    "     style = \"display: fill;\n",
    "              border-radius: 10px;\n",
    "              background-color: #AD8B73;\">\n",
    "    <h3 style = \"padding: 15px; \n",
    "                 color: white;\n",
    "                 text-align: left;\n",
    "                 font-family: Trebuchet MS;\">Separating Target Variable\n",
    "    </h3>\n",
    "</div>"
   ]
  },
  {
   "cell_type": "code",
   "execution_count": 27,
   "id": "dfd6363b",
   "metadata": {
    "execution": {
     "iopub.execute_input": "2023-03-05T10:44:13.080672Z",
     "iopub.status.busy": "2023-03-05T10:44:13.080220Z",
     "iopub.status.idle": "2023-03-05T10:44:13.092790Z",
     "shell.execute_reply": "2023-03-05T10:44:13.091478Z"
    },
    "papermill": {
     "duration": 0.035716,
     "end_time": "2023-03-05T10:44:13.095471",
     "exception": false,
     "start_time": "2023-03-05T10:44:13.059755",
     "status": "completed"
    },
    "tags": []
   },
   "outputs": [],
   "source": [
    "#Declaring Dependent and Independent variables\n",
    "X = df.drop(['income'],axis=1)\n",
    "y = df['income']"
   ]
  },
  {
   "cell_type": "markdown",
   "id": "03a9909b",
   "metadata": {
    "papermill": {
     "duration": 0.018482,
     "end_time": "2023-03-05T10:44:13.133174",
     "exception": false,
     "start_time": "2023-03-05T10:44:13.114692",
     "status": "completed"
    },
    "tags": []
   },
   "source": [
    "<div id='1'\n",
    "     style = \"display: fill;\n",
    "              border-radius: 10px;\n",
    "              background-color: #AD8B73;\">\n",
    "    <h3 style = \"padding: 15px; \n",
    "                 color: white;\n",
    "                 text-align: left;\n",
    "                 font-family: Trebuchet MS;\"> Splitting Training and Testing Dataset\n",
    "    </h3>\n",
    "</div>"
   ]
  },
  {
   "cell_type": "code",
   "execution_count": 28,
   "id": "7ce0ae6d",
   "metadata": {
    "execution": {
     "iopub.execute_input": "2023-03-05T10:44:13.173320Z",
     "iopub.status.busy": "2023-03-05T10:44:13.172361Z",
     "iopub.status.idle": "2023-03-05T10:44:13.495207Z",
     "shell.execute_reply": "2023-03-05T10:44:13.493403Z"
    },
    "papermill": {
     "duration": 0.347149,
     "end_time": "2023-03-05T10:44:13.499062",
     "exception": false,
     "start_time": "2023-03-05T10:44:13.151913",
     "status": "completed"
    },
    "tags": []
   },
   "outputs": [],
   "source": [
    "#Splitting x and y into training and testing datasets\n",
    "from sklearn.model_selection import train_test_split\n",
    "X_train,X_test,y_train,y_test = train_test_split(X,y, test_size=0.2,random_state=4)"
   ]
  },
  {
   "cell_type": "code",
   "execution_count": 29,
   "id": "a96fa978",
   "metadata": {
    "execution": {
     "iopub.execute_input": "2023-03-05T10:44:13.550034Z",
     "iopub.status.busy": "2023-03-05T10:44:13.549277Z",
     "iopub.status.idle": "2023-03-05T10:44:13.557368Z",
     "shell.execute_reply": "2023-03-05T10:44:13.556102Z"
    },
    "papermill": {
     "duration": 0.03978,
     "end_time": "2023-03-05T10:44:13.559928",
     "exception": false,
     "start_time": "2023-03-05T10:44:13.520148",
     "status": "completed"
    },
    "tags": []
   },
   "outputs": [
    {
     "data": {
      "text/plain": [
       "((26048, 14), (6512, 14))"
      ]
     },
     "execution_count": 29,
     "metadata": {},
     "output_type": "execute_result"
    }
   ],
   "source": [
    "#checking the shape of X_train and X_test\n",
    "X_train.shape, X_test.shape"
   ]
  },
  {
   "cell_type": "markdown",
   "id": "0198cab5",
   "metadata": {
    "papermill": {
     "duration": 0.02077,
     "end_time": "2023-03-05T10:44:13.601269",
     "exception": false,
     "start_time": "2023-03-05T10:44:13.580499",
     "status": "completed"
    },
    "tags": []
   },
   "source": [
    "<div id='1'\n",
    "     style = \"display: fill;\n",
    "              border-radius: 10px;\n",
    "              background-color: #AD8B73;\">\n",
    "    <h3 style = \"padding: 15px; \n",
    "                 color: white;\n",
    "                 text-align: left;\n",
    "                 font-family: Trebuchet MS;\"> Filling Missing Values\n",
    "    </h3>\n",
    "</div>"
   ]
  },
  {
   "cell_type": "code",
   "execution_count": 30,
   "id": "a99c8905",
   "metadata": {
    "_kg_hide-output": true,
    "execution": {
     "iopub.execute_input": "2023-03-05T10:44:13.643125Z",
     "iopub.status.busy": "2023-03-05T10:44:13.642569Z",
     "iopub.status.idle": "2023-03-05T10:44:13.654152Z",
     "shell.execute_reply": "2023-03-05T10:44:13.652703Z"
    },
    "papermill": {
     "duration": 0.035526,
     "end_time": "2023-03-05T10:44:13.656902",
     "exception": false,
     "start_time": "2023-03-05T10:44:13.621376",
     "status": "completed"
    },
    "tags": []
   },
   "outputs": [
    {
     "data": {
      "text/plain": [
       "['workclass',\n",
       " 'education',\n",
       " 'marital_status',\n",
       " 'occupation',\n",
       " 'relationship',\n",
       " 'race',\n",
       " 'sex',\n",
       " 'native_country']"
      ]
     },
     "execution_count": 30,
     "metadata": {},
     "output_type": "execute_result"
    }
   ],
   "source": [
    "# display categorical variables\n",
    "categorical = [col for col in X_train.columns if X_train[col].dtypes == 'O']\n",
    "categorical"
   ]
  },
  {
   "cell_type": "code",
   "execution_count": 31,
   "id": "cbbe6731",
   "metadata": {
    "_kg_hide-output": true,
    "execution": {
     "iopub.execute_input": "2023-03-05T10:44:13.701209Z",
     "iopub.status.busy": "2023-03-05T10:44:13.700101Z",
     "iopub.status.idle": "2023-03-05T10:44:13.710909Z",
     "shell.execute_reply": "2023-03-05T10:44:13.709259Z"
    },
    "papermill": {
     "duration": 0.035463,
     "end_time": "2023-03-05T10:44:13.713772",
     "exception": false,
     "start_time": "2023-03-05T10:44:13.678309",
     "status": "completed"
    },
    "tags": []
   },
   "outputs": [
    {
     "data": {
      "text/plain": [
       "['age',\n",
       " 'fnlwgt',\n",
       " 'education_num',\n",
       " 'capital_gain',\n",
       " 'capital_loss',\n",
       " 'hours_per_week']"
      ]
     },
     "execution_count": 31,
     "metadata": {},
     "output_type": "execute_result"
    }
   ],
   "source": [
    "# display numerical variables\n",
    "numerical = [col for col in X_train.columns if X_train[col].dtypes != 'O']\n",
    "numerical"
   ]
  },
  {
   "cell_type": "code",
   "execution_count": 32,
   "id": "96f877c9",
   "metadata": {
    "_kg_hide-output": true,
    "execution": {
     "iopub.execute_input": "2023-03-05T10:44:13.757695Z",
     "iopub.status.busy": "2023-03-05T10:44:13.756525Z",
     "iopub.status.idle": "2023-03-05T10:44:13.799042Z",
     "shell.execute_reply": "2023-03-05T10:44:13.797362Z"
    },
    "papermill": {
     "duration": 0.069458,
     "end_time": "2023-03-05T10:44:13.803136",
     "exception": false,
     "start_time": "2023-03-05T10:44:13.733678",
     "status": "completed"
    },
    "tags": []
   },
   "outputs": [
    {
     "data": {
      "text/plain": [
       "workclass         0.056319\n",
       "education         0.000000\n",
       "marital_status    0.000000\n",
       "occupation        0.056588\n",
       "relationship      0.000000\n",
       "race              0.000000\n",
       "sex               0.000000\n",
       "native_country    0.017621\n",
       "dtype: float64"
      ]
     },
     "execution_count": 32,
     "metadata": {},
     "output_type": "execute_result"
    }
   ],
   "source": [
    "# print percentage of missing values in the categorical variables in training set\n",
    "X_train[categorical].isnull().mean()"
   ]
  },
  {
   "cell_type": "code",
   "execution_count": 33,
   "id": "f764bded",
   "metadata": {
    "execution": {
     "iopub.execute_input": "2023-03-05T10:44:13.855989Z",
     "iopub.status.busy": "2023-03-05T10:44:13.855056Z",
     "iopub.status.idle": "2023-03-05T10:44:13.895305Z",
     "shell.execute_reply": "2023-03-05T10:44:13.892987Z"
    },
    "papermill": {
     "duration": 0.064851,
     "end_time": "2023-03-05T10:44:13.898213",
     "exception": false,
     "start_time": "2023-03-05T10:44:13.833362",
     "status": "completed"
    },
    "tags": []
   },
   "outputs": [
    {
     "name": "stdout",
     "output_type": "stream",
     "text": [
      "workclass 0.056319103194103194\n",
      "occupation 0.056587837837837836\n",
      "native_country 0.017621314496314495\n"
     ]
    }
   ],
   "source": [
    "# print categorical variables with missing data\n",
    "for col in categorical:\n",
    "    if X_train[col].isnull().mean()>0:\n",
    "        print(col, (X_train[col].isnull().mean()))"
   ]
  },
  {
   "cell_type": "code",
   "execution_count": 34,
   "id": "e94fc601",
   "metadata": {
    "execution": {
     "iopub.execute_input": "2023-03-05T10:44:13.950852Z",
     "iopub.status.busy": "2023-03-05T10:44:13.949256Z",
     "iopub.status.idle": "2023-03-05T10:44:13.985555Z",
     "shell.execute_reply": "2023-03-05T10:44:13.983668Z"
    },
    "papermill": {
     "duration": 0.06699,
     "end_time": "2023-03-05T10:44:13.988833",
     "exception": false,
     "start_time": "2023-03-05T10:44:13.921843",
     "status": "completed"
    },
    "tags": []
   },
   "outputs": [],
   "source": [
    "#impute missing categorical variables with most frequent value\n",
    "for df_c in [X_train,X_test]:\n",
    "    df_c['workclass'].fillna(X_train['workclass'].mode()[0],inplace=True)\n",
    "    df_c['occupation'].fillna(X_train['occupation'].mode()[0],inplace=True)\n",
    "    df_c['native_country'].fillna(X_train['native_country'].mode()[0],inplace=True)"
   ]
  },
  {
   "cell_type": "code",
   "execution_count": 35,
   "id": "2f0991d6",
   "metadata": {
    "execution": {
     "iopub.execute_input": "2023-03-05T10:44:14.035815Z",
     "iopub.status.busy": "2023-03-05T10:44:14.035229Z",
     "iopub.status.idle": "2023-03-05T10:44:14.068255Z",
     "shell.execute_reply": "2023-03-05T10:44:14.066760Z"
    },
    "papermill": {
     "duration": 0.058408,
     "end_time": "2023-03-05T10:44:14.071036",
     "exception": false,
     "start_time": "2023-03-05T10:44:14.012628",
     "status": "completed"
    },
    "tags": []
   },
   "outputs": [
    {
     "data": {
      "text/plain": [
       "age               0\n",
       "workclass         0\n",
       "fnlwgt            0\n",
       "education         0\n",
       "education_num     0\n",
       "marital_status    0\n",
       "occupation        0\n",
       "relationship      0\n",
       "race              0\n",
       "sex               0\n",
       "capital_gain      0\n",
       "capital_loss      0\n",
       "hours_per_week    0\n",
       "native_country    0\n",
       "dtype: int64"
      ]
     },
     "execution_count": 35,
     "metadata": {},
     "output_type": "execute_result"
    }
   ],
   "source": [
    "# check missing values in X_train\n",
    "X_train.isnull().sum()"
   ]
  },
  {
   "cell_type": "code",
   "execution_count": 36,
   "id": "3b86072d",
   "metadata": {
    "execution": {
     "iopub.execute_input": "2023-03-05T10:44:14.113824Z",
     "iopub.status.busy": "2023-03-05T10:44:14.113220Z",
     "iopub.status.idle": "2023-03-05T10:44:14.131076Z",
     "shell.execute_reply": "2023-03-05T10:44:14.129777Z"
    },
    "papermill": {
     "duration": 0.043158,
     "end_time": "2023-03-05T10:44:14.134003",
     "exception": false,
     "start_time": "2023-03-05T10:44:14.090845",
     "status": "completed"
    },
    "tags": []
   },
   "outputs": [
    {
     "data": {
      "text/plain": [
       "age               0\n",
       "workclass         0\n",
       "fnlwgt            0\n",
       "education         0\n",
       "education_num     0\n",
       "marital_status    0\n",
       "occupation        0\n",
       "relationship      0\n",
       "race              0\n",
       "sex               0\n",
       "capital_gain      0\n",
       "capital_loss      0\n",
       "hours_per_week    0\n",
       "native_country    0\n",
       "dtype: int64"
      ]
     },
     "execution_count": 36,
     "metadata": {},
     "output_type": "execute_result"
    }
   ],
   "source": [
    "# check missing values in X_test\n",
    "X_test.isnull().sum()"
   ]
  },
  {
   "cell_type": "markdown",
   "id": "4536ea75",
   "metadata": {
    "papermill": {
     "duration": 0.019649,
     "end_time": "2023-03-05T10:44:14.173743",
     "exception": false,
     "start_time": "2023-03-05T10:44:14.154094",
     "status": "completed"
    },
    "tags": []
   },
   "source": [
    "<div id='1'\n",
    "     style = \"display: fill;\n",
    "              border-radius: 10px;\n",
    "              background-color: #AD8B73;\">\n",
    "    <h3 style = \"padding: 15px; \n",
    "                 color: white;\n",
    "                 text-align: left;\n",
    "                 font-family: Trebuchet MS;\">Encoding Categorical Variables\n",
    "    </h3>\n",
    "</div>"
   ]
  },
  {
   "cell_type": "code",
   "execution_count": 37,
   "id": "0bf23678",
   "metadata": {
    "execution": {
     "iopub.execute_input": "2023-03-05T10:44:14.217515Z",
     "iopub.status.busy": "2023-03-05T10:44:14.216908Z",
     "iopub.status.idle": "2023-03-05T10:44:15.472173Z",
     "shell.execute_reply": "2023-03-05T10:44:15.470209Z"
    },
    "papermill": {
     "duration": 1.281488,
     "end_time": "2023-03-05T10:44:15.475518",
     "exception": false,
     "start_time": "2023-03-05T10:44:14.194030",
     "status": "completed"
    },
    "tags": []
   },
   "outputs": [],
   "source": [
    "import category_encoders \n",
    "encoder= category_encoders.OneHotEncoder(cols=categorical)\n",
    "X_train = encoder.fit_transform(X_train)\n",
    "X_test = encoder.transform(X_test)"
   ]
  },
  {
   "cell_type": "code",
   "execution_count": 38,
   "id": "38b6eee9",
   "metadata": {
    "execution": {
     "iopub.execute_input": "2023-03-05T10:44:15.519289Z",
     "iopub.status.busy": "2023-03-05T10:44:15.518807Z",
     "iopub.status.idle": "2023-03-05T10:44:15.540390Z",
     "shell.execute_reply": "2023-03-05T10:44:15.539202Z"
    },
    "papermill": {
     "duration": 0.047348,
     "end_time": "2023-03-05T10:44:15.543228",
     "exception": false,
     "start_time": "2023-03-05T10:44:15.495880",
     "status": "completed"
    },
    "tags": []
   },
   "outputs": [
    {
     "data": {
      "text/html": [
       "<div>\n",
       "<style scoped>\n",
       "    .dataframe tbody tr th:only-of-type {\n",
       "        vertical-align: middle;\n",
       "    }\n",
       "\n",
       "    .dataframe tbody tr th {\n",
       "        vertical-align: top;\n",
       "    }\n",
       "\n",
       "    .dataframe thead th {\n",
       "        text-align: right;\n",
       "    }\n",
       "</style>\n",
       "<table border=\"1\" class=\"dataframe\">\n",
       "  <thead>\n",
       "    <tr style=\"text-align: right;\">\n",
       "      <th></th>\n",
       "      <th>age</th>\n",
       "      <th>workclass_1</th>\n",
       "      <th>workclass_2</th>\n",
       "      <th>workclass_3</th>\n",
       "      <th>workclass_4</th>\n",
       "      <th>workclass_5</th>\n",
       "      <th>workclass_6</th>\n",
       "      <th>workclass_7</th>\n",
       "      <th>workclass_8</th>\n",
       "      <th>fnlwgt</th>\n",
       "      <th>...</th>\n",
       "      <th>native_country_32</th>\n",
       "      <th>native_country_33</th>\n",
       "      <th>native_country_34</th>\n",
       "      <th>native_country_35</th>\n",
       "      <th>native_country_36</th>\n",
       "      <th>native_country_37</th>\n",
       "      <th>native_country_38</th>\n",
       "      <th>native_country_39</th>\n",
       "      <th>native_country_40</th>\n",
       "      <th>native_country_41</th>\n",
       "    </tr>\n",
       "  </thead>\n",
       "  <tbody>\n",
       "    <tr>\n",
       "      <th>22579</th>\n",
       "      <td>55</td>\n",
       "      <td>1</td>\n",
       "      <td>0</td>\n",
       "      <td>0</td>\n",
       "      <td>0</td>\n",
       "      <td>0</td>\n",
       "      <td>0</td>\n",
       "      <td>0</td>\n",
       "      <td>0</td>\n",
       "      <td>162205</td>\n",
       "      <td>...</td>\n",
       "      <td>0</td>\n",
       "      <td>0</td>\n",
       "      <td>0</td>\n",
       "      <td>0</td>\n",
       "      <td>0</td>\n",
       "      <td>0</td>\n",
       "      <td>0</td>\n",
       "      <td>0</td>\n",
       "      <td>0</td>\n",
       "      <td>0</td>\n",
       "    </tr>\n",
       "    <tr>\n",
       "      <th>31673</th>\n",
       "      <td>51</td>\n",
       "      <td>1</td>\n",
       "      <td>0</td>\n",
       "      <td>0</td>\n",
       "      <td>0</td>\n",
       "      <td>0</td>\n",
       "      <td>0</td>\n",
       "      <td>0</td>\n",
       "      <td>0</td>\n",
       "      <td>289436</td>\n",
       "      <td>...</td>\n",
       "      <td>0</td>\n",
       "      <td>0</td>\n",
       "      <td>0</td>\n",
       "      <td>0</td>\n",
       "      <td>0</td>\n",
       "      <td>0</td>\n",
       "      <td>0</td>\n",
       "      <td>0</td>\n",
       "      <td>0</td>\n",
       "      <td>0</td>\n",
       "    </tr>\n",
       "    <tr>\n",
       "      <th>26376</th>\n",
       "      <td>24</td>\n",
       "      <td>0</td>\n",
       "      <td>1</td>\n",
       "      <td>0</td>\n",
       "      <td>0</td>\n",
       "      <td>0</td>\n",
       "      <td>0</td>\n",
       "      <td>0</td>\n",
       "      <td>0</td>\n",
       "      <td>212210</td>\n",
       "      <td>...</td>\n",
       "      <td>0</td>\n",
       "      <td>0</td>\n",
       "      <td>0</td>\n",
       "      <td>0</td>\n",
       "      <td>0</td>\n",
       "      <td>0</td>\n",
       "      <td>0</td>\n",
       "      <td>0</td>\n",
       "      <td>0</td>\n",
       "      <td>0</td>\n",
       "    </tr>\n",
       "    <tr>\n",
       "      <th>5535</th>\n",
       "      <td>54</td>\n",
       "      <td>0</td>\n",
       "      <td>1</td>\n",
       "      <td>0</td>\n",
       "      <td>0</td>\n",
       "      <td>0</td>\n",
       "      <td>0</td>\n",
       "      <td>0</td>\n",
       "      <td>0</td>\n",
       "      <td>186884</td>\n",
       "      <td>...</td>\n",
       "      <td>0</td>\n",
       "      <td>0</td>\n",
       "      <td>0</td>\n",
       "      <td>0</td>\n",
       "      <td>0</td>\n",
       "      <td>0</td>\n",
       "      <td>0</td>\n",
       "      <td>0</td>\n",
       "      <td>0</td>\n",
       "      <td>0</td>\n",
       "    </tr>\n",
       "    <tr>\n",
       "      <th>8693</th>\n",
       "      <td>80</td>\n",
       "      <td>1</td>\n",
       "      <td>0</td>\n",
       "      <td>0</td>\n",
       "      <td>0</td>\n",
       "      <td>0</td>\n",
       "      <td>0</td>\n",
       "      <td>0</td>\n",
       "      <td>0</td>\n",
       "      <td>29020</td>\n",
       "      <td>...</td>\n",
       "      <td>0</td>\n",
       "      <td>0</td>\n",
       "      <td>0</td>\n",
       "      <td>0</td>\n",
       "      <td>0</td>\n",
       "      <td>0</td>\n",
       "      <td>0</td>\n",
       "      <td>0</td>\n",
       "      <td>0</td>\n",
       "      <td>0</td>\n",
       "    </tr>\n",
       "  </tbody>\n",
       "</table>\n",
       "<p>5 rows × 105 columns</p>\n",
       "</div>"
      ],
      "text/plain": [
       "       age  workclass_1  workclass_2  workclass_3  workclass_4  workclass_5  \\\n",
       "22579   55            1            0            0            0            0   \n",
       "31673   51            1            0            0            0            0   \n",
       "26376   24            0            1            0            0            0   \n",
       "5535    54            0            1            0            0            0   \n",
       "8693    80            1            0            0            0            0   \n",
       "\n",
       "       workclass_6  workclass_7  workclass_8  fnlwgt  ...  native_country_32  \\\n",
       "22579            0            0            0  162205  ...                  0   \n",
       "31673            0            0            0  289436  ...                  0   \n",
       "26376            0            0            0  212210  ...                  0   \n",
       "5535             0            0            0  186884  ...                  0   \n",
       "8693             0            0            0   29020  ...                  0   \n",
       "\n",
       "       native_country_33  native_country_34  native_country_35  \\\n",
       "22579                  0                  0                  0   \n",
       "31673                  0                  0                  0   \n",
       "26376                  0                  0                  0   \n",
       "5535                   0                  0                  0   \n",
       "8693                   0                  0                  0   \n",
       "\n",
       "       native_country_36  native_country_37  native_country_38  \\\n",
       "22579                  0                  0                  0   \n",
       "31673                  0                  0                  0   \n",
       "26376                  0                  0                  0   \n",
       "5535                   0                  0                  0   \n",
       "8693                   0                  0                  0   \n",
       "\n",
       "       native_country_39  native_country_40  native_country_41  \n",
       "22579                  0                  0                  0  \n",
       "31673                  0                  0                  0  \n",
       "26376                  0                  0                  0  \n",
       "5535                   0                  0                  0  \n",
       "8693                   0                  0                  0  \n",
       "\n",
       "[5 rows x 105 columns]"
      ]
     },
     "execution_count": 38,
     "metadata": {},
     "output_type": "execute_result"
    }
   ],
   "source": [
    "X_train.head()"
   ]
  },
  {
   "cell_type": "code",
   "execution_count": 39,
   "id": "50ec24cf",
   "metadata": {
    "execution": {
     "iopub.execute_input": "2023-03-05T10:44:15.588463Z",
     "iopub.status.busy": "2023-03-05T10:44:15.587225Z",
     "iopub.status.idle": "2023-03-05T10:44:15.595630Z",
     "shell.execute_reply": "2023-03-05T10:44:15.594324Z"
    },
    "papermill": {
     "duration": 0.033528,
     "end_time": "2023-03-05T10:44:15.598316",
     "exception": false,
     "start_time": "2023-03-05T10:44:15.564788",
     "status": "completed"
    },
    "tags": []
   },
   "outputs": [
    {
     "data": {
      "text/plain": [
       "(6512, 105)"
      ]
     },
     "execution_count": 39,
     "metadata": {},
     "output_type": "execute_result"
    }
   ],
   "source": [
    "X_test.shape"
   ]
  },
  {
   "cell_type": "markdown",
   "id": "d30a7358",
   "metadata": {
    "papermill": {
     "duration": 0.01975,
     "end_time": "2023-03-05T10:44:15.638421",
     "exception": false,
     "start_time": "2023-03-05T10:44:15.618671",
     "status": "completed"
    },
    "tags": []
   },
   "source": [
    "<div id='1'\n",
    "     style = \"display: fill;\n",
    "              border-radius: 10px;\n",
    "              background-color: #AD8B73;\">\n",
    "    <h3 style = \"padding: 15px; \n",
    "                 color: white;\n",
    "                 text-align: left;\n",
    "                 font-family: Trebuchet MS;\">Feature Scaling\n",
    "    </h3>\n",
    "</div>"
   ]
  },
  {
   "cell_type": "code",
   "execution_count": 40,
   "id": "44523268",
   "metadata": {
    "execution": {
     "iopub.execute_input": "2023-03-05T10:44:15.681498Z",
     "iopub.status.busy": "2023-03-05T10:44:15.680054Z",
     "iopub.status.idle": "2023-03-05T10:44:15.780203Z",
     "shell.execute_reply": "2023-03-05T10:44:15.778997Z"
    },
    "papermill": {
     "duration": 0.12419,
     "end_time": "2023-03-05T10:44:15.783014",
     "exception": false,
     "start_time": "2023-03-05T10:44:15.658824",
     "status": "completed"
    },
    "tags": []
   },
   "outputs": [],
   "source": [
    "from sklearn.preprocessing import RobustScaler\n",
    "cols=X_train.columns\n",
    "scaler = RobustScaler()\n",
    "X_train = scaler.fit_transform(X_train)\n",
    "X_test = scaler.transform(X_test)"
   ]
  },
  {
   "cell_type": "code",
   "execution_count": 41,
   "id": "2401ce57",
   "metadata": {
    "execution": {
     "iopub.execute_input": "2023-03-05T10:44:15.827113Z",
     "iopub.status.busy": "2023-03-05T10:44:15.826637Z",
     "iopub.status.idle": "2023-03-05T10:44:15.873481Z",
     "shell.execute_reply": "2023-03-05T10:44:15.872227Z"
    },
    "papermill": {
     "duration": 0.073362,
     "end_time": "2023-03-05T10:44:15.876438",
     "exception": false,
     "start_time": "2023-03-05T10:44:15.803076",
     "status": "completed"
    },
    "tags": []
   },
   "outputs": [
    {
     "data": {
      "text/html": [
       "<div>\n",
       "<style scoped>\n",
       "    .dataframe tbody tr th:only-of-type {\n",
       "        vertical-align: middle;\n",
       "    }\n",
       "\n",
       "    .dataframe tbody tr th {\n",
       "        vertical-align: top;\n",
       "    }\n",
       "\n",
       "    .dataframe thead tr th {\n",
       "        text-align: left;\n",
       "    }\n",
       "</style>\n",
       "<table border=\"1\" class=\"dataframe\">\n",
       "  <thead>\n",
       "    <tr>\n",
       "      <th></th>\n",
       "      <th>age</th>\n",
       "      <th>workclass_1</th>\n",
       "      <th>workclass_2</th>\n",
       "      <th>workclass_3</th>\n",
       "      <th>workclass_4</th>\n",
       "      <th>workclass_5</th>\n",
       "      <th>workclass_6</th>\n",
       "      <th>workclass_7</th>\n",
       "      <th>workclass_8</th>\n",
       "      <th>fnlwgt</th>\n",
       "      <th>...</th>\n",
       "      <th>native_country_32</th>\n",
       "      <th>native_country_33</th>\n",
       "      <th>native_country_34</th>\n",
       "      <th>native_country_35</th>\n",
       "      <th>native_country_36</th>\n",
       "      <th>native_country_37</th>\n",
       "      <th>native_country_38</th>\n",
       "      <th>native_country_39</th>\n",
       "      <th>native_country_40</th>\n",
       "      <th>native_country_41</th>\n",
       "    </tr>\n",
       "  </thead>\n",
       "  <tbody>\n",
       "    <tr>\n",
       "      <th>0</th>\n",
       "      <td>0.90</td>\n",
       "      <td>0.0</td>\n",
       "      <td>0.0</td>\n",
       "      <td>0.0</td>\n",
       "      <td>0.0</td>\n",
       "      <td>0.0</td>\n",
       "      <td>0.0</td>\n",
       "      <td>0.0</td>\n",
       "      <td>0.0</td>\n",
       "      <td>-0.133181</td>\n",
       "      <td>...</td>\n",
       "      <td>0.0</td>\n",
       "      <td>0.0</td>\n",
       "      <td>0.0</td>\n",
       "      <td>0.0</td>\n",
       "      <td>0.0</td>\n",
       "      <td>0.0</td>\n",
       "      <td>0.0</td>\n",
       "      <td>0.0</td>\n",
       "      <td>0.0</td>\n",
       "      <td>0.0</td>\n",
       "    </tr>\n",
       "    <tr>\n",
       "      <th>1</th>\n",
       "      <td>0.70</td>\n",
       "      <td>0.0</td>\n",
       "      <td>0.0</td>\n",
       "      <td>0.0</td>\n",
       "      <td>0.0</td>\n",
       "      <td>0.0</td>\n",
       "      <td>0.0</td>\n",
       "      <td>0.0</td>\n",
       "      <td>0.0</td>\n",
       "      <td>0.936664</td>\n",
       "      <td>...</td>\n",
       "      <td>0.0</td>\n",
       "      <td>0.0</td>\n",
       "      <td>0.0</td>\n",
       "      <td>0.0</td>\n",
       "      <td>0.0</td>\n",
       "      <td>0.0</td>\n",
       "      <td>0.0</td>\n",
       "      <td>0.0</td>\n",
       "      <td>0.0</td>\n",
       "      <td>0.0</td>\n",
       "    </tr>\n",
       "    <tr>\n",
       "      <th>2</th>\n",
       "      <td>-0.65</td>\n",
       "      <td>-1.0</td>\n",
       "      <td>1.0</td>\n",
       "      <td>0.0</td>\n",
       "      <td>0.0</td>\n",
       "      <td>0.0</td>\n",
       "      <td>0.0</td>\n",
       "      <td>0.0</td>\n",
       "      <td>0.0</td>\n",
       "      <td>0.287295</td>\n",
       "      <td>...</td>\n",
       "      <td>0.0</td>\n",
       "      <td>0.0</td>\n",
       "      <td>0.0</td>\n",
       "      <td>0.0</td>\n",
       "      <td>0.0</td>\n",
       "      <td>0.0</td>\n",
       "      <td>0.0</td>\n",
       "      <td>0.0</td>\n",
       "      <td>0.0</td>\n",
       "      <td>0.0</td>\n",
       "    </tr>\n",
       "    <tr>\n",
       "      <th>3</th>\n",
       "      <td>0.85</td>\n",
       "      <td>-1.0</td>\n",
       "      <td>1.0</td>\n",
       "      <td>0.0</td>\n",
       "      <td>0.0</td>\n",
       "      <td>0.0</td>\n",
       "      <td>0.0</td>\n",
       "      <td>0.0</td>\n",
       "      <td>0.0</td>\n",
       "      <td>0.074337</td>\n",
       "      <td>...</td>\n",
       "      <td>0.0</td>\n",
       "      <td>0.0</td>\n",
       "      <td>0.0</td>\n",
       "      <td>0.0</td>\n",
       "      <td>0.0</td>\n",
       "      <td>0.0</td>\n",
       "      <td>0.0</td>\n",
       "      <td>0.0</td>\n",
       "      <td>0.0</td>\n",
       "      <td>0.0</td>\n",
       "    </tr>\n",
       "    <tr>\n",
       "      <th>4</th>\n",
       "      <td>2.15</td>\n",
       "      <td>0.0</td>\n",
       "      <td>0.0</td>\n",
       "      <td>0.0</td>\n",
       "      <td>0.0</td>\n",
       "      <td>0.0</td>\n",
       "      <td>0.0</td>\n",
       "      <td>0.0</td>\n",
       "      <td>0.0</td>\n",
       "      <td>-1.253091</td>\n",
       "      <td>...</td>\n",
       "      <td>0.0</td>\n",
       "      <td>0.0</td>\n",
       "      <td>0.0</td>\n",
       "      <td>0.0</td>\n",
       "      <td>0.0</td>\n",
       "      <td>0.0</td>\n",
       "      <td>0.0</td>\n",
       "      <td>0.0</td>\n",
       "      <td>0.0</td>\n",
       "      <td>0.0</td>\n",
       "    </tr>\n",
       "  </tbody>\n",
       "</table>\n",
       "<p>5 rows × 105 columns</p>\n",
       "</div>"
      ],
      "text/plain": [
       "    age workclass_1 workclass_2 workclass_3 workclass_4 workclass_5  \\\n",
       "0  0.90         0.0         0.0         0.0         0.0         0.0   \n",
       "1  0.70         0.0         0.0         0.0         0.0         0.0   \n",
       "2 -0.65        -1.0         1.0         0.0         0.0         0.0   \n",
       "3  0.85        -1.0         1.0         0.0         0.0         0.0   \n",
       "4  2.15         0.0         0.0         0.0         0.0         0.0   \n",
       "\n",
       "  workclass_6 workclass_7 workclass_8    fnlwgt  ... native_country_32  \\\n",
       "0         0.0         0.0         0.0 -0.133181  ...               0.0   \n",
       "1         0.0         0.0         0.0  0.936664  ...               0.0   \n",
       "2         0.0         0.0         0.0  0.287295  ...               0.0   \n",
       "3         0.0         0.0         0.0  0.074337  ...               0.0   \n",
       "4         0.0         0.0         0.0 -1.253091  ...               0.0   \n",
       "\n",
       "  native_country_33 native_country_34 native_country_35 native_country_36  \\\n",
       "0               0.0               0.0               0.0               0.0   \n",
       "1               0.0               0.0               0.0               0.0   \n",
       "2               0.0               0.0               0.0               0.0   \n",
       "3               0.0               0.0               0.0               0.0   \n",
       "4               0.0               0.0               0.0               0.0   \n",
       "\n",
       "  native_country_37 native_country_38 native_country_39 native_country_40  \\\n",
       "0               0.0               0.0               0.0               0.0   \n",
       "1               0.0               0.0               0.0               0.0   \n",
       "2               0.0               0.0               0.0               0.0   \n",
       "3               0.0               0.0               0.0               0.0   \n",
       "4               0.0               0.0               0.0               0.0   \n",
       "\n",
       "  native_country_41  \n",
       "0               0.0  \n",
       "1               0.0  \n",
       "2               0.0  \n",
       "3               0.0  \n",
       "4               0.0  \n",
       "\n",
       "[5 rows x 105 columns]"
      ]
     },
     "execution_count": 41,
     "metadata": {},
     "output_type": "execute_result"
    }
   ],
   "source": [
    "X_train = pd.DataFrame(X_train, columns=[cols])\n",
    "X_test = pd.DataFrame(X_test, columns=[cols])\n",
    "X_train.head()\n"
   ]
  },
  {
   "cell_type": "markdown",
   "id": "279ec739",
   "metadata": {
    "papermill": {
     "duration": 0.020119,
     "end_time": "2023-03-05T10:44:15.917504",
     "exception": false,
     "start_time": "2023-03-05T10:44:15.897385",
     "status": "completed"
    },
    "tags": []
   },
   "source": [
    "<div id='3'\n",
    "     style = \"display: fill;\n",
    "              border-radius: 10px;\n",
    "              background-color: #B7CADB;\">\n",
    "    <h2 style = \"padding: 15px; \n",
    "                 color: white;\n",
    "                 text-align: left;\n",
    "                 font-family: Trebuchet MS;\">Model Training\n",
    "    </h2>\n",
    "</div>"
   ]
  },
  {
   "cell_type": "code",
   "execution_count": 42,
   "id": "4f49814d",
   "metadata": {
    "execution": {
     "iopub.execute_input": "2023-03-05T10:44:15.961898Z",
     "iopub.status.busy": "2023-03-05T10:44:15.960376Z",
     "iopub.status.idle": "2023-03-05T10:44:16.070661Z",
     "shell.execute_reply": "2023-03-05T10:44:16.069248Z"
    },
    "papermill": {
     "duration": 0.135237,
     "end_time": "2023-03-05T10:44:16.073247",
     "exception": false,
     "start_time": "2023-03-05T10:44:15.938010",
     "status": "completed"
    },
    "tags": []
   },
   "outputs": [
    {
     "data": {
      "text/plain": [
       "GaussianNB()"
      ]
     },
     "execution_count": 42,
     "metadata": {},
     "output_type": "execute_result"
    }
   ],
   "source": [
    "from sklearn.naive_bayes import GaussianNB\n",
    "model= GaussianNB()\n",
    "model.fit(X_train,y_train)"
   ]
  },
  {
   "cell_type": "markdown",
   "id": "b661e942",
   "metadata": {
    "papermill": {
     "duration": 0.021003,
     "end_time": "2023-03-05T10:44:16.114862",
     "exception": false,
     "start_time": "2023-03-05T10:44:16.093859",
     "status": "completed"
    },
    "tags": []
   },
   "source": [
    "<div id='4'\n",
    "     style = \"display: fill;\n",
    "              border-radius: 10px;\n",
    "              background-color: #B7CADB;\">\n",
    "    <h2 style = \"padding: 15px; \n",
    "                 color: white;\n",
    "                 text-align: left;\n",
    "                 font-family: Trebuchet MS;\">Evaluation\n",
    "    </h2>\n",
    "</div>"
   ]
  },
  {
   "cell_type": "markdown",
   "id": "ccaed375",
   "metadata": {
    "papermill": {
     "duration": 0.020687,
     "end_time": "2023-03-05T10:44:16.157948",
     "exception": false,
     "start_time": "2023-03-05T10:44:16.137261",
     "status": "completed"
    },
    "tags": []
   },
   "source": [
    "<div id='1'\n",
    "     style = \"display: fill;\n",
    "              border-radius: 10px;\n",
    "              background-color: #AD8B73;\">\n",
    "    <h3 style = \"padding: 15px; \n",
    "                 color: white;\n",
    "                 text-align: left;\n",
    "                 font-family: Trebuchet MS;\">Accuracy\n",
    "    </h3>\n",
    "</div>"
   ]
  },
  {
   "cell_type": "code",
   "execution_count": 43,
   "id": "b44e6fed",
   "metadata": {
    "execution": {
     "iopub.execute_input": "2023-03-05T10:44:16.202247Z",
     "iopub.status.busy": "2023-03-05T10:44:16.201671Z",
     "iopub.status.idle": "2023-03-05T10:44:16.349822Z",
     "shell.execute_reply": "2023-03-05T10:44:16.348169Z"
    },
    "papermill": {
     "duration": 0.174588,
     "end_time": "2023-03-05T10:44:16.353730",
     "exception": false,
     "start_time": "2023-03-05T10:44:16.179142",
     "status": "completed"
    },
    "tags": []
   },
   "outputs": [
    {
     "name": "stdout",
     "output_type": "stream",
     "text": [
      "Model Accuracy : 0.7990\n",
      "Model Accuracy : 0.8002\n"
     ]
    }
   ],
   "source": [
    "y_pred = model.predict(X_test)\n",
    "y_pred_train = model.predict(X_train)\n",
    "from sklearn.metrics import accuracy_score\n",
    "print(\"Model Accuracy : {0:0.4f}\".format(accuracy_score(y_test,y_pred)))\n",
    "print(\"Model Accuracy : {0:0.4f}\".format(accuracy_score(y_train,y_pred_train)))"
   ]
  },
  {
   "cell_type": "markdown",
   "id": "ca85ad1e",
   "metadata": {
    "papermill": {
     "duration": 0.020435,
     "end_time": "2023-03-05T10:44:16.396471",
     "exception": false,
     "start_time": "2023-03-05T10:44:16.376036",
     "status": "completed"
    },
    "tags": []
   },
   "source": [
    "<div id='1'\n",
    "     style = \"display: fill;\n",
    "              border-radius: 10px;\n",
    "              background-color: #AD8B73;\">\n",
    "    <h3 style = \"padding: 15px; \n",
    "                 color: white;\n",
    "                 text-align: left;\n",
    "                 font-family: Trebuchet MS;\">Confusion Matrix\n",
    "    </h3>\n",
    "</div>"
   ]
  },
  {
   "cell_type": "code",
   "execution_count": 44,
   "id": "d54aed3e",
   "metadata": {
    "_kg_hide-output": true,
    "execution": {
     "iopub.execute_input": "2023-03-05T10:44:16.442999Z",
     "iopub.status.busy": "2023-03-05T10:44:16.442544Z",
     "iopub.status.idle": "2023-03-05T10:44:16.478739Z",
     "shell.execute_reply": "2023-03-05T10:44:16.477167Z"
    },
    "papermill": {
     "duration": 0.064202,
     "end_time": "2023-03-05T10:44:16.481385",
     "exception": false,
     "start_time": "2023-03-05T10:44:16.417183",
     "status": "completed"
    },
    "tags": []
   },
   "outputs": [
    {
     "name": "stdout",
     "output_type": "stream",
     "text": [
      "Confusion Matrix\n",
      "\n",
      " [[3951 1018]\n",
      " [ 291 1252]]\n",
      "\n",
      "True Positives(TP) =  3951\n",
      "\n",
      "True Negatives(TN) =  1252\n",
      "\n",
      "False Positives(FP) =  1018\n",
      "\n",
      "False Negatives(FN) =  291\n"
     ]
    }
   ],
   "source": [
    "from sklearn.metrics import confusion_matrix\n",
    "cm = confusion_matrix(y_test,y_pred)\n",
    "print('Confusion Matrix\\n\\n',cm)\n",
    "print('\\nTrue Positives(TP) = ', cm[0,0])\n",
    "print('\\nTrue Negatives(TN) = ', cm[1,1])\n",
    "print('\\nFalse Positives(FP) = ', cm[0,1])\n",
    "print('\\nFalse Negatives(FN) = ', cm[1,0])"
   ]
  },
  {
   "cell_type": "code",
   "execution_count": 45,
   "id": "12daa2f7",
   "metadata": {
    "execution": {
     "iopub.execute_input": "2023-03-05T10:44:16.526395Z",
     "iopub.status.busy": "2023-03-05T10:44:16.525558Z",
     "iopub.status.idle": "2023-03-05T10:44:16.831895Z",
     "shell.execute_reply": "2023-03-05T10:44:16.830068Z"
    },
    "papermill": {
     "duration": 0.332445,
     "end_time": "2023-03-05T10:44:16.835044",
     "exception": false,
     "start_time": "2023-03-05T10:44:16.502599",
     "status": "completed"
    },
    "tags": []
   },
   "outputs": [
    {
     "data": {
      "text/plain": [
       "<AxesSubplot:>"
      ]
     },
     "execution_count": 45,
     "metadata": {},
     "output_type": "execute_result"
    },
    {
     "data": {
      "image/png": "[encoded data removed]",
      "text/plain": [
       "<Figure size 640x480 with 2 Axes>"
      ]
     },
     "metadata": {},
     "output_type": "display_data"
    }
   ],
   "source": [
    "sns.heatmap(cm,annot= True, fmt='d', cmap='rocket')"
   ]
  },
  {
   "cell_type": "markdown",
   "id": "4076b27d",
   "metadata": {
    "papermill": {
     "duration": 0.020759,
     "end_time": "2023-03-05T10:44:16.877475",
     "exception": false,
     "start_time": "2023-03-05T10:44:16.856716",
     "status": "completed"
    },
    "tags": []
   },
   "source": [
    "<div id='1'\n",
    "     style = \"display: fill;\n",
    "              border-radius: 10px;\n",
    "              background-color: #AD8B73;\">\n",
    "    <h3 style = \"padding: 15px; \n",
    "                 color: white;\n",
    "                 text-align: left;\n",
    "                 font-family: Trebuchet MS;\"> Classification Report\n",
    "    </h3>\n",
    "</div>"
   ]
  },
  {
   "cell_type": "code",
   "execution_count": 46,
   "id": "e2d501ad",
   "metadata": {
    "execution": {
     "iopub.execute_input": "2023-03-05T10:44:16.922073Z",
     "iopub.status.busy": "2023-03-05T10:44:16.921159Z",
     "iopub.status.idle": "2023-03-05T10:44:17.113683Z",
     "shell.execute_reply": "2023-03-05T10:44:17.111874Z"
    },
    "papermill": {
     "duration": 0.219847,
     "end_time": "2023-03-05T10:44:17.118450",
     "exception": false,
     "start_time": "2023-03-05T10:44:16.898603",
     "status": "completed"
    },
    "tags": []
   },
   "outputs": [
    {
     "name": "stdout",
     "output_type": "stream",
     "text": [
      "              precision    recall  f1-score   support\n",
      "\n",
      "       <=50K       0.93      0.80      0.86      4969\n",
      "        >50K       0.55      0.81      0.66      1543\n",
      "\n",
      "    accuracy                           0.80      6512\n",
      "   macro avg       0.74      0.80      0.76      6512\n",
      "weighted avg       0.84      0.80      0.81      6512\n",
      "\n"
     ]
    }
   ],
   "source": [
    "from sklearn.metrics import classification_report\n",
    "print(classification_report(y_test,y_pred))"
   ]
  },
  {
   "cell_type": "markdown",
   "id": "ebd25359",
   "metadata": {
    "papermill": {
     "duration": 0.022277,
     "end_time": "2023-03-05T10:44:17.163884",
     "exception": false,
     "start_time": "2023-03-05T10:44:17.141607",
     "status": "completed"
    },
    "tags": []
   },
   "source": [
    "<div id='1'\n",
    "     style = \"display: fill;\n",
    "              border-radius: 10px;\n",
    "              background-color: #AD8B73;\">\n",
    "    <h3 style = \"padding: 15px; \n",
    "                 color: white;\n",
    "                 text-align: left;\n",
    "                 font-family: Trebuchet MS;\"> Scores from Confusion Matrix\n",
    "    </h3>\n",
    "</div>"
   ]
  },
  {
   "cell_type": "code",
   "execution_count": 47,
   "id": "b10310ce",
   "metadata": {
    "execution": {
     "iopub.execute_input": "2023-03-05T10:44:17.209701Z",
     "iopub.status.busy": "2023-03-05T10:44:17.208491Z",
     "iopub.status.idle": "2023-03-05T10:44:17.220808Z",
     "shell.execute_reply": "2023-03-05T10:44:17.218993Z"
    },
    "papermill": {
     "duration": 0.039786,
     "end_time": "2023-03-05T10:44:17.224767",
     "exception": false,
     "start_time": "2023-03-05T10:44:17.184981",
     "status": "completed"
    },
    "tags": []
   },
   "outputs": [
    {
     "name": "stdout",
     "output_type": "stream",
     "text": [
      "Classification accuracy : 0.7990\n",
      "Classification error : 0.2010\n",
      "Precision : 0.7951\n",
      "Recall or Sensitivity : 0.9314\n",
      "True Positive Rate : 0.9314\n",
      "False Positive Rate : 0.4485\n",
      "Specificity : 0.5515\n"
     ]
    }
   ],
   "source": [
    "TP = cm[0,0]\n",
    "TN = cm[1,1]\n",
    "FP = cm[0,1]\n",
    "FN = cm[1,0]\n",
    "\n",
    "# print classification accuracy\n",
    "classification_accuracy = (TP + TN) / float(TP + TN + FP + FN)\n",
    "print('Classification accuracy : {0:0.4f}'.format(classification_accuracy))\n",
    "\n",
    "# print classification error\n",
    "classification_error = (FP + FN) / float(TP + TN + FP + FN)\n",
    "print('Classification error : {0:0.4f}'.format(classification_error))\n",
    "\n",
    "# print precision score\n",
    "precision = TP / float(TP + FP)\n",
    "print('Precision : {0:0.4f}'.format(precision))\n",
    "\n",
    "#print recall score\n",
    "recall = TP / float(TP + FN)\n",
    "print('Recall or Sensitivity : {0:0.4f}'.format(recall))\n",
    "\n",
    "#true positive rate\n",
    "true_positive_rate = TP / float(TP + FN)\n",
    "print('True Positive Rate : {0:0.4f}'.format(true_positive_rate))\n",
    "\n",
    "\n",
    "#false positive rate\n",
    "false_positive_rate = FP / float(FP + TN)\n",
    "print('False Positive Rate : {0:0.4f}'.format(false_positive_rate))\n",
    "\n",
    "#Specificity\n",
    "specificity = TN / (TN + FP)\n",
    "print('Specificity : {0:0.4f}'.format(specificity))"
   ]
  },
  {
   "cell_type": "markdown",
   "id": "afc830d6",
   "metadata": {
    "papermill": {
     "duration": 0.022618,
     "end_time": "2023-03-05T10:44:17.269634",
     "exception": false,
     "start_time": "2023-03-05T10:44:17.247016",
     "status": "completed"
    },
    "tags": []
   },
   "source": [
    "<div id='1'\n",
    "     style = \"display: fill;\n",
    "              border-radius: 10px;\n",
    "              background-color: #AD8B73;\">\n",
    "    <h3 style = \"padding: 15px; \n",
    "                 color: white;\n",
    "                 text-align: left;\n",
    "                 font-family: Trebuchet MS;\">ROC Curve\n",
    "    </h3>\n",
    "</div>"
   ]
  },
  {
   "cell_type": "code",
   "execution_count": 48,
   "id": "ce34c59f",
   "metadata": {
    "execution": {
     "iopub.execute_input": "2023-03-05T10:44:17.316126Z",
     "iopub.status.busy": "2023-03-05T10:44:17.315271Z",
     "iopub.status.idle": "2023-03-05T10:44:17.589837Z",
     "shell.execute_reply": "2023-03-05T10:44:17.588237Z"
    },
    "papermill": {
     "duration": 0.301367,
     "end_time": "2023-03-05T10:44:17.593309",
     "exception": false,
     "start_time": "2023-03-05T10:44:17.291942",
     "status": "completed"
    },
    "tags": []
   },
   "outputs": [
    {
     "data": {
      "image/png": "[encoded data removed]",
      "text/plain": [
       "<Figure size 640x480 with 1 Axes>"
      ]
     },
     "metadata": {},
     "output_type": "display_data"
    }
   ],
   "source": [
    "from sklearn import metrics\n",
    "metrics.plot_roc_curve(model,X_test,y_test)\n",
    "plt.show()"
   ]
  },
  {
   "cell_type": "markdown",
   "id": "66cab502",
   "metadata": {
    "papermill": {
     "duration": 0.023144,
     "end_time": "2023-03-05T10:44:17.640507",
     "exception": false,
     "start_time": "2023-03-05T10:44:17.617363",
     "status": "completed"
    },
    "tags": []
   },
   "source": [
    "<div id='1'\n",
    "     style = \"display: fill;\n",
    "              border-radius: 10px;\n",
    "              background-color: #AD8B73;\">\n",
    "    <h3 style = \"padding: 15px; \n",
    "                 color: white;\n",
    "                 text-align: left;\n",
    "                 font-family: Trebuchet MS;\">ROC AUC Score\n",
    "    </h3>\n",
    "</div>"
   ]
  },
  {
   "cell_type": "code",
   "execution_count": 49,
   "id": "7cc83166",
   "metadata": {
    "execution": {
     "iopub.execute_input": "2023-03-05T10:44:17.686552Z",
     "iopub.status.busy": "2023-03-05T10:44:17.686082Z",
     "iopub.status.idle": "2023-03-05T10:44:17.719951Z",
     "shell.execute_reply": "2023-03-05T10:44:17.718442Z"
    },
    "papermill": {
     "duration": 0.060044,
     "end_time": "2023-03-05T10:44:17.722709",
     "exception": false,
     "start_time": "2023-03-05T10:44:17.662665",
     "status": "completed"
    },
    "tags": []
   },
   "outputs": [
    {
     "name": "stdout",
     "output_type": "stream",
     "text": [
      "ROC AUC : 0.8912\n"
     ]
    }
   ],
   "source": [
    "# compute ROC AUC\n",
    "# store the predicted probabilities for class 1 - Probability of >50K\n",
    "\n",
    "y_pred1 = model.predict_proba(X_test)[:, 1]\n",
    "from sklearn.metrics import roc_auc_score\n",
    "\n",
    "ROC_AUC = roc_auc_score(y_test, y_pred1)\n",
    "\n",
    "print('ROC AUC : {:.4f}'.format(ROC_AUC))"
   ]
  },
  {
   "cell_type": "markdown",
   "id": "a4dc5013",
   "metadata": {
    "papermill": {
     "duration": 0.021678,
     "end_time": "2023-03-05T10:44:17.766910",
     "exception": false,
     "start_time": "2023-03-05T10:44:17.745232",
     "status": "completed"
    },
    "tags": []
   },
   "source": [
    "<div id='5'\n",
    "     style = \"display: fill;\n",
    "              border-radius: 10px;\n",
    "              background-color: #B7CADB;\">\n",
    "    <h2 style = \"padding: 15px; \n",
    "                 color: white;\n",
    "                 text-align: left;\n",
    "                 font-family: Trebuchet MS;\">Cross Validation\n",
    "    </h2>\n",
    "</div>"
   ]
  },
  {
   "cell_type": "code",
   "execution_count": 50,
   "id": "8985ff6e",
   "metadata": {
    "execution": {
     "iopub.execute_input": "2023-03-05T10:44:17.815696Z",
     "iopub.status.busy": "2023-03-05T10:44:17.815191Z",
     "iopub.status.idle": "2023-03-05T10:44:19.015581Z",
     "shell.execute_reply": "2023-03-05T10:44:19.014471Z"
    },
    "papermill": {
     "duration": 1.232635,
     "end_time": "2023-03-05T10:44:19.022403",
     "exception": false,
     "start_time": "2023-03-05T10:44:17.789768",
     "status": "completed"
    },
    "tags": []
   },
   "outputs": [
    {
     "name": "stdout",
     "output_type": "stream",
     "text": [
      "Cross-validation scores:[0.80460653 0.79692898 0.80191939 0.80307102 0.78119002 0.79769674\n",
      " 0.79884837 0.80998081 0.80337942 0.79800307]\n"
     ]
    }
   ],
   "source": [
    "# Applying 10-Fold Cross Validation\n",
    "\n",
    "from sklearn.model_selection import cross_val_score\n",
    "\n",
    "scores = cross_val_score(model, X_train, y_train, cv = 10, scoring='accuracy')\n",
    "\n",
    "print('Cross-validation scores:{}'.format(scores))"
   ]
  },
  {
   "cell_type": "code",
   "execution_count": 51,
   "id": "2c300bae",
   "metadata": {
    "execution": {
     "iopub.execute_input": "2023-03-05T10:44:19.081204Z",
     "iopub.status.busy": "2023-03-05T10:44:19.080283Z",
     "iopub.status.idle": "2023-03-05T10:44:19.089998Z",
     "shell.execute_reply": "2023-03-05T10:44:19.088273Z"
    },
    "papermill": {
     "duration": 0.048049,
     "end_time": "2023-03-05T10:44:19.094860",
     "exception": false,
     "start_time": "2023-03-05T10:44:19.046811",
     "status": "completed"
    },
    "tags": []
   },
   "outputs": [
    {
     "name": "stdout",
     "output_type": "stream",
     "text": [
      "Average cross-validation score: 0.7996\n"
     ]
    }
   ],
   "source": [
    "# compute Average cross-validation score\n",
    "\n",
    "print('Average cross-validation score: {:.4f}'.format(scores.mean()))"
   ]
  },
  {
   "cell_type": "code",
   "execution_count": null,
   "id": "2b316df6",
   "metadata": {
    "papermill": {
     "duration": 0.022369,
     "end_time": "2023-03-05T10:44:19.143454",
     "exception": false,
     "start_time": "2023-03-05T10:44:19.121085",
     "status": "completed"
    },
    "tags": []
   },
   "outputs": [],
   "source": []
  }
 ],
 "metadata": {
  "kernelspec": {
   "display_name": "Python 3",
   "language": "python",
   "name": "python3"
  },
  "language_info": {
   "codemirror_mode": {
    "name": "ipython",
    "version": 3
   },
   "file_extension": ".py",
   "mimetype": "text/x-python",
   "name": "python",
   "nbconvert_exporter": "python",
   "pygments_lexer": "ipython3",
   "version": "3.7.12"
  },
  "papermill": {
   "default_parameters": {},
   "duration": 23.483018,
   "end_time": "2023-03-05T10:44:20.391147",
   "environment_variables": {},
   "exception": null,
   "input_path": "__notebook__.ipynb",
   "output_path": "__notebook__.ipynb",
   "parameters": {},
   "start_time": "2023-03-05T10:43:56.908129",
   "version": "2.4.0"
  }
 },
 "nbformat": 4,
 "nbformat_minor": 5
}
