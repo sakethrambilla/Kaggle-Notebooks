{
 "cells": [
  {
   "cell_type": "markdown",
   "id": "6fbf33f3",
   "metadata": {
    "papermill": {
     "duration": 0.008658,
     "end_time": "2023-03-08T09:28:18.893766",
     "exception": false,
     "start_time": "2023-03-08T09:28:18.885108",
     "status": "completed"
    },
    "tags": []
   },
   "source": [
    "<div style=\"padding:20px;color:white;margin:0;font-size:200%;text-align:center;display:fill;border-radius:5px;background-color:#C85C8E;overflow:hidden;font-weight:500\">Heart Disease Prediction Using Adaboost ❤️❤️❤️ </div>\n",
    "\n",
    "\n",
    "\n"
   ]
  },
  {
   "cell_type": "markdown",
   "id": "add732a9",
   "metadata": {
    "papermill": {
     "duration": 0.008639,
     "end_time": "2023-03-08T09:28:18.910179",
     "exception": false,
     "start_time": "2023-03-08T09:28:18.901540",
     "status": "completed"
    },
    "tags": []
   },
   "source": [
    "# **Table of Contents**\n",
    "\n",
    "1.\t[Introduction](#1)\n",
    "2.\t[Data Preprocessing](#2)\n",
    "3.\t[Model Training](#3)\n",
    "4.\t[Evaluation](#4)\n",
    "5.\t[K Fold Cross Validation](#5)\n"
   ]
  },
  {
   "cell_type": "markdown",
   "id": "dc18c02c",
   "metadata": {
    "papermill": {
     "duration": 0.007417,
     "end_time": "2023-03-08T09:28:18.925684",
     "exception": false,
     "start_time": "2023-03-08T09:28:18.918267",
     "status": "completed"
    },
    "tags": []
   },
   "source": [
    "<div id='1'\n",
    "     style = \"display: fill;\n",
    "              border-radius: 10px;\n",
    "              background-color: #B7CADB;\">\n",
    "    <h1 style = \"padding: 15px; \n",
    "                 color: white;\n",
    "                 text-align: left;\n",
    "                 font-family: Trebuchet MS;\">Introduction\n",
    "    </h1>\n",
    "</div>"
   ]
  },
  {
   "cell_type": "markdown",
   "id": "6265e1cd",
   "metadata": {
    "papermill": {
     "duration": 0.00734,
     "end_time": "2023-03-08T09:28:18.940938",
     "exception": false,
     "start_time": "2023-03-08T09:28:18.933598",
     "status": "completed"
    },
    "tags": []
   },
   "source": [
    "<div id='1'\n",
    "     style = \"display: fill;\n",
    "              border-radius: 10px;\n",
    "              background-color: #AD8B73;\">\n",
    "    <h3 style = \"padding: 15px; \n",
    "                 color: white;\n",
    "                 text-align: left;\n",
    "                 font-family: Trebuchet MS;\">Importing Libraries\n",
    "    </h3>\n",
    "</div>"
   ]
  },
  {
   "cell_type": "code",
   "execution_count": 1,
   "id": "c7dcda76",
   "metadata": {
    "_cell_guid": "b1076dfc-b9ad-4769-8c92-a6c4dae69d19",
    "_uuid": "8f2839f25d086af736a60e9eeb907d3b93b6e0e5",
    "execution": {
     "iopub.execute_input": "2023-03-08T09:28:18.958213Z",
     "iopub.status.busy": "2023-03-08T09:28:18.957720Z",
     "iopub.status.idle": "2023-03-08T09:28:20.243599Z",
     "shell.execute_reply": "2023-03-08T09:28:20.242194Z"
    },
    "papermill": {
     "duration": 1.297321,
     "end_time": "2023-03-08T09:28:20.245959",
     "exception": false,
     "start_time": "2023-03-08T09:28:18.948638",
     "status": "completed"
    },
    "tags": []
   },
   "outputs": [
    {
     "name": "stdout",
     "output_type": "stream",
     "text": [
      "/kaggle/input/heart-disease-dataset/heart.csv\n"
     ]
    }
   ],
   "source": [
    "import numpy as np \n",
    "import pandas as pd \n",
    "import matplotlib.pyplot as plt\n",
    "import seaborn as sns\n",
    "from sklearn.ensemble import  AdaBoostClassifier\n",
    "from sklearn.preprocessing import MinMaxScaler\n",
    "%matplotlib inline\n",
    "import os\n",
    "for dirname, _, filenames in os.walk('/kaggle/input'):\n",
    "    for filename in filenames:\n",
    "        print(os.path.join(dirname, filename))\n",
    "from sklearn.model_selection import train_test_split\n",
    "from sklearn.metrics import accuracy_score,classification_report,confusion_matrix,roc_auc_score\n",
    "import warnings\n",
    "warnings.filterwarnings('ignore')"
   ]
  },
  {
   "cell_type": "code",
   "execution_count": 2,
   "id": "3af865d1",
   "metadata": {
    "execution": {
     "iopub.execute_input": "2023-03-08T09:28:20.263522Z",
     "iopub.status.busy": "2023-03-08T09:28:20.263133Z",
     "iopub.status.idle": "2023-03-08T09:28:20.296451Z",
     "shell.execute_reply": "2023-03-08T09:28:20.295487Z"
    },
    "papermill": {
     "duration": 0.045144,
     "end_time": "2023-03-08T09:28:20.299355",
     "exception": false,
     "start_time": "2023-03-08T09:28:20.254211",
     "status": "completed"
    },
    "tags": []
   },
   "outputs": [
    {
     "data": {
      "text/html": [
       "<div>\n",
       "<style scoped>\n",
       "    .dataframe tbody tr th:only-of-type {\n",
       "        vertical-align: middle;\n",
       "    }\n",
       "\n",
       "    .dataframe tbody tr th {\n",
       "        vertical-align: top;\n",
       "    }\n",
       "\n",
       "    .dataframe thead th {\n",
       "        text-align: right;\n",
       "    }\n",
       "</style>\n",
       "<table border=\"1\" class=\"dataframe\">\n",
       "  <thead>\n",
       "    <tr style=\"text-align: right;\">\n",
       "      <th></th>\n",
       "      <th>age</th>\n",
       "      <th>sex</th>\n",
       "      <th>cp</th>\n",
       "      <th>trestbps</th>\n",
       "      <th>chol</th>\n",
       "      <th>fbs</th>\n",
       "      <th>restecg</th>\n",
       "      <th>thalach</th>\n",
       "      <th>exang</th>\n",
       "      <th>oldpeak</th>\n",
       "      <th>slope</th>\n",
       "      <th>ca</th>\n",
       "      <th>thal</th>\n",
       "      <th>target</th>\n",
       "    </tr>\n",
       "  </thead>\n",
       "  <tbody>\n",
       "    <tr>\n",
       "      <th>0</th>\n",
       "      <td>52</td>\n",
       "      <td>1</td>\n",
       "      <td>0</td>\n",
       "      <td>125</td>\n",
       "      <td>212</td>\n",
       "      <td>0</td>\n",
       "      <td>1</td>\n",
       "      <td>168</td>\n",
       "      <td>0</td>\n",
       "      <td>1.0</td>\n",
       "      <td>2</td>\n",
       "      <td>2</td>\n",
       "      <td>3</td>\n",
       "      <td>0</td>\n",
       "    </tr>\n",
       "    <tr>\n",
       "      <th>1</th>\n",
       "      <td>53</td>\n",
       "      <td>1</td>\n",
       "      <td>0</td>\n",
       "      <td>140</td>\n",
       "      <td>203</td>\n",
       "      <td>1</td>\n",
       "      <td>0</td>\n",
       "      <td>155</td>\n",
       "      <td>1</td>\n",
       "      <td>3.1</td>\n",
       "      <td>0</td>\n",
       "      <td>0</td>\n",
       "      <td>3</td>\n",
       "      <td>0</td>\n",
       "    </tr>\n",
       "    <tr>\n",
       "      <th>2</th>\n",
       "      <td>70</td>\n",
       "      <td>1</td>\n",
       "      <td>0</td>\n",
       "      <td>145</td>\n",
       "      <td>174</td>\n",
       "      <td>0</td>\n",
       "      <td>1</td>\n",
       "      <td>125</td>\n",
       "      <td>1</td>\n",
       "      <td>2.6</td>\n",
       "      <td>0</td>\n",
       "      <td>0</td>\n",
       "      <td>3</td>\n",
       "      <td>0</td>\n",
       "    </tr>\n",
       "    <tr>\n",
       "      <th>3</th>\n",
       "      <td>61</td>\n",
       "      <td>1</td>\n",
       "      <td>0</td>\n",
       "      <td>148</td>\n",
       "      <td>203</td>\n",
       "      <td>0</td>\n",
       "      <td>1</td>\n",
       "      <td>161</td>\n",
       "      <td>0</td>\n",
       "      <td>0.0</td>\n",
       "      <td>2</td>\n",
       "      <td>1</td>\n",
       "      <td>3</td>\n",
       "      <td>0</td>\n",
       "    </tr>\n",
       "    <tr>\n",
       "      <th>4</th>\n",
       "      <td>62</td>\n",
       "      <td>0</td>\n",
       "      <td>0</td>\n",
       "      <td>138</td>\n",
       "      <td>294</td>\n",
       "      <td>1</td>\n",
       "      <td>1</td>\n",
       "      <td>106</td>\n",
       "      <td>0</td>\n",
       "      <td>1.9</td>\n",
       "      <td>1</td>\n",
       "      <td>3</td>\n",
       "      <td>2</td>\n",
       "      <td>0</td>\n",
       "    </tr>\n",
       "  </tbody>\n",
       "</table>\n",
       "</div>"
      ],
      "text/plain": [
       "   age  sex  cp  trestbps  chol  fbs  restecg  thalach  exang  oldpeak  slope  \\\n",
       "0   52    1   0       125   212    0        1      168      0      1.0      2   \n",
       "1   53    1   0       140   203    1        0      155      1      3.1      0   \n",
       "2   70    1   0       145   174    0        1      125      1      2.6      0   \n",
       "3   61    1   0       148   203    0        1      161      0      0.0      2   \n",
       "4   62    0   0       138   294    1        1      106      0      1.9      1   \n",
       "\n",
       "   ca  thal  target  \n",
       "0   2     3       0  \n",
       "1   0     3       0  \n",
       "2   0     3       0  \n",
       "3   1     3       0  \n",
       "4   3     2       0  "
      ]
     },
     "execution_count": 2,
     "metadata": {},
     "output_type": "execute_result"
    }
   ],
   "source": [
    "df=pd.read_csv('/kaggle/input/heart-disease-dataset/heart.csv')\n",
    "df.head()"
   ]
  },
  {
   "cell_type": "code",
   "execution_count": 3,
   "id": "a35ff168",
   "metadata": {
    "execution": {
     "iopub.execute_input": "2023-03-08T09:28:20.318754Z",
     "iopub.status.busy": "2023-03-08T09:28:20.318105Z",
     "iopub.status.idle": "2023-03-08T09:28:20.333754Z",
     "shell.execute_reply": "2023-03-08T09:28:20.333065Z"
    },
    "papermill": {
     "duration": 0.02762,
     "end_time": "2023-03-08T09:28:20.335820",
     "exception": false,
     "start_time": "2023-03-08T09:28:20.308200",
     "status": "completed"
    },
    "tags": []
   },
   "outputs": [],
   "source": [
    "# --- Fix Data Types ---\n",
    "lst=['sex', 'cp', 'fbs', 'restecg', 'exang', 'slope', 'ca', 'thal']\n",
    "df[lst] = df[lst].astype(object)"
   ]
  },
  {
   "cell_type": "code",
   "execution_count": 4,
   "id": "88522bd5",
   "metadata": {
    "execution": {
     "iopub.execute_input": "2023-03-08T09:28:20.355048Z",
     "iopub.status.busy": "2023-03-08T09:28:20.354691Z",
     "iopub.status.idle": "2023-03-08T09:28:20.360322Z",
     "shell.execute_reply": "2023-03-08T09:28:20.359490Z"
    },
    "papermill": {
     "duration": 0.01813,
     "end_time": "2023-03-08T09:28:20.362116",
     "exception": false,
     "start_time": "2023-03-08T09:28:20.343986",
     "status": "completed"
    },
    "tags": []
   },
   "outputs": [
    {
     "data": {
      "text/plain": [
       "(1025, 14)"
      ]
     },
     "execution_count": 4,
     "metadata": {},
     "output_type": "execute_result"
    }
   ],
   "source": [
    "df.shape"
   ]
  },
  {
   "cell_type": "code",
   "execution_count": 5,
   "id": "b32031bc",
   "metadata": {
    "_kg_hide-output": true,
    "execution": {
     "iopub.execute_input": "2023-03-08T09:28:20.379866Z",
     "iopub.status.busy": "2023-03-08T09:28:20.379531Z",
     "iopub.status.idle": "2023-03-08T09:28:20.397587Z",
     "shell.execute_reply": "2023-03-08T09:28:20.396314Z"
    },
    "papermill": {
     "duration": 0.029664,
     "end_time": "2023-03-08T09:28:20.399965",
     "exception": false,
     "start_time": "2023-03-08T09:28:20.370301",
     "status": "completed"
    },
    "tags": []
   },
   "outputs": [
    {
     "name": "stdout",
     "output_type": "stream",
     "text": [
      "<class 'pandas.core.frame.DataFrame'>\n",
      "RangeIndex: 1025 entries, 0 to 1024\n",
      "Data columns (total 14 columns):\n",
      " #   Column    Non-Null Count  Dtype  \n",
      "---  ------    --------------  -----  \n",
      " 0   age       1025 non-null   int64  \n",
      " 1   sex       1025 non-null   object \n",
      " 2   cp        1025 non-null   object \n",
      " 3   trestbps  1025 non-null   int64  \n",
      " 4   chol      1025 non-null   int64  \n",
      " 5   fbs       1025 non-null   object \n",
      " 6   restecg   1025 non-null   object \n",
      " 7   thalach   1025 non-null   int64  \n",
      " 8   exang     1025 non-null   object \n",
      " 9   oldpeak   1025 non-null   float64\n",
      " 10  slope     1025 non-null   object \n",
      " 11  ca        1025 non-null   object \n",
      " 12  thal      1025 non-null   object \n",
      " 13  target    1025 non-null   int64  \n",
      "dtypes: float64(1), int64(5), object(8)\n",
      "memory usage: 112.2+ KB\n"
     ]
    }
   ],
   "source": [
    "#Information about dataset\n",
    "df.info()"
   ]
  },
  {
   "cell_type": "markdown",
   "id": "9c2b16ef",
   "metadata": {
    "papermill": {
     "duration": 0.007876,
     "end_time": "2023-03-08T09:28:20.416233",
     "exception": false,
     "start_time": "2023-03-08T09:28:20.408357",
     "status": "completed"
    },
    "tags": []
   },
   "source": [
    "<div id='2'\n",
    "     style = \"display: fill;\n",
    "              border-radius: 10px;\n",
    "              background-color: #B7CADB;\">\n",
    "    <h1 style = \"padding: 15px; \n",
    "                 color: white;\n",
    "                 text-align: left;\n",
    "                 font-family: Trebuchet MS;\"> Data Preprocessing\n",
    "    </h1>\n",
    "</div>"
   ]
  },
  {
   "cell_type": "markdown",
   "id": "c418e83f",
   "metadata": {
    "papermill": {
     "duration": 0.007824,
     "end_time": "2023-03-08T09:28:20.432292",
     "exception": false,
     "start_time": "2023-03-08T09:28:20.424468",
     "status": "completed"
    },
    "tags": []
   },
   "source": [
    "<div id='1'\n",
    "     style = \"display: fill;\n",
    "              border-radius: 10px;\n",
    "              background-color: #AD8B73;\">\n",
    "    <h3 style = \"padding: 15px; \n",
    "                 color: white;\n",
    "                 text-align: left;\n",
    "                 font-family: Trebuchet MS;\">One-Hot Encoding\n",
    "    </h3>\n",
    "</div>"
   ]
  },
  {
   "cell_type": "code",
   "execution_count": 6,
   "id": "2a9e25d2",
   "metadata": {
    "execution": {
     "iopub.execute_input": "2023-03-08T09:28:20.450701Z",
     "iopub.status.busy": "2023-03-08T09:28:20.449612Z",
     "iopub.status.idle": "2023-03-08T09:28:20.478573Z",
     "shell.execute_reply": "2023-03-08T09:28:20.477255Z"
    },
    "papermill": {
     "duration": 0.040126,
     "end_time": "2023-03-08T09:28:20.480630",
     "exception": false,
     "start_time": "2023-03-08T09:28:20.440504",
     "status": "completed"
    },
    "tags": []
   },
   "outputs": [
    {
     "data": {
      "text/html": [
       "<div>\n",
       "<style scoped>\n",
       "    .dataframe tbody tr th:only-of-type {\n",
       "        vertical-align: middle;\n",
       "    }\n",
       "\n",
       "    .dataframe tbody tr th {\n",
       "        vertical-align: top;\n",
       "    }\n",
       "\n",
       "    .dataframe thead th {\n",
       "        text-align: right;\n",
       "    }\n",
       "</style>\n",
       "<table border=\"1\" class=\"dataframe\">\n",
       "  <thead>\n",
       "    <tr style=\"text-align: right;\">\n",
       "      <th></th>\n",
       "      <th>age</th>\n",
       "      <th>sex</th>\n",
       "      <th>trestbps</th>\n",
       "      <th>chol</th>\n",
       "      <th>fbs</th>\n",
       "      <th>restecg</th>\n",
       "      <th>thalach</th>\n",
       "      <th>exang</th>\n",
       "      <th>oldpeak</th>\n",
       "      <th>ca</th>\n",
       "      <th>...</th>\n",
       "      <th>cp_1</th>\n",
       "      <th>cp_2</th>\n",
       "      <th>cp_3</th>\n",
       "      <th>thal_0</th>\n",
       "      <th>thal_1</th>\n",
       "      <th>thal_2</th>\n",
       "      <th>thal_3</th>\n",
       "      <th>slope_0</th>\n",
       "      <th>slope_1</th>\n",
       "      <th>slope_2</th>\n",
       "    </tr>\n",
       "  </thead>\n",
       "  <tbody>\n",
       "    <tr>\n",
       "      <th>0</th>\n",
       "      <td>52</td>\n",
       "      <td>1</td>\n",
       "      <td>125</td>\n",
       "      <td>212</td>\n",
       "      <td>0</td>\n",
       "      <td>1</td>\n",
       "      <td>168</td>\n",
       "      <td>0</td>\n",
       "      <td>1.0</td>\n",
       "      <td>2</td>\n",
       "      <td>...</td>\n",
       "      <td>0</td>\n",
       "      <td>0</td>\n",
       "      <td>0</td>\n",
       "      <td>0</td>\n",
       "      <td>0</td>\n",
       "      <td>0</td>\n",
       "      <td>1</td>\n",
       "      <td>0</td>\n",
       "      <td>0</td>\n",
       "      <td>1</td>\n",
       "    </tr>\n",
       "    <tr>\n",
       "      <th>1</th>\n",
       "      <td>53</td>\n",
       "      <td>1</td>\n",
       "      <td>140</td>\n",
       "      <td>203</td>\n",
       "      <td>1</td>\n",
       "      <td>0</td>\n",
       "      <td>155</td>\n",
       "      <td>1</td>\n",
       "      <td>3.1</td>\n",
       "      <td>0</td>\n",
       "      <td>...</td>\n",
       "      <td>0</td>\n",
       "      <td>0</td>\n",
       "      <td>0</td>\n",
       "      <td>0</td>\n",
       "      <td>0</td>\n",
       "      <td>0</td>\n",
       "      <td>1</td>\n",
       "      <td>1</td>\n",
       "      <td>0</td>\n",
       "      <td>0</td>\n",
       "    </tr>\n",
       "    <tr>\n",
       "      <th>2</th>\n",
       "      <td>70</td>\n",
       "      <td>1</td>\n",
       "      <td>145</td>\n",
       "      <td>174</td>\n",
       "      <td>0</td>\n",
       "      <td>1</td>\n",
       "      <td>125</td>\n",
       "      <td>1</td>\n",
       "      <td>2.6</td>\n",
       "      <td>0</td>\n",
       "      <td>...</td>\n",
       "      <td>0</td>\n",
       "      <td>0</td>\n",
       "      <td>0</td>\n",
       "      <td>0</td>\n",
       "      <td>0</td>\n",
       "      <td>0</td>\n",
       "      <td>1</td>\n",
       "      <td>1</td>\n",
       "      <td>0</td>\n",
       "      <td>0</td>\n",
       "    </tr>\n",
       "    <tr>\n",
       "      <th>3</th>\n",
       "      <td>61</td>\n",
       "      <td>1</td>\n",
       "      <td>148</td>\n",
       "      <td>203</td>\n",
       "      <td>0</td>\n",
       "      <td>1</td>\n",
       "      <td>161</td>\n",
       "      <td>0</td>\n",
       "      <td>0.0</td>\n",
       "      <td>1</td>\n",
       "      <td>...</td>\n",
       "      <td>0</td>\n",
       "      <td>0</td>\n",
       "      <td>0</td>\n",
       "      <td>0</td>\n",
       "      <td>0</td>\n",
       "      <td>0</td>\n",
       "      <td>1</td>\n",
       "      <td>0</td>\n",
       "      <td>0</td>\n",
       "      <td>1</td>\n",
       "    </tr>\n",
       "    <tr>\n",
       "      <th>4</th>\n",
       "      <td>62</td>\n",
       "      <td>0</td>\n",
       "      <td>138</td>\n",
       "      <td>294</td>\n",
       "      <td>1</td>\n",
       "      <td>1</td>\n",
       "      <td>106</td>\n",
       "      <td>0</td>\n",
       "      <td>1.9</td>\n",
       "      <td>3</td>\n",
       "      <td>...</td>\n",
       "      <td>0</td>\n",
       "      <td>0</td>\n",
       "      <td>0</td>\n",
       "      <td>0</td>\n",
       "      <td>0</td>\n",
       "      <td>1</td>\n",
       "      <td>0</td>\n",
       "      <td>0</td>\n",
       "      <td>1</td>\n",
       "      <td>0</td>\n",
       "    </tr>\n",
       "  </tbody>\n",
       "</table>\n",
       "<p>5 rows × 22 columns</p>\n",
       "</div>"
      ],
      "text/plain": [
       "   age sex  trestbps  chol fbs restecg  thalach exang  oldpeak ca  ...  cp_1  \\\n",
       "0   52   1       125   212   0       1      168     0      1.0  2  ...     0   \n",
       "1   53   1       140   203   1       0      155     1      3.1  0  ...     0   \n",
       "2   70   1       145   174   0       1      125     1      2.6  0  ...     0   \n",
       "3   61   1       148   203   0       1      161     0      0.0  1  ...     0   \n",
       "4   62   0       138   294   1       1      106     0      1.9  3  ...     0   \n",
       "\n",
       "   cp_2  cp_3  thal_0  thal_1  thal_2  thal_3  slope_0  slope_1  slope_2  \n",
       "0     0     0       0       0       0       1        0        0        1  \n",
       "1     0     0       0       0       0       1        1        0        0  \n",
       "2     0     0       0       0       0       1        1        0        0  \n",
       "3     0     0       0       0       0       1        0        0        1  \n",
       "4     0     0       0       0       1       0        0        1        0  \n",
       "\n",
       "[5 rows x 22 columns]"
      ]
     },
     "execution_count": 6,
     "metadata": {},
     "output_type": "execute_result"
    }
   ],
   "source": [
    "# categorical columns\n",
    "cp = pd.get_dummies(df['cp'],prefix= 'cp')\n",
    "thal = pd.get_dummies(df['thal'],prefix = 'thal')\n",
    "slope = pd.get_dummies(df['slope'],prefix = 'slope')\n",
    "\n",
    "#merge dummy variables to main data frame\n",
    "frames = [ df,cp,thal,slope]\n",
    "df = pd.concat(frames,axis=1)\n",
    "\n",
    "#Dropping the unnecessory variables\n",
    "df=df.drop(columns = ['cp','thal','slope'])\n",
    "df.head()"
   ]
  },
  {
   "cell_type": "code",
   "execution_count": 7,
   "id": "5b90399f",
   "metadata": {
    "_kg_hide-output": true,
    "execution": {
     "iopub.execute_input": "2023-03-08T09:28:20.499893Z",
     "iopub.status.busy": "2023-03-08T09:28:20.499522Z",
     "iopub.status.idle": "2023-03-08T09:28:20.509490Z",
     "shell.execute_reply": "2023-03-08T09:28:20.508561Z"
    },
    "papermill": {
     "duration": 0.022077,
     "end_time": "2023-03-08T09:28:20.511627",
     "exception": false,
     "start_time": "2023-03-08T09:28:20.489550",
     "status": "completed"
    },
    "tags": []
   },
   "outputs": [
    {
     "data": {
      "text/plain": [
       "age         0\n",
       "sex         0\n",
       "trestbps    0\n",
       "chol        0\n",
       "fbs         0\n",
       "restecg     0\n",
       "thalach     0\n",
       "exang       0\n",
       "oldpeak     0\n",
       "ca          0\n",
       "target      0\n",
       "cp_0        0\n",
       "cp_1        0\n",
       "cp_2        0\n",
       "cp_3        0\n",
       "thal_0      0\n",
       "thal_1      0\n",
       "thal_2      0\n",
       "thal_3      0\n",
       "slope_0     0\n",
       "slope_1     0\n",
       "slope_2     0\n",
       "dtype: int64"
      ]
     },
     "execution_count": 7,
     "metadata": {},
     "output_type": "execute_result"
    }
   ],
   "source": [
    "#Missing values\n",
    "df.isnull().sum()"
   ]
  },
  {
   "cell_type": "markdown",
   "id": "46be7add",
   "metadata": {
    "papermill": {
     "duration": 0.008593,
     "end_time": "2023-03-08T09:28:20.529290",
     "exception": false,
     "start_time": "2023-03-08T09:28:20.520697",
     "status": "completed"
    },
    "tags": []
   },
   "source": [
    "<div id='1'\n",
    "     style = \"display: fill;\n",
    "              border-radius: 10px;\n",
    "              background-color: #AD8B73;\">\n",
    "    <h3 style = \"padding: 15px; \n",
    "                 color: white;\n",
    "                 text-align: left;\n",
    "                 font-family: Trebuchet MS;\">Separating Target Variable\n",
    "    </h3>\n",
    "</div>"
   ]
  },
  {
   "cell_type": "code",
   "execution_count": 8,
   "id": "035326cb",
   "metadata": {
    "execution": {
     "iopub.execute_input": "2023-03-08T09:28:20.548523Z",
     "iopub.status.busy": "2023-03-08T09:28:20.548145Z",
     "iopub.status.idle": "2023-03-08T09:28:20.554081Z",
     "shell.execute_reply": "2023-03-08T09:28:20.553195Z"
    },
    "papermill": {
     "duration": 0.017556,
     "end_time": "2023-03-08T09:28:20.555841",
     "exception": false,
     "start_time": "2023-03-08T09:28:20.538285",
     "status": "completed"
    },
    "tags": []
   },
   "outputs": [],
   "source": [
    "#Declaring Dependent and Independent variables\n",
    "X = df.drop(['target'],axis=1)\n",
    "y = df['target']"
   ]
  },
  {
   "cell_type": "markdown",
   "id": "7491a7c7",
   "metadata": {
    "papermill": {
     "duration": 0.008687,
     "end_time": "2023-03-08T09:28:20.573643",
     "exception": false,
     "start_time": "2023-03-08T09:28:20.564956",
     "status": "completed"
    },
    "tags": []
   },
   "source": [
    "<div id='1'\n",
    "     style = \"display: fill;\n",
    "              border-radius: 10px;\n",
    "              background-color: #AD8B73;\">\n",
    "    <h3 style = \"padding: 15px; \n",
    "                 color: white;\n",
    "                 text-align: left;\n",
    "                 font-family: Trebuchet MS;\">Data Normalization\n",
    "    </h3>\n",
    "</div>"
   ]
  },
  {
   "cell_type": "code",
   "execution_count": 9,
   "id": "9107be93",
   "metadata": {
    "execution": {
     "iopub.execute_input": "2023-03-08T09:28:20.592668Z",
     "iopub.status.busy": "2023-03-08T09:28:20.592311Z",
     "iopub.status.idle": "2023-03-08T09:28:20.602826Z",
     "shell.execute_reply": "2023-03-08T09:28:20.602250Z"
    },
    "papermill": {
     "duration": 0.022532,
     "end_time": "2023-03-08T09:28:20.604955",
     "exception": false,
     "start_time": "2023-03-08T09:28:20.582423",
     "status": "completed"
    },
    "tags": []
   },
   "outputs": [],
   "source": [
    "X = MinMaxScaler().fit_transform(X)"
   ]
  },
  {
   "cell_type": "markdown",
   "id": "d606dda9",
   "metadata": {
    "papermill": {
     "duration": 0.008357,
     "end_time": "2023-03-08T09:28:20.622243",
     "exception": false,
     "start_time": "2023-03-08T09:28:20.613886",
     "status": "completed"
    },
    "tags": []
   },
   "source": [
    "<div id='1'\n",
    "     style = \"display: fill;\n",
    "              border-radius: 10px;\n",
    "              background-color: #AD8B73;\">\n",
    "    <h3 style = \"padding: 15px; \n",
    "                 color: white;\n",
    "                 text-align: left;\n",
    "                 font-family: Trebuchet MS;\"> Splitting Training and Testing Dataset\n",
    "    </h3>\n",
    "</div>"
   ]
  },
  {
   "cell_type": "code",
   "execution_count": 10,
   "id": "0c64cd76",
   "metadata": {
    "execution": {
     "iopub.execute_input": "2023-03-08T09:28:20.640782Z",
     "iopub.status.busy": "2023-03-08T09:28:20.640450Z",
     "iopub.status.idle": "2023-03-08T09:28:20.647309Z",
     "shell.execute_reply": "2023-03-08T09:28:20.646586Z"
    },
    "papermill": {
     "duration": 0.018198,
     "end_time": "2023-03-08T09:28:20.648991",
     "exception": false,
     "start_time": "2023-03-08T09:28:20.630793",
     "status": "completed"
    },
    "tags": []
   },
   "outputs": [],
   "source": [
    "#Splitting x and y into training and testing datasets\n",
    "\n",
    "X_train,X_test,y_train,y_test = train_test_split(X,y, test_size=0.2,random_state=4)"
   ]
  },
  {
   "cell_type": "code",
   "execution_count": 11,
   "id": "989799a6",
   "metadata": {
    "execution": {
     "iopub.execute_input": "2023-03-08T09:28:20.668088Z",
     "iopub.status.busy": "2023-03-08T09:28:20.667493Z",
     "iopub.status.idle": "2023-03-08T09:28:20.672831Z",
     "shell.execute_reply": "2023-03-08T09:28:20.671958Z"
    },
    "papermill": {
     "duration": 0.017145,
     "end_time": "2023-03-08T09:28:20.674843",
     "exception": false,
     "start_time": "2023-03-08T09:28:20.657698",
     "status": "completed"
    },
    "tags": []
   },
   "outputs": [
    {
     "data": {
      "text/plain": [
       "((820, 21), (205, 21))"
      ]
     },
     "execution_count": 11,
     "metadata": {},
     "output_type": "execute_result"
    }
   ],
   "source": [
    "#checking the shape of X_train and X_test\n",
    "X_train.shape, X_test.shape"
   ]
  },
  {
   "cell_type": "markdown",
   "id": "78724ddd",
   "metadata": {
    "papermill": {
     "duration": 0.008166,
     "end_time": "2023-03-08T09:28:20.691678",
     "exception": false,
     "start_time": "2023-03-08T09:28:20.683512",
     "status": "completed"
    },
    "tags": []
   },
   "source": [
    "<div id='3'\n",
    "     style = \"display: fill;\n",
    "              border-radius: 10px;\n",
    "              background-color: #B7CADB;\">\n",
    "    <h1 style = \"padding: 15px; \n",
    "                 color: white;\n",
    "                 text-align: left;\n",
    "                 font-family: Trebuchet MS;\">Model Training\n",
    "    </h1>\n",
    "</div>"
   ]
  },
  {
   "cell_type": "code",
   "execution_count": 12,
   "id": "bfa87cfe",
   "metadata": {
    "execution": {
     "iopub.execute_input": "2023-03-08T09:28:20.710026Z",
     "iopub.status.busy": "2023-03-08T09:28:20.709663Z",
     "iopub.status.idle": "2023-03-08T09:28:20.725227Z",
     "shell.execute_reply": "2023-03-08T09:28:20.723911Z"
    },
    "papermill": {
     "duration": 0.026982,
     "end_time": "2023-03-08T09:28:20.727139",
     "exception": false,
     "start_time": "2023-03-08T09:28:20.700157",
     "status": "completed"
    },
    "tags": []
   },
   "outputs": [
    {
     "name": "stdout",
     "output_type": "stream",
     "text": [
      "AdaBoost Classifier Model Accuracy: 0.848780487804878\n"
     ]
    }
   ],
   "source": [
    "model = AdaBoostClassifier(n_estimators=3)\n",
    "\n",
    "# Train Adaboost Classifer\n",
    "model.fit(X_train, y_train)\n",
    "\n",
    "#Predict the response for test dataset\n",
    "y_pred = model.predict(X_test)\n",
    "print(\"AdaBoost Classifier Model Accuracy:\", accuracy_score(y_test, y_pred))"
   ]
  },
  {
   "cell_type": "markdown",
   "id": "ee60f547",
   "metadata": {
    "papermill": {
     "duration": 0.008374,
     "end_time": "2023-03-08T09:28:20.744696",
     "exception": false,
     "start_time": "2023-03-08T09:28:20.736322",
     "status": "completed"
    },
    "tags": []
   },
   "source": [
    "<div id='1'\n",
    "     style = \"display: fill;\n",
    "              border-radius: 10px;\n",
    "              background-color: #AD8B73;\">\n",
    "    <h3 style = \"padding: 15px; \n",
    "                 color: white;\n",
    "                 text-align: left;\n",
    "                 font-family: Trebuchet MS;\"> Splitting Training and Testing Dataset\n",
    "    </h3>\n",
    "</div>"
   ]
  },
  {
   "cell_type": "code",
   "execution_count": 13,
   "id": "b7196afd",
   "metadata": {
    "execution": {
     "iopub.execute_input": "2023-03-08T09:28:20.764126Z",
     "iopub.status.busy": "2023-03-08T09:28:20.763736Z",
     "iopub.status.idle": "2023-03-08T09:28:26.584474Z",
     "shell.execute_reply": "2023-03-08T09:28:26.583051Z"
    },
    "papermill": {
     "duration": 5.833109,
     "end_time": "2023-03-08T09:28:26.586661",
     "exception": false,
     "start_time": "2023-03-08T09:28:20.753552",
     "status": "completed"
    },
    "tags": []
   },
   "outputs": [
    {
     "name": "stdout",
     "output_type": "stream",
     "text": [
      "Model Accuracy with SVC Base Estimator: 0.7707317073170732\n"
     ]
    }
   ],
   "source": [
    "# import Support Vector Classifier\n",
    "from sklearn.svm import SVC\n",
    "svc=SVC(probability=True, kernel='linear')\n",
    "\n",
    "# create adaboost classifer object\n",
    "model2 =AdaBoostClassifier(n_estimators=50, base_estimator=svc,learning_rate=1, random_state=0)\n",
    "\n",
    "# train adaboost classifer\n",
    "model2.fit(X_train, y_train)\n",
    "\n",
    "# predict test dataset\n",
    "y_pred = model2.predict(X_test)\n",
    "\n",
    "# calculate and print model accuracy\n",
    "print(\"Model Accuracy with SVC Base Estimator:\",accuracy_score(y_test, y_pred))"
   ]
  },
  {
   "cell_type": "markdown",
   "id": "f02057df",
   "metadata": {
    "papermill": {
     "duration": 0.009154,
     "end_time": "2023-03-08T09:28:26.605771",
     "exception": false,
     "start_time": "2023-03-08T09:28:26.596617",
     "status": "completed"
    },
    "tags": []
   },
   "source": [
    "<div id='4'\n",
    "     style = \"display: fill;\n",
    "              border-radius: 10px;\n",
    "              background-color: #B7CADB;\">\n",
    "    <h1 style = \"padding: 15px; \n",
    "                 color: white;\n",
    "                 text-align: left;\n",
    "                 font-family: Trebuchet MS;\">Evaluation\n",
    "    </h1>\n",
    "</div>"
   ]
  },
  {
   "cell_type": "markdown",
   "id": "23c01e15",
   "metadata": {
    "papermill": {
     "duration": 0.009338,
     "end_time": "2023-03-08T09:28:26.624742",
     "exception": false,
     "start_time": "2023-03-08T09:28:26.615404",
     "status": "completed"
    },
    "tags": []
   },
   "source": [
    "<div id='1'\n",
    "     style = \"display: fill;\n",
    "              border-radius: 10px;\n",
    "              background-color: #AD8B73;\">\n",
    "    <h3 style = \"padding: 15px; \n",
    "                 color: white;\n",
    "                 text-align: left;\n",
    "                 font-family: Trebuchet MS;\">Accuracy\n",
    "    </h3>\n",
    "</div>"
   ]
  },
  {
   "cell_type": "code",
   "execution_count": 14,
   "id": "c8a1a289",
   "metadata": {
    "execution": {
     "iopub.execute_input": "2023-03-08T09:28:26.644679Z",
     "iopub.status.busy": "2023-03-08T09:28:26.644335Z",
     "iopub.status.idle": "2023-03-08T09:28:26.655533Z",
     "shell.execute_reply": "2023-03-08T09:28:26.654086Z"
    },
    "papermill": {
     "duration": 0.023282,
     "end_time": "2023-03-08T09:28:26.657449",
     "exception": false,
     "start_time": "2023-03-08T09:28:26.634167",
     "status": "completed"
    },
    "tags": []
   },
   "outputs": [
    {
     "name": "stdout",
     "output_type": "stream",
     "text": [
      "Model Test Accuracy : 0.8488\n",
      "Model Train Accuracy : 0.8476\n"
     ]
    }
   ],
   "source": [
    "y_pred = model.predict(X_test)\n",
    "y_pred_train = model.predict(X_train)\n",
    "from sklearn.metrics import accuracy_score\n",
    "print(\"Model Test Accuracy : {0:0.4f}\".format(accuracy_score(y_test,y_pred)))\n",
    "print(\"Model Train Accuracy : {0:0.4f}\".format(accuracy_score(y_train,y_pred_train)))"
   ]
  },
  {
   "cell_type": "markdown",
   "id": "16d0b9be",
   "metadata": {
    "papermill": {
     "duration": 0.00926,
     "end_time": "2023-03-08T09:28:26.676502",
     "exception": false,
     "start_time": "2023-03-08T09:28:26.667242",
     "status": "completed"
    },
    "tags": []
   },
   "source": [
    "<div id='1'\n",
    "     style = \"display: fill;\n",
    "              border-radius: 10px;\n",
    "              background-color: #AD8B73;\">\n",
    "    <h3 style = \"padding: 15px; \n",
    "                 color: white;\n",
    "                 text-align: left;\n",
    "                 font-family: Trebuchet MS;\">Confusion Matrix\n",
    "    </h3>\n",
    "</div>"
   ]
  },
  {
   "cell_type": "code",
   "execution_count": 15,
   "id": "b6493808",
   "metadata": {
    "_kg_hide-output": true,
    "execution": {
     "iopub.execute_input": "2023-03-08T09:28:26.697273Z",
     "iopub.status.busy": "2023-03-08T09:28:26.696528Z",
     "iopub.status.idle": "2023-03-08T09:28:26.706752Z",
     "shell.execute_reply": "2023-03-08T09:28:26.705226Z"
    },
    "papermill": {
     "duration": 0.023879,
     "end_time": "2023-03-08T09:28:26.709980",
     "exception": false,
     "start_time": "2023-03-08T09:28:26.686101",
     "status": "completed"
    },
    "tags": []
   },
   "outputs": [
    {
     "name": "stdout",
     "output_type": "stream",
     "text": [
      "Confusion Matrix\n",
      "\n",
      " [[87 20]\n",
      " [11 87]]\n",
      "\n",
      "True Positives(TP) =  87\n",
      "\n",
      "True Negatives(TN) =  87\n",
      "\n",
      "False Positives(FP) =  20\n",
      "\n",
      "False Negatives(FN) =  11\n"
     ]
    }
   ],
   "source": [
    "from sklearn.metrics import confusion_matrix\n",
    "cm = confusion_matrix(y_test,y_pred)\n",
    "print('Confusion Matrix\\n\\n',cm)\n",
    "print('\\nTrue Positives(TP) = ', cm[0,0])\n",
    "print('\\nTrue Negatives(TN) = ', cm[1,1])\n",
    "print('\\nFalse Positives(FP) = ', cm[0,1])\n",
    "print('\\nFalse Negatives(FN) = ', cm[1,0])"
   ]
  },
  {
   "cell_type": "code",
   "execution_count": 16,
   "id": "7a996dd1",
   "metadata": {
    "execution": {
     "iopub.execute_input": "2023-03-08T09:28:26.731703Z",
     "iopub.status.busy": "2023-03-08T09:28:26.731186Z",
     "iopub.status.idle": "2023-03-08T09:28:26.941794Z",
     "shell.execute_reply": "2023-03-08T09:28:26.940556Z"
    },
    "papermill": {
     "duration": 0.22373,
     "end_time": "2023-03-08T09:28:26.943823",
     "exception": false,
     "start_time": "2023-03-08T09:28:26.720093",
     "status": "completed"
    },
    "tags": []
   },
   "outputs": [
    {
     "data": {
      "text/plain": [
       "<AxesSubplot:>"
      ]
     },
     "execution_count": 16,
     "metadata": {},
     "output_type": "execute_result"
    },
    {
     "data": {
      "image/png": "[encoded data removed]",
      "text/plain": [
       "<Figure size 640x480 with 2 Axes>"
      ]
     },
     "metadata": {},
     "output_type": "display_data"
    }
   ],
   "source": [
    "sns.heatmap(cm,annot= True, fmt='d', cmap='mako')"
   ]
  },
  {
   "cell_type": "markdown",
   "id": "4a379f3d",
   "metadata": {
    "papermill": {
     "duration": 0.008971,
     "end_time": "2023-03-08T09:28:26.962391",
     "exception": false,
     "start_time": "2023-03-08T09:28:26.953420",
     "status": "completed"
    },
    "tags": []
   },
   "source": [
    "<div id='1'\n",
    "     style = \"display: fill;\n",
    "              border-radius: 10px;\n",
    "              background-color: #AD8B73;\">\n",
    "    <h3 style = \"padding: 15px; \n",
    "                 color: white;\n",
    "                 text-align: left;\n",
    "                 font-family: Trebuchet MS;\"> Classification Report\n",
    "    </h3>\n",
    "</div>"
   ]
  },
  {
   "cell_type": "code",
   "execution_count": 17,
   "id": "2c186b0f",
   "metadata": {
    "execution": {
     "iopub.execute_input": "2023-03-08T09:28:26.982702Z",
     "iopub.status.busy": "2023-03-08T09:28:26.982183Z",
     "iopub.status.idle": "2023-03-08T09:28:26.990864Z",
     "shell.execute_reply": "2023-03-08T09:28:26.989248Z"
    },
    "papermill": {
     "duration": 0.02133,
     "end_time": "2023-03-08T09:28:26.992977",
     "exception": false,
     "start_time": "2023-03-08T09:28:26.971647",
     "status": "completed"
    },
    "tags": []
   },
   "outputs": [
    {
     "name": "stdout",
     "output_type": "stream",
     "text": [
      "              precision    recall  f1-score   support\n",
      "\n",
      "           0       0.89      0.81      0.85       107\n",
      "           1       0.81      0.89      0.85        98\n",
      "\n",
      "    accuracy                           0.85       205\n",
      "   macro avg       0.85      0.85      0.85       205\n",
      "weighted avg       0.85      0.85      0.85       205\n",
      "\n"
     ]
    }
   ],
   "source": [
    "from sklearn.metrics import classification_report\n",
    "print(classification_report(y_test,y_pred))"
   ]
  },
  {
   "cell_type": "markdown",
   "id": "0f2f2ca7",
   "metadata": {
    "papermill": {
     "duration": 0.0091,
     "end_time": "2023-03-08T09:28:27.011779",
     "exception": false,
     "start_time": "2023-03-08T09:28:27.002679",
     "status": "completed"
    },
    "tags": []
   },
   "source": [
    "<div id='1'\n",
    "     style = \"display: fill;\n",
    "              border-radius: 10px;\n",
    "              background-color: #AD8B73;\">\n",
    "    <h3 style = \"padding: 15px; \n",
    "                 color: white;\n",
    "                 text-align: left;\n",
    "                 font-family: Trebuchet MS;\"> Scores from Confusion Matrix\n",
    "    </h3>\n",
    "</div>"
   ]
  },
  {
   "cell_type": "code",
   "execution_count": 18,
   "id": "463270a5",
   "metadata": {
    "execution": {
     "iopub.execute_input": "2023-03-08T09:28:27.031636Z",
     "iopub.status.busy": "2023-03-08T09:28:27.031286Z",
     "iopub.status.idle": "2023-03-08T09:28:27.040754Z",
     "shell.execute_reply": "2023-03-08T09:28:27.039777Z"
    },
    "papermill": {
     "duration": 0.021785,
     "end_time": "2023-03-08T09:28:27.042839",
     "exception": false,
     "start_time": "2023-03-08T09:28:27.021054",
     "status": "completed"
    },
    "tags": []
   },
   "outputs": [
    {
     "name": "stdout",
     "output_type": "stream",
     "text": [
      "Classification accuracy : 0.8488\n",
      "Classification error : 0.1512\n",
      "Precision : 0.8131\n",
      "Recall or Sensitivity : 0.8878\n",
      "True Positive Rate : 0.8878\n",
      "False Positive Rate : 0.1869\n",
      "Specificity : 0.8131\n"
     ]
    }
   ],
   "source": [
    "TP = cm[0,0]\n",
    "TN = cm[1,1]\n",
    "FP = cm[0,1]\n",
    "FN = cm[1,0]\n",
    "\n",
    "# print classification accuracy\n",
    "classification_accuracy = (TP + TN) / float(TP + TN + FP + FN)\n",
    "print('Classification accuracy : {0:0.4f}'.format(classification_accuracy))\n",
    "\n",
    "# print classification error\n",
    "classification_error = (FP + FN) / float(TP + TN + FP + FN)\n",
    "print('Classification error : {0:0.4f}'.format(classification_error))\n",
    "\n",
    "# print precision score\n",
    "precision = TP / float(TP + FP)\n",
    "print('Precision : {0:0.4f}'.format(precision))\n",
    "\n",
    "#print recall score\n",
    "recall = TP / float(TP + FN)\n",
    "print('Recall or Sensitivity : {0:0.4f}'.format(recall))\n",
    "\n",
    "#true positive rate\n",
    "true_positive_rate = TP / float(TP + FN)\n",
    "print('True Positive Rate : {0:0.4f}'.format(true_positive_rate))\n",
    "\n",
    "\n",
    "#false positive rate\n",
    "false_positive_rate = FP / float(FP + TN)\n",
    "print('False Positive Rate : {0:0.4f}'.format(false_positive_rate))\n",
    "\n",
    "#Specificity\n",
    "specificity = TN / (TN + FP)\n",
    "print('Specificity : {0:0.4f}'.format(specificity))"
   ]
  },
  {
   "cell_type": "markdown",
   "id": "5bd9eec4",
   "metadata": {
    "papermill": {
     "duration": 0.008893,
     "end_time": "2023-03-08T09:28:27.061971",
     "exception": false,
     "start_time": "2023-03-08T09:28:27.053078",
     "status": "completed"
    },
    "tags": []
   },
   "source": [
    "<div id='1'\n",
    "     style = \"display: fill;\n",
    "              border-radius: 10px;\n",
    "              background-color: #AD8B73;\">\n",
    "    <h3 style = \"padding: 15px; \n",
    "                 color: white;\n",
    "                 text-align: left;\n",
    "                 font-family: Trebuchet MS;\">ROC Curve\n",
    "    </h3>\n",
    "</div>"
   ]
  },
  {
   "cell_type": "code",
   "execution_count": 19,
   "id": "19e9f312",
   "metadata": {
    "execution": {
     "iopub.execute_input": "2023-03-08T09:28:27.082840Z",
     "iopub.status.busy": "2023-03-08T09:28:27.081542Z",
     "iopub.status.idle": "2023-03-08T09:28:27.212178Z",
     "shell.execute_reply": "2023-03-08T09:28:27.211317Z"
    },
    "papermill": {
     "duration": 0.142981,
     "end_time": "2023-03-08T09:28:27.214116",
     "exception": false,
     "start_time": "2023-03-08T09:28:27.071135",
     "status": "completed"
    },
    "tags": []
   },
   "outputs": [
    {
     "data": {
      "image/png": "[encoded data removed]",
      "text/plain": [
       "<Figure size 640x480 with 1 Axes>"
      ]
     },
     "metadata": {},
     "output_type": "display_data"
    }
   ],
   "source": [
    "from sklearn import metrics\n",
    "metrics.plot_roc_curve(model,X_test,y_test)\n",
    "plt.show()"
   ]
  },
  {
   "cell_type": "markdown",
   "id": "f51c70d7",
   "metadata": {
    "papermill": {
     "duration": 0.009751,
     "end_time": "2023-03-08T09:28:27.234131",
     "exception": false,
     "start_time": "2023-03-08T09:28:27.224380",
     "status": "completed"
    },
    "tags": []
   },
   "source": [
    "<div id='1'\n",
    "     style = \"display: fill;\n",
    "              border-radius: 10px;\n",
    "              background-color: #AD8B73;\">\n",
    "    <h3 style = \"padding: 15px; \n",
    "                 color: white;\n",
    "                 text-align: left;\n",
    "                 font-family: Trebuchet MS;\">ROC AUC Score\n",
    "    </h3>\n",
    "</div>"
   ]
  },
  {
   "cell_type": "code",
   "execution_count": 20,
   "id": "2cd5c74e",
   "metadata": {
    "execution": {
     "iopub.execute_input": "2023-03-08T09:28:27.256225Z",
     "iopub.status.busy": "2023-03-08T09:28:27.255655Z",
     "iopub.status.idle": "2023-03-08T09:28:27.264354Z",
     "shell.execute_reply": "2023-03-08T09:28:27.262597Z"
    },
    "papermill": {
     "duration": 0.024401,
     "end_time": "2023-03-08T09:28:27.268668",
     "exception": false,
     "start_time": "2023-03-08T09:28:27.244267",
     "status": "completed"
    },
    "tags": []
   },
   "outputs": [
    {
     "name": "stdout",
     "output_type": "stream",
     "text": [
      "ROC AUC : 0.8905\n"
     ]
    }
   ],
   "source": [
    "# compute ROC AUC\n",
    "# store the predicted probabilities for class 1 - Probability of >50K\n",
    "\n",
    "y_pred1 = model.predict_proba(X_test)[:, 1]\n",
    "from sklearn.metrics import roc_auc_score\n",
    "\n",
    "ROC_AUC = roc_auc_score(y_test, y_pred1)\n",
    "\n",
    "print('ROC AUC : {:.4f}'.format(ROC_AUC))"
   ]
  },
  {
   "cell_type": "markdown",
   "id": "9b2c2d24",
   "metadata": {
    "papermill": {
     "duration": 0.009722,
     "end_time": "2023-03-08T09:28:27.289176",
     "exception": false,
     "start_time": "2023-03-08T09:28:27.279454",
     "status": "completed"
    },
    "tags": []
   },
   "source": [
    "<div id='1'\n",
    "     style = \"display: fill;\n",
    "              border-radius: 10px;\n",
    "              background-color: #AD8B73;\">\n",
    "    <h3 style = \"padding: 15px; \n",
    "                 color: white;\n",
    "                 text-align: left;\n",
    "                 font-family: Trebuchet MS;\">Cross Validation Score\n",
    "    </h3>\n",
    "</div>"
   ]
  },
  {
   "cell_type": "code",
   "execution_count": 21,
   "id": "cd113b52",
   "metadata": {
    "execution": {
     "iopub.execute_input": "2023-03-08T09:28:27.311348Z",
     "iopub.status.busy": "2023-03-08T09:28:27.310953Z",
     "iopub.status.idle": "2023-03-08T09:28:27.383352Z",
     "shell.execute_reply": "2023-03-08T09:28:27.382027Z"
    },
    "papermill": {
     "duration": 0.087393,
     "end_time": "2023-03-08T09:28:27.386818",
     "exception": false,
     "start_time": "2023-03-08T09:28:27.299425",
     "status": "completed"
    },
    "tags": []
   },
   "outputs": [
    {
     "name": "stdout",
     "output_type": "stream",
     "text": [
      "Cross-validation scores:[0.85365854 0.92682927 0.84146341 0.84146341 0.7804878  0.86585366\n",
      " 0.85365854 0.7195122  0.87804878 0.86585366]\n",
      "\n",
      "Average cross-validation score: 0.8427\n"
     ]
    }
   ],
   "source": [
    "# Applying 10-Fold Cross Validation\n",
    "\n",
    "from sklearn.model_selection import cross_val_score\n",
    "\n",
    "scores = cross_val_score(model, X_train, y_train, cv = 10, scoring='accuracy')\n",
    "\n",
    "print('Cross-validation scores:{}'.format(scores))\n",
    "\n",
    "# compute Average cross-validation score\n",
    "\n",
    "print('\\nAverage cross-validation score: {:.4f}'.format(scores.mean()))"
   ]
  },
  {
   "cell_type": "markdown",
   "id": "8e2cc41e",
   "metadata": {
    "papermill": {
     "duration": 0.00958,
     "end_time": "2023-03-08T09:28:27.407615",
     "exception": false,
     "start_time": "2023-03-08T09:28:27.398035",
     "status": "completed"
    },
    "tags": []
   },
   "source": [
    "<div id='5'\n",
    "     style = \"display: fill;\n",
    "              border-radius: 10px;\n",
    "              background-color: #B7CADB;\">\n",
    "    <h1 style = \"padding: 15px; \n",
    "                 color: white;\n",
    "                 text-align: left;\n",
    "                 font-family: Trebuchet MS;\">K Fold Cross Validation\n",
    "    </h1>\n",
    "</div>"
   ]
  },
  {
   "cell_type": "code",
   "execution_count": 22,
   "id": "445c6a3d",
   "metadata": {
    "execution": {
     "iopub.execute_input": "2023-03-08T09:28:27.430546Z",
     "iopub.status.busy": "2023-03-08T09:28:27.429599Z",
     "iopub.status.idle": "2023-03-08T09:28:27.882654Z",
     "shell.execute_reply": "2023-03-08T09:28:27.880938Z"
    },
    "papermill": {
     "duration": 0.467943,
     "end_time": "2023-03-08T09:28:27.885481",
     "exception": false,
     "start_time": "2023-03-08T09:28:27.417538",
     "status": "completed"
    },
    "tags": []
   },
   "outputs": [
    {
     "name": "stdout",
     "output_type": "stream",
     "text": [
      "Stratified cross-validation scores with linear kernel:[0.92195122 0.91707317 0.89756098 0.89756098 0.87317073]\n",
      "\n",
      "Average stratified cross-validation score with linear kernel:0.9015\n"
     ]
    }
   ],
   "source": [
    "from sklearn.model_selection import KFold\n",
    "\n",
    "\n",
    "kfold=KFold(n_splits=5, shuffle=True, random_state=0)\n",
    "\n",
    "model=AdaBoostClassifier()\n",
    "\n",
    "\n",
    "linear_scores = cross_val_score(model, X, y, cv=kfold)\n",
    "# print cross-validation scores with linear kernel\n",
    "\n",
    "print('Stratified cross-validation scores with linear kernel:{}'.format(linear_scores))\n",
    "# print average cross-validation score with linear kernel\n",
    "\n",
    "print('\\nAverage stratified cross-validation score with linear kernel:{:.4f}'.format(linear_scores.mean()))"
   ]
  },
  {
   "cell_type": "markdown",
   "id": "bacc58ac",
   "metadata": {
    "papermill": {
     "duration": 0.009917,
     "end_time": "2023-03-08T09:28:27.905871",
     "exception": false,
     "start_time": "2023-03-08T09:28:27.895954",
     "status": "completed"
    },
    "tags": []
   },
   "source": [
    "<div id='5'\n",
    "     style = \"display: fill;\n",
    "              border-radius: 10px;\n",
    "              background-color: #0E8388;\">\n",
    "    <h1 style = \"padding: 30px; \n",
    "                 color: white;\n",
    "                 font-weight:600;\n",
    "                 font-size:50px;\n",
    "                 text-align: CENTER;\n",
    "                 font-family: Tilt Warp;\">PLEASE UPVOTE IF IT HELPED\n",
    "    </h1>\n",
    "</div>"
   ]
  }
 ],
 "metadata": {
  "kernelspec": {
   "display_name": "Python 3",
   "language": "python",
   "name": "python3"
  },
  "language_info": {
   "codemirror_mode": {
    "name": "ipython",
    "version": 3
   },
   "file_extension": ".py",
   "mimetype": "text/x-python",
   "name": "python",
   "nbconvert_exporter": "python",
   "pygments_lexer": "ipython3",
   "version": "3.7.12"
  },
  "papermill": {
   "default_parameters": {},
   "duration": 17.986452,
   "end_time": "2023-03-08T09:28:28.638219",
   "environment_variables": {},
   "exception": null,
   "input_path": "__notebook__.ipynb",
   "output_path": "__notebook__.ipynb",
   "parameters": {},
   "start_time": "2023-03-08T09:28:10.651767",
   "version": "2.3.4"
  }
 },
 "nbformat": 4,
 "nbformat_minor": 5
}
