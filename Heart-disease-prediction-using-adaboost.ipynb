{
 "cells": [
  {
   "cell_type": "markdown",
   "id": "5eba7a13",
   "metadata": {
    "papermill": {
     "duration": 0.009114,
     "end_time": "2023-03-08T09:23:48.972461",
     "exception": false,
     "start_time": "2023-03-08T09:23:48.963347",
     "status": "completed"
    },
    "tags": []
   },
   "source": [
    "<div style=\"padding:20px;color:white;margin:0;font-size:200%;text-align:center;display:fill;border-radius:5px;background-color:#C85C8E;overflow:hidden;font-weight:500\">Heart Disease Prediction Using Adaboost ❤️❤️❤️ </div>\n",
    "\n",
    "\n",
    "\n"
   ]
  },
  {
   "cell_type": "markdown",
   "id": "e8afb57f",
   "metadata": {
    "papermill": {
     "duration": 0.007513,
     "end_time": "2023-03-08T09:23:48.987962",
     "exception": false,
     "start_time": "2023-03-08T09:23:48.980449",
     "status": "completed"
    },
    "tags": []
   },
   "source": [
    "# **Table of Contents**\n",
    "\n",
    "1.\t[Introduction](#1)\n",
    "2.\t[Data Preprocessing](#2)\n",
    "3.\t[Model Training](#3)\n",
    "4.\t[Evaluation](#4)\n",
    "5.\t[K Fold Cross Validation](#5)\n"
   ]
  },
  {
   "cell_type": "markdown",
   "id": "22773c79",
   "metadata": {
    "papermill": {
     "duration": 0.007568,
     "end_time": "2023-03-08T09:23:49.003531",
     "exception": false,
     "start_time": "2023-03-08T09:23:48.995963",
     "status": "completed"
    },
    "tags": []
   },
   "source": [
    "<div id='1'\n",
    "     style = \"display: fill;\n",
    "              border-radius: 10px;\n",
    "              background-color: #B7CADB;\">\n",
    "    <h2 style = \"padding: 15px; \n",
    "                 color: white;\n",
    "                 text-align: left;\n",
    "                 font-family: Trebuchet MS;\">Introduction\n",
    "    </h2>\n",
    "</div>"
   ]
  },
  {
   "cell_type": "markdown",
   "id": "fa0a51b2",
   "metadata": {
    "papermill": {
     "duration": 0.007558,
     "end_time": "2023-03-08T09:23:49.019007",
     "exception": false,
     "start_time": "2023-03-08T09:23:49.011449",
     "status": "completed"
    },
    "tags": []
   },
   "source": [
    "<div id='1'\n",
    "     style = \"display: fill;\n",
    "              border-radius: 10px;\n",
    "              background-color: #AD8B73;\">\n",
    "    <h3 style = \"padding: 15px; \n",
    "                 color: white;\n",
    "                 text-align: left;\n",
    "                 font-family: Trebuchet MS;\">Importing Libraries\n",
    "    </h3>\n",
    "</div>"
   ]
  },
  {
   "cell_type": "code",
   "execution_count": 1,
   "id": "ebefb9b5",
   "metadata": {
    "_cell_guid": "b1076dfc-b9ad-4769-8c92-a6c4dae69d19",
    "_uuid": "8f2839f25d086af736a60e9eeb907d3b93b6e0e5",
    "execution": {
     "iopub.execute_input": "2023-03-08T09:23:49.036912Z",
     "iopub.status.busy": "2023-03-08T09:23:49.036344Z",
     "iopub.status.idle": "2023-03-08T09:23:50.325567Z",
     "shell.execute_reply": "2023-03-08T09:23:50.324123Z"
    },
    "papermill": {
     "duration": 1.300841,
     "end_time": "2023-03-08T09:23:50.327828",
     "exception": false,
     "start_time": "2023-03-08T09:23:49.026987",
     "status": "completed"
    },
    "tags": []
   },
   "outputs": [
    {
     "name": "stdout",
     "output_type": "stream",
     "text": [
      "/kaggle/input/heart-disease-dataset/heart.csv\n"
     ]
    }
   ],
   "source": [
    "import numpy as np \n",
    "import pandas as pd \n",
    "import matplotlib.pyplot as plt\n",
    "import seaborn as sns\n",
    "from sklearn.ensemble import  AdaBoostClassifier\n",
    "from sklearn.preprocessing import MinMaxScaler\n",
    "%matplotlib inline\n",
    "import os\n",
    "for dirname, _, filenames in os.walk('/kaggle/input'):\n",
    "    for filename in filenames:\n",
    "        print(os.path.join(dirname, filename))\n",
    "from sklearn.model_selection import train_test_split\n",
    "from sklearn.metrics import accuracy_score,classification_report,confusion_matrix,roc_auc_score\n",
    "import warnings\n",
    "warnings.filterwarnings('ignore')"
   ]
  },
  {
   "cell_type": "code",
   "execution_count": 2,
   "id": "eb229ffb",
   "metadata": {
    "execution": {
     "iopub.execute_input": "2023-03-08T09:23:50.347979Z",
     "iopub.status.busy": "2023-03-08T09:23:50.347353Z",
     "iopub.status.idle": "2023-03-08T09:23:50.382778Z",
     "shell.execute_reply": "2023-03-08T09:23:50.381725Z"
    },
    "papermill": {
     "duration": 0.046563,
     "end_time": "2023-03-08T09:23:50.384569",
     "exception": false,
     "start_time": "2023-03-08T09:23:50.338006",
     "status": "completed"
    },
    "tags": []
   },
   "outputs": [
    {
     "data": {
      "text/html": [
       "<div>\n",
       "<style scoped>\n",
       "    .dataframe tbody tr th:only-of-type {\n",
       "        vertical-align: middle;\n",
       "    }\n",
       "\n",
       "    .dataframe tbody tr th {\n",
       "        vertical-align: top;\n",
       "    }\n",
       "\n",
       "    .dataframe thead th {\n",
       "        text-align: right;\n",
       "    }\n",
       "</style>\n",
       "<table border=\"1\" class=\"dataframe\">\n",
       "  <thead>\n",
       "    <tr style=\"text-align: right;\">\n",
       "      <th></th>\n",
       "      <th>age</th>\n",
       "      <th>sex</th>\n",
       "      <th>cp</th>\n",
       "      <th>trestbps</th>\n",
       "      <th>chol</th>\n",
       "      <th>fbs</th>\n",
       "      <th>restecg</th>\n",
       "      <th>thalach</th>\n",
       "      <th>exang</th>\n",
       "      <th>oldpeak</th>\n",
       "      <th>slope</th>\n",
       "      <th>ca</th>\n",
       "      <th>thal</th>\n",
       "      <th>target</th>\n",
       "    </tr>\n",
       "  </thead>\n",
       "  <tbody>\n",
       "    <tr>\n",
       "      <th>0</th>\n",
       "      <td>52</td>\n",
       "      <td>1</td>\n",
       "      <td>0</td>\n",
       "      <td>125</td>\n",
       "      <td>212</td>\n",
       "      <td>0</td>\n",
       "      <td>1</td>\n",
       "      <td>168</td>\n",
       "      <td>0</td>\n",
       "      <td>1.0</td>\n",
       "      <td>2</td>\n",
       "      <td>2</td>\n",
       "      <td>3</td>\n",
       "      <td>0</td>\n",
       "    </tr>\n",
       "    <tr>\n",
       "      <th>1</th>\n",
       "      <td>53</td>\n",
       "      <td>1</td>\n",
       "      <td>0</td>\n",
       "      <td>140</td>\n",
       "      <td>203</td>\n",
       "      <td>1</td>\n",
       "      <td>0</td>\n",
       "      <td>155</td>\n",
       "      <td>1</td>\n",
       "      <td>3.1</td>\n",
       "      <td>0</td>\n",
       "      <td>0</td>\n",
       "      <td>3</td>\n",
       "      <td>0</td>\n",
       "    </tr>\n",
       "    <tr>\n",
       "      <th>2</th>\n",
       "      <td>70</td>\n",
       "      <td>1</td>\n",
       "      <td>0</td>\n",
       "      <td>145</td>\n",
       "      <td>174</td>\n",
       "      <td>0</td>\n",
       "      <td>1</td>\n",
       "      <td>125</td>\n",
       "      <td>1</td>\n",
       "      <td>2.6</td>\n",
       "      <td>0</td>\n",
       "      <td>0</td>\n",
       "      <td>3</td>\n",
       "      <td>0</td>\n",
       "    </tr>\n",
       "    <tr>\n",
       "      <th>3</th>\n",
       "      <td>61</td>\n",
       "      <td>1</td>\n",
       "      <td>0</td>\n",
       "      <td>148</td>\n",
       "      <td>203</td>\n",
       "      <td>0</td>\n",
       "      <td>1</td>\n",
       "      <td>161</td>\n",
       "      <td>0</td>\n",
       "      <td>0.0</td>\n",
       "      <td>2</td>\n",
       "      <td>1</td>\n",
       "      <td>3</td>\n",
       "      <td>0</td>\n",
       "    </tr>\n",
       "    <tr>\n",
       "      <th>4</th>\n",
       "      <td>62</td>\n",
       "      <td>0</td>\n",
       "      <td>0</td>\n",
       "      <td>138</td>\n",
       "      <td>294</td>\n",
       "      <td>1</td>\n",
       "      <td>1</td>\n",
       "      <td>106</td>\n",
       "      <td>0</td>\n",
       "      <td>1.9</td>\n",
       "      <td>1</td>\n",
       "      <td>3</td>\n",
       "      <td>2</td>\n",
       "      <td>0</td>\n",
       "    </tr>\n",
       "  </tbody>\n",
       "</table>\n",
       "</div>"
      ],
      "text/plain": [
       "   age  sex  cp  trestbps  chol  fbs  restecg  thalach  exang  oldpeak  slope  \\\n",
       "0   52    1   0       125   212    0        1      168      0      1.0      2   \n",
       "1   53    1   0       140   203    1        0      155      1      3.1      0   \n",
       "2   70    1   0       145   174    0        1      125      1      2.6      0   \n",
       "3   61    1   0       148   203    0        1      161      0      0.0      2   \n",
       "4   62    0   0       138   294    1        1      106      0      1.9      1   \n",
       "\n",
       "   ca  thal  target  \n",
       "0   2     3       0  \n",
       "1   0     3       0  \n",
       "2   0     3       0  \n",
       "3   1     3       0  \n",
       "4   3     2       0  "
      ]
     },
     "execution_count": 2,
     "metadata": {},
     "output_type": "execute_result"
    }
   ],
   "source": [
    "df=pd.read_csv('/kaggle/input/heart-disease-dataset/heart.csv')\n",
    "df.head()"
   ]
  },
  {
   "cell_type": "code",
   "execution_count": 3,
   "id": "da3b4548",
   "metadata": {
    "execution": {
     "iopub.execute_input": "2023-03-08T09:23:50.402950Z",
     "iopub.status.busy": "2023-03-08T09:23:50.402008Z",
     "iopub.status.idle": "2023-03-08T09:23:50.416801Z",
     "shell.execute_reply": "2023-03-08T09:23:50.415775Z"
    },
    "papermill": {
     "duration": 0.025932,
     "end_time": "2023-03-08T09:23:50.418745",
     "exception": false,
     "start_time": "2023-03-08T09:23:50.392813",
     "status": "completed"
    },
    "tags": []
   },
   "outputs": [],
   "source": [
    "# --- Fix Data Types ---\n",
    "lst=['sex', 'cp', 'fbs', 'restecg', 'exang', 'slope', 'ca', 'thal']\n",
    "df[lst] = df[lst].astype(object)"
   ]
  },
  {
   "cell_type": "code",
   "execution_count": 4,
   "id": "7113a3a1",
   "metadata": {
    "execution": {
     "iopub.execute_input": "2023-03-08T09:23:50.436678Z",
     "iopub.status.busy": "2023-03-08T09:23:50.436310Z",
     "iopub.status.idle": "2023-03-08T09:23:50.442751Z",
     "shell.execute_reply": "2023-03-08T09:23:50.441693Z"
    },
    "papermill": {
     "duration": 0.017431,
     "end_time": "2023-03-08T09:23:50.444350",
     "exception": false,
     "start_time": "2023-03-08T09:23:50.426919",
     "status": "completed"
    },
    "tags": []
   },
   "outputs": [
    {
     "data": {
      "text/plain": [
       "(1025, 14)"
      ]
     },
     "execution_count": 4,
     "metadata": {},
     "output_type": "execute_result"
    }
   ],
   "source": [
    "df.shape"
   ]
  },
  {
   "cell_type": "code",
   "execution_count": 5,
   "id": "a8fac702",
   "metadata": {
    "_kg_hide-output": true,
    "execution": {
     "iopub.execute_input": "2023-03-08T09:23:50.462386Z",
     "iopub.status.busy": "2023-03-08T09:23:50.461954Z",
     "iopub.status.idle": "2023-03-08T09:23:50.482204Z",
     "shell.execute_reply": "2023-03-08T09:23:50.480696Z"
    },
    "papermill": {
     "duration": 0.031704,
     "end_time": "2023-03-08T09:23:50.484311",
     "exception": false,
     "start_time": "2023-03-08T09:23:50.452607",
     "status": "completed"
    },
    "tags": []
   },
   "outputs": [
    {
     "name": "stdout",
     "output_type": "stream",
     "text": [
      "<class 'pandas.core.frame.DataFrame'>\n",
      "RangeIndex: 1025 entries, 0 to 1024\n",
      "Data columns (total 14 columns):\n",
      " #   Column    Non-Null Count  Dtype  \n",
      "---  ------    --------------  -----  \n",
      " 0   age       1025 non-null   int64  \n",
      " 1   sex       1025 non-null   object \n",
      " 2   cp        1025 non-null   object \n",
      " 3   trestbps  1025 non-null   int64  \n",
      " 4   chol      1025 non-null   int64  \n",
      " 5   fbs       1025 non-null   object \n",
      " 6   restecg   1025 non-null   object \n",
      " 7   thalach   1025 non-null   int64  \n",
      " 8   exang     1025 non-null   object \n",
      " 9   oldpeak   1025 non-null   float64\n",
      " 10  slope     1025 non-null   object \n",
      " 11  ca        1025 non-null   object \n",
      " 12  thal      1025 non-null   object \n",
      " 13  target    1025 non-null   int64  \n",
      "dtypes: float64(1), int64(5), object(8)\n",
      "memory usage: 112.2+ KB\n"
     ]
    }
   ],
   "source": [
    "#Information about dataset\n",
    "df.info()"
   ]
  },
  {
   "cell_type": "markdown",
   "id": "26c943ee",
   "metadata": {
    "papermill": {
     "duration": 0.007793,
     "end_time": "2023-03-08T09:23:50.500541",
     "exception": false,
     "start_time": "2023-03-08T09:23:50.492748",
     "status": "completed"
    },
    "tags": []
   },
   "source": [
    "<div id='2'\n",
    "     style = \"display: fill;\n",
    "              border-radius: 10px;\n",
    "              background-color: #B7CADB;\">\n",
    "    <h2 style = \"padding: 15px; \n",
    "                 color: white;\n",
    "                 text-align: left;\n",
    "                 font-family: Trebuchet MS;\"> Data Preprocessing\n",
    "    </h2>\n",
    "</div>"
   ]
  },
  {
   "cell_type": "markdown",
   "id": "21e3ce79",
   "metadata": {
    "papermill": {
     "duration": 0.007968,
     "end_time": "2023-03-08T09:23:50.516804",
     "exception": false,
     "start_time": "2023-03-08T09:23:50.508836",
     "status": "completed"
    },
    "tags": []
   },
   "source": [
    "<div id='1'\n",
    "     style = \"display: fill;\n",
    "              border-radius: 10px;\n",
    "              background-color: #AD8B73;\">\n",
    "    <h3 style = \"padding: 15px; \n",
    "                 color: white;\n",
    "                 text-align: left;\n",
    "                 font-family: Trebuchet MS;\">One-Hot Encoding\n",
    "    </h3>\n",
    "</div>"
   ]
  },
  {
   "cell_type": "code",
   "execution_count": 6,
   "id": "9e504a6b",
   "metadata": {
    "execution": {
     "iopub.execute_input": "2023-03-08T09:23:50.535705Z",
     "iopub.status.busy": "2023-03-08T09:23:50.534714Z",
     "iopub.status.idle": "2023-03-08T09:23:50.563835Z",
     "shell.execute_reply": "2023-03-08T09:23:50.562715Z"
    },
    "papermill": {
     "duration": 0.040963,
     "end_time": "2023-03-08T09:23:50.566226",
     "exception": false,
     "start_time": "2023-03-08T09:23:50.525263",
     "status": "completed"
    },
    "tags": []
   },
   "outputs": [
    {
     "data": {
      "text/html": [
       "<div>\n",
       "<style scoped>\n",
       "    .dataframe tbody tr th:only-of-type {\n",
       "        vertical-align: middle;\n",
       "    }\n",
       "\n",
       "    .dataframe tbody tr th {\n",
       "        vertical-align: top;\n",
       "    }\n",
       "\n",
       "    .dataframe thead th {\n",
       "        text-align: right;\n",
       "    }\n",
       "</style>\n",
       "<table border=\"1\" class=\"dataframe\">\n",
       "  <thead>\n",
       "    <tr style=\"text-align: right;\">\n",
       "      <th></th>\n",
       "      <th>age</th>\n",
       "      <th>sex</th>\n",
       "      <th>trestbps</th>\n",
       "      <th>chol</th>\n",
       "      <th>fbs</th>\n",
       "      <th>restecg</th>\n",
       "      <th>thalach</th>\n",
       "      <th>exang</th>\n",
       "      <th>oldpeak</th>\n",
       "      <th>ca</th>\n",
       "      <th>...</th>\n",
       "      <th>cp_1</th>\n",
       "      <th>cp_2</th>\n",
       "      <th>cp_3</th>\n",
       "      <th>thal_0</th>\n",
       "      <th>thal_1</th>\n",
       "      <th>thal_2</th>\n",
       "      <th>thal_3</th>\n",
       "      <th>slope_0</th>\n",
       "      <th>slope_1</th>\n",
       "      <th>slope_2</th>\n",
       "    </tr>\n",
       "  </thead>\n",
       "  <tbody>\n",
       "    <tr>\n",
       "      <th>0</th>\n",
       "      <td>52</td>\n",
       "      <td>1</td>\n",
       "      <td>125</td>\n",
       "      <td>212</td>\n",
       "      <td>0</td>\n",
       "      <td>1</td>\n",
       "      <td>168</td>\n",
       "      <td>0</td>\n",
       "      <td>1.0</td>\n",
       "      <td>2</td>\n",
       "      <td>...</td>\n",
       "      <td>0</td>\n",
       "      <td>0</td>\n",
       "      <td>0</td>\n",
       "      <td>0</td>\n",
       "      <td>0</td>\n",
       "      <td>0</td>\n",
       "      <td>1</td>\n",
       "      <td>0</td>\n",
       "      <td>0</td>\n",
       "      <td>1</td>\n",
       "    </tr>\n",
       "    <tr>\n",
       "      <th>1</th>\n",
       "      <td>53</td>\n",
       "      <td>1</td>\n",
       "      <td>140</td>\n",
       "      <td>203</td>\n",
       "      <td>1</td>\n",
       "      <td>0</td>\n",
       "      <td>155</td>\n",
       "      <td>1</td>\n",
       "      <td>3.1</td>\n",
       "      <td>0</td>\n",
       "      <td>...</td>\n",
       "      <td>0</td>\n",
       "      <td>0</td>\n",
       "      <td>0</td>\n",
       "      <td>0</td>\n",
       "      <td>0</td>\n",
       "      <td>0</td>\n",
       "      <td>1</td>\n",
       "      <td>1</td>\n",
       "      <td>0</td>\n",
       "      <td>0</td>\n",
       "    </tr>\n",
       "    <tr>\n",
       "      <th>2</th>\n",
       "      <td>70</td>\n",
       "      <td>1</td>\n",
       "      <td>145</td>\n",
       "      <td>174</td>\n",
       "      <td>0</td>\n",
       "      <td>1</td>\n",
       "      <td>125</td>\n",
       "      <td>1</td>\n",
       "      <td>2.6</td>\n",
       "      <td>0</td>\n",
       "      <td>...</td>\n",
       "      <td>0</td>\n",
       "      <td>0</td>\n",
       "      <td>0</td>\n",
       "      <td>0</td>\n",
       "      <td>0</td>\n",
       "      <td>0</td>\n",
       "      <td>1</td>\n",
       "      <td>1</td>\n",
       "      <td>0</td>\n",
       "      <td>0</td>\n",
       "    </tr>\n",
       "    <tr>\n",
       "      <th>3</th>\n",
       "      <td>61</td>\n",
       "      <td>1</td>\n",
       "      <td>148</td>\n",
       "      <td>203</td>\n",
       "      <td>0</td>\n",
       "      <td>1</td>\n",
       "      <td>161</td>\n",
       "      <td>0</td>\n",
       "      <td>0.0</td>\n",
       "      <td>1</td>\n",
       "      <td>...</td>\n",
       "      <td>0</td>\n",
       "      <td>0</td>\n",
       "      <td>0</td>\n",
       "      <td>0</td>\n",
       "      <td>0</td>\n",
       "      <td>0</td>\n",
       "      <td>1</td>\n",
       "      <td>0</td>\n",
       "      <td>0</td>\n",
       "      <td>1</td>\n",
       "    </tr>\n",
       "    <tr>\n",
       "      <th>4</th>\n",
       "      <td>62</td>\n",
       "      <td>0</td>\n",
       "      <td>138</td>\n",
       "      <td>294</td>\n",
       "      <td>1</td>\n",
       "      <td>1</td>\n",
       "      <td>106</td>\n",
       "      <td>0</td>\n",
       "      <td>1.9</td>\n",
       "      <td>3</td>\n",
       "      <td>...</td>\n",
       "      <td>0</td>\n",
       "      <td>0</td>\n",
       "      <td>0</td>\n",
       "      <td>0</td>\n",
       "      <td>0</td>\n",
       "      <td>1</td>\n",
       "      <td>0</td>\n",
       "      <td>0</td>\n",
       "      <td>1</td>\n",
       "      <td>0</td>\n",
       "    </tr>\n",
       "  </tbody>\n",
       "</table>\n",
       "<p>5 rows × 22 columns</p>\n",
       "</div>"
      ],
      "text/plain": [
       "   age sex  trestbps  chol fbs restecg  thalach exang  oldpeak ca  ...  cp_1  \\\n",
       "0   52   1       125   212   0       1      168     0      1.0  2  ...     0   \n",
       "1   53   1       140   203   1       0      155     1      3.1  0  ...     0   \n",
       "2   70   1       145   174   0       1      125     1      2.6  0  ...     0   \n",
       "3   61   1       148   203   0       1      161     0      0.0  1  ...     0   \n",
       "4   62   0       138   294   1       1      106     0      1.9  3  ...     0   \n",
       "\n",
       "   cp_2  cp_3  thal_0  thal_1  thal_2  thal_3  slope_0  slope_1  slope_2  \n",
       "0     0     0       0       0       0       1        0        0        1  \n",
       "1     0     0       0       0       0       1        1        0        0  \n",
       "2     0     0       0       0       0       1        1        0        0  \n",
       "3     0     0       0       0       0       1        0        0        1  \n",
       "4     0     0       0       0       1       0        0        1        0  \n",
       "\n",
       "[5 rows x 22 columns]"
      ]
     },
     "execution_count": 6,
     "metadata": {},
     "output_type": "execute_result"
    }
   ],
   "source": [
    "# categorical columns\n",
    "cp = pd.get_dummies(df['cp'],prefix= 'cp')\n",
    "thal = pd.get_dummies(df['thal'],prefix = 'thal')\n",
    "slope = pd.get_dummies(df['slope'],prefix = 'slope')\n",
    "\n",
    "#merge dummy variables to main data frame\n",
    "frames = [ df,cp,thal,slope]\n",
    "df = pd.concat(frames,axis=1)\n",
    "\n",
    "#Dropping the unnecessory variables\n",
    "df=df.drop(columns = ['cp','thal','slope'])\n",
    "df.head()"
   ]
  },
  {
   "cell_type": "code",
   "execution_count": 7,
   "id": "e456c642",
   "metadata": {
    "_kg_hide-output": true,
    "execution": {
     "iopub.execute_input": "2023-03-08T09:23:50.585760Z",
     "iopub.status.busy": "2023-03-08T09:23:50.585384Z",
     "iopub.status.idle": "2023-03-08T09:23:50.594781Z",
     "shell.execute_reply": "2023-03-08T09:23:50.593606Z"
    },
    "papermill": {
     "duration": 0.021563,
     "end_time": "2023-03-08T09:23:50.597066",
     "exception": false,
     "start_time": "2023-03-08T09:23:50.575503",
     "status": "completed"
    },
    "tags": []
   },
   "outputs": [
    {
     "data": {
      "text/plain": [
       "age         0\n",
       "sex         0\n",
       "trestbps    0\n",
       "chol        0\n",
       "fbs         0\n",
       "restecg     0\n",
       "thalach     0\n",
       "exang       0\n",
       "oldpeak     0\n",
       "ca          0\n",
       "target      0\n",
       "cp_0        0\n",
       "cp_1        0\n",
       "cp_2        0\n",
       "cp_3        0\n",
       "thal_0      0\n",
       "thal_1      0\n",
       "thal_2      0\n",
       "thal_3      0\n",
       "slope_0     0\n",
       "slope_1     0\n",
       "slope_2     0\n",
       "dtype: int64"
      ]
     },
     "execution_count": 7,
     "metadata": {},
     "output_type": "execute_result"
    }
   ],
   "source": [
    "#Missing values\n",
    "df.isnull().sum()"
   ]
  },
  {
   "cell_type": "markdown",
   "id": "f96e54e0",
   "metadata": {
    "papermill": {
     "duration": 0.008384,
     "end_time": "2023-03-08T09:23:50.614399",
     "exception": false,
     "start_time": "2023-03-08T09:23:50.606015",
     "status": "completed"
    },
    "tags": []
   },
   "source": [
    "<div id='1'\n",
    "     style = \"display: fill;\n",
    "              border-radius: 10px;\n",
    "              background-color: #AD8B73;\">\n",
    "    <h3 style = \"padding: 15px; \n",
    "                 color: white;\n",
    "                 text-align: left;\n",
    "                 font-family: Trebuchet MS;\">Separating Target Variable\n",
    "    </h3>\n",
    "</div>"
   ]
  },
  {
   "cell_type": "code",
   "execution_count": 8,
   "id": "b1f5a2d4",
   "metadata": {
    "execution": {
     "iopub.execute_input": "2023-03-08T09:23:50.633483Z",
     "iopub.status.busy": "2023-03-08T09:23:50.633070Z",
     "iopub.status.idle": "2023-03-08T09:23:50.639019Z",
     "shell.execute_reply": "2023-03-08T09:23:50.637975Z"
    },
    "papermill": {
     "duration": 0.017732,
     "end_time": "2023-03-08T09:23:50.640793",
     "exception": false,
     "start_time": "2023-03-08T09:23:50.623061",
     "status": "completed"
    },
    "tags": []
   },
   "outputs": [],
   "source": [
    "#Declaring Dependent and Independent variables\n",
    "X = df.drop(['target'],axis=1)\n",
    "y = df['target']"
   ]
  },
  {
   "cell_type": "markdown",
   "id": "3aacaf35",
   "metadata": {
    "papermill": {
     "duration": 0.008241,
     "end_time": "2023-03-08T09:23:50.657603",
     "exception": false,
     "start_time": "2023-03-08T09:23:50.649362",
     "status": "completed"
    },
    "tags": []
   },
   "source": [
    "<div id='1'\n",
    "     style = \"display: fill;\n",
    "              border-radius: 10px;\n",
    "              background-color: #AD8B73;\">\n",
    "    <h3 style = \"padding: 15px; \n",
    "                 color: white;\n",
    "                 text-align: left;\n",
    "                 font-family: Trebuchet MS;\">Data Normalization\n",
    "    </h3>\n",
    "</div>"
   ]
  },
  {
   "cell_type": "code",
   "execution_count": 9,
   "id": "b27ce8a3",
   "metadata": {
    "execution": {
     "iopub.execute_input": "2023-03-08T09:23:50.677030Z",
     "iopub.status.busy": "2023-03-08T09:23:50.676626Z",
     "iopub.status.idle": "2023-03-08T09:23:50.688389Z",
     "shell.execute_reply": "2023-03-08T09:23:50.687300Z"
    },
    "papermill": {
     "duration": 0.024155,
     "end_time": "2023-03-08T09:23:50.690439",
     "exception": false,
     "start_time": "2023-03-08T09:23:50.666284",
     "status": "completed"
    },
    "tags": []
   },
   "outputs": [],
   "source": [
    "X = MinMaxScaler().fit_transform(X)"
   ]
  },
  {
   "cell_type": "markdown",
   "id": "112699e0",
   "metadata": {
    "papermill": {
     "duration": 0.008354,
     "end_time": "2023-03-08T09:23:50.707888",
     "exception": false,
     "start_time": "2023-03-08T09:23:50.699534",
     "status": "completed"
    },
    "tags": []
   },
   "source": [
    "<div id='1'\n",
    "     style = \"display: fill;\n",
    "              border-radius: 10px;\n",
    "              background-color: #AD8B73;\">\n",
    "    <h3 style = \"padding: 15px; \n",
    "                 color: white;\n",
    "                 text-align: left;\n",
    "                 font-family: Trebuchet MS;\"> Splitting Training and Testing Dataset\n",
    "    </h3>\n",
    "</div>"
   ]
  },
  {
   "cell_type": "code",
   "execution_count": 10,
   "id": "398634f5",
   "metadata": {
    "execution": {
     "iopub.execute_input": "2023-03-08T09:23:50.727289Z",
     "iopub.status.busy": "2023-03-08T09:23:50.726917Z",
     "iopub.status.idle": "2023-03-08T09:23:50.734359Z",
     "shell.execute_reply": "2023-03-08T09:23:50.733594Z"
    },
    "papermill": {
     "duration": 0.01953,
     "end_time": "2023-03-08T09:23:50.736260",
     "exception": false,
     "start_time": "2023-03-08T09:23:50.716730",
     "status": "completed"
    },
    "tags": []
   },
   "outputs": [],
   "source": [
    "#Splitting x and y into training and testing datasets\n",
    "\n",
    "X_train,X_test,y_train,y_test = train_test_split(X,y, test_size=0.2,random_state=4)"
   ]
  },
  {
   "cell_type": "code",
   "execution_count": 11,
   "id": "0efe07bb",
   "metadata": {
    "execution": {
     "iopub.execute_input": "2023-03-08T09:23:50.756959Z",
     "iopub.status.busy": "2023-03-08T09:23:50.755678Z",
     "iopub.status.idle": "2023-03-08T09:23:50.763260Z",
     "shell.execute_reply": "2023-03-08T09:23:50.761986Z"
    },
    "papermill": {
     "duration": 0.020498,
     "end_time": "2023-03-08T09:23:50.765990",
     "exception": false,
     "start_time": "2023-03-08T09:23:50.745492",
     "status": "completed"
    },
    "tags": []
   },
   "outputs": [
    {
     "data": {
      "text/plain": [
       "((820, 21), (205, 21))"
      ]
     },
     "execution_count": 11,
     "metadata": {},
     "output_type": "execute_result"
    }
   ],
   "source": [
    "#checking the shape of X_train and X_test\n",
    "X_train.shape, X_test.shape"
   ]
  },
  {
   "cell_type": "markdown",
   "id": "d4f88ab1",
   "metadata": {
    "papermill": {
     "duration": 0.008694,
     "end_time": "2023-03-08T09:23:50.784095",
     "exception": false,
     "start_time": "2023-03-08T09:23:50.775401",
     "status": "completed"
    },
    "tags": []
   },
   "source": [
    "<div id='3'\n",
    "     style = \"display: fill;\n",
    "              border-radius: 10px;\n",
    "              background-color: #B7CADB;\">\n",
    "    <h2 style = \"padding: 15px; \n",
    "                 color: white;\n",
    "                 text-align: left;\n",
    "                 font-family: Trebuchet MS;\">Model Training\n",
    "    </h2>\n",
    "</div>"
   ]
  },
  {
   "cell_type": "code",
   "execution_count": 12,
   "id": "9046a961",
   "metadata": {
    "execution": {
     "iopub.execute_input": "2023-03-08T09:23:50.804725Z",
     "iopub.status.busy": "2023-03-08T09:23:50.803758Z",
     "iopub.status.idle": "2023-03-08T09:23:50.901515Z",
     "shell.execute_reply": "2023-03-08T09:23:50.899847Z"
    },
    "papermill": {
     "duration": 0.110422,
     "end_time": "2023-03-08T09:23:50.903799",
     "exception": false,
     "start_time": "2023-03-08T09:23:50.793377",
     "status": "completed"
    },
    "tags": []
   },
   "outputs": [
    {
     "name": "stdout",
     "output_type": "stream",
     "text": [
      "AdaBoost Classifier Model Accuracy: 0.8878048780487805\n"
     ]
    }
   ],
   "source": [
    "model = AdaBoostClassifier(n_estimators=50, learning_rate=1, random_state=0)\n",
    "\n",
    "# Train Adaboost Classifer\n",
    "model.fit(X_train, y_train)\n",
    "\n",
    "#Predict the response for test dataset\n",
    "y_pred = model.predict(X_test)\n",
    "print(\"AdaBoost Classifier Model Accuracy:\", accuracy_score(y_test, y_pred))"
   ]
  },
  {
   "cell_type": "markdown",
   "id": "259cc701",
   "metadata": {
    "papermill": {
     "duration": 0.009063,
     "end_time": "2023-03-08T09:23:50.922209",
     "exception": false,
     "start_time": "2023-03-08T09:23:50.913146",
     "status": "completed"
    },
    "tags": []
   },
   "source": [
    "<div id='1'\n",
    "     style = \"display: fill;\n",
    "              border-radius: 10px;\n",
    "              background-color: #AD8B73;\">\n",
    "    <h3 style = \"padding: 15px; \n",
    "                 color: white;\n",
    "                 text-align: left;\n",
    "                 font-family: Trebuchet MS;\"> Splitting Training and Testing Dataset\n",
    "    </h3>\n",
    "</div>"
   ]
  },
  {
   "cell_type": "code",
   "execution_count": 13,
   "id": "53e66dda",
   "metadata": {
    "execution": {
     "iopub.execute_input": "2023-03-08T09:23:50.942473Z",
     "iopub.status.busy": "2023-03-08T09:23:50.941592Z",
     "iopub.status.idle": "2023-03-08T09:23:56.660586Z",
     "shell.execute_reply": "2023-03-08T09:23:56.659029Z"
    },
    "papermill": {
     "duration": 5.731706,
     "end_time": "2023-03-08T09:23:56.663101",
     "exception": false,
     "start_time": "2023-03-08T09:23:50.931395",
     "status": "completed"
    },
    "tags": []
   },
   "outputs": [
    {
     "name": "stdout",
     "output_type": "stream",
     "text": [
      "Model Accuracy with SVC Base Estimator: 0.7707317073170732\n"
     ]
    }
   ],
   "source": [
    "# import Support Vector Classifier\n",
    "from sklearn.svm import SVC\n",
    "svc=SVC(probability=True, kernel='linear')\n",
    "\n",
    "# create adaboost classifer object\n",
    "model2 =AdaBoostClassifier(n_estimators=50, base_estimator=svc,learning_rate=1, random_state=0)\n",
    "\n",
    "# train adaboost classifer\n",
    "model2.fit(X_train, y_train)\n",
    "\n",
    "# predict test dataset\n",
    "y_pred = model2.predict(X_test)\n",
    "\n",
    "# calculate and print model accuracy\n",
    "print(\"Model Accuracy with SVC Base Estimator:\",accuracy_score(y_test, y_pred))"
   ]
  },
  {
   "cell_type": "markdown",
   "id": "11ca409d",
   "metadata": {
    "papermill": {
     "duration": 0.008869,
     "end_time": "2023-03-08T09:23:56.682004",
     "exception": false,
     "start_time": "2023-03-08T09:23:56.673135",
     "status": "completed"
    },
    "tags": []
   },
   "source": [
    "<div id='4'\n",
    "     style = \"display: fill;\n",
    "              border-radius: 10px;\n",
    "              background-color: #B7CADB;\">\n",
    "    <h1 style = \"padding: 15px; \n",
    "                 color: white;\n",
    "                 text-align: left;\n",
    "                 font-family: Trebuchet MS;\">Evaluation\n",
    "    </h1>\n",
    "</div>"
   ]
  },
  {
   "cell_type": "markdown",
   "id": "e3924070",
   "metadata": {
    "papermill": {
     "duration": 0.009511,
     "end_time": "2023-03-08T09:23:56.700857",
     "exception": false,
     "start_time": "2023-03-08T09:23:56.691346",
     "status": "completed"
    },
    "tags": []
   },
   "source": [
    "<div id='1'\n",
    "     style = \"display: fill;\n",
    "              border-radius: 10px;\n",
    "              background-color: #AD8B73;\">\n",
    "    <h3 style = \"padding: 15px; \n",
    "                 color: white;\n",
    "                 text-align: left;\n",
    "                 font-family: Trebuchet MS;\">Accuracy\n",
    "    </h3>\n",
    "</div>"
   ]
  },
  {
   "cell_type": "code",
   "execution_count": 14,
   "id": "2bd2fc2a",
   "metadata": {
    "execution": {
     "iopub.execute_input": "2023-03-08T09:23:56.721846Z",
     "iopub.status.busy": "2023-03-08T09:23:56.721461Z",
     "iopub.status.idle": "2023-03-08T09:23:56.748442Z",
     "shell.execute_reply": "2023-03-08T09:23:56.746819Z"
    },
    "papermill": {
     "duration": 0.040772,
     "end_time": "2023-03-08T09:23:56.751103",
     "exception": false,
     "start_time": "2023-03-08T09:23:56.710331",
     "status": "completed"
    },
    "tags": []
   },
   "outputs": [
    {
     "name": "stdout",
     "output_type": "stream",
     "text": [
      "Model Test Accuracy : 0.8878\n",
      "Model Train Accuracy : 0.9232\n"
     ]
    }
   ],
   "source": [
    "y_pred = model.predict(X_test)\n",
    "y_pred_train = model.predict(X_train)\n",
    "from sklearn.metrics import accuracy_score\n",
    "print(\"Model Test Accuracy : {0:0.4f}\".format(accuracy_score(y_test,y_pred)))\n",
    "print(\"Model Train Accuracy : {0:0.4f}\".format(accuracy_score(y_train,y_pred_train)))"
   ]
  },
  {
   "cell_type": "markdown",
   "id": "a2fde53e",
   "metadata": {
    "papermill": {
     "duration": 0.00859,
     "end_time": "2023-03-08T09:23:56.768816",
     "exception": false,
     "start_time": "2023-03-08T09:23:56.760226",
     "status": "completed"
    },
    "tags": []
   },
   "source": [
    "<div id='1'\n",
    "     style = \"display: fill;\n",
    "              border-radius: 10px;\n",
    "              background-color: #AD8B73;\">\n",
    "    <h3 style = \"padding: 15px; \n",
    "                 color: white;\n",
    "                 text-align: left;\n",
    "                 font-family: Trebuchet MS;\">Confusion Matrix\n",
    "    </h3>\n",
    "</div>"
   ]
  },
  {
   "cell_type": "code",
   "execution_count": 15,
   "id": "91ed9ebe",
   "metadata": {
    "_kg_hide-output": true,
    "execution": {
     "iopub.execute_input": "2023-03-08T09:23:56.788189Z",
     "iopub.status.busy": "2023-03-08T09:23:56.787564Z",
     "iopub.status.idle": "2023-03-08T09:23:56.796913Z",
     "shell.execute_reply": "2023-03-08T09:23:56.795435Z"
    },
    "papermill": {
     "duration": 0.021029,
     "end_time": "2023-03-08T09:23:56.798736",
     "exception": false,
     "start_time": "2023-03-08T09:23:56.777707",
     "status": "completed"
    },
    "tags": []
   },
   "outputs": [
    {
     "name": "stdout",
     "output_type": "stream",
     "text": [
      "Confusion Matrix\n",
      "\n",
      " [[95 12]\n",
      " [11 87]]\n",
      "\n",
      "True Positives(TP) =  95\n",
      "\n",
      "True Negatives(TN) =  87\n",
      "\n",
      "False Positives(FP) =  12\n",
      "\n",
      "False Negatives(FN) =  11\n"
     ]
    }
   ],
   "source": [
    "from sklearn.metrics import confusion_matrix\n",
    "cm = confusion_matrix(y_test,y_pred)\n",
    "print('Confusion Matrix\\n\\n',cm)\n",
    "print('\\nTrue Positives(TP) = ', cm[0,0])\n",
    "print('\\nTrue Negatives(TN) = ', cm[1,1])\n",
    "print('\\nFalse Positives(FP) = ', cm[0,1])\n",
    "print('\\nFalse Negatives(FN) = ', cm[1,0])"
   ]
  },
  {
   "cell_type": "code",
   "execution_count": 16,
   "id": "21254049",
   "metadata": {
    "execution": {
     "iopub.execute_input": "2023-03-08T09:23:56.817910Z",
     "iopub.status.busy": "2023-03-08T09:23:56.817566Z",
     "iopub.status.idle": "2023-03-08T09:23:57.045810Z",
     "shell.execute_reply": "2023-03-08T09:23:57.044686Z"
    },
    "papermill": {
     "duration": 0.241067,
     "end_time": "2023-03-08T09:23:57.048810",
     "exception": false,
     "start_time": "2023-03-08T09:23:56.807743",
     "status": "completed"
    },
    "tags": []
   },
   "outputs": [
    {
     "data": {
      "text/plain": [
       "<AxesSubplot:>"
      ]
     },
     "execution_count": 16,
     "metadata": {},
     "output_type": "execute_result"
    },
    {
     "data": {
      "image/png": "[encoded data removed]",
      "text/plain": [
       "<Figure size 640x480 with 2 Axes>"
      ]
     },
     "metadata": {},
     "output_type": "display_data"
    }
   ],
   "source": [
    "sns.heatmap(cm,annot= True, fmt='d', cmap='mako')"
   ]
  },
  {
   "cell_type": "markdown",
   "id": "6c11ea74",
   "metadata": {
    "papermill": {
     "duration": 0.009436,
     "end_time": "2023-03-08T09:23:57.068274",
     "exception": false,
     "start_time": "2023-03-08T09:23:57.058838",
     "status": "completed"
    },
    "tags": []
   },
   "source": [
    "<div id='1'\n",
    "     style = \"display: fill;\n",
    "              border-radius: 10px;\n",
    "              background-color: #AD8B73;\">\n",
    "    <h3 style = \"padding: 15px; \n",
    "                 color: white;\n",
    "                 text-align: left;\n",
    "                 font-family: Trebuchet MS;\"> Classification Report\n",
    "    </h3>\n",
    "</div>"
   ]
  },
  {
   "cell_type": "code",
   "execution_count": 17,
   "id": "63db8045",
   "metadata": {
    "execution": {
     "iopub.execute_input": "2023-03-08T09:23:57.089500Z",
     "iopub.status.busy": "2023-03-08T09:23:57.089141Z",
     "iopub.status.idle": "2023-03-08T09:23:57.099929Z",
     "shell.execute_reply": "2023-03-08T09:23:57.098693Z"
    },
    "papermill": {
     "duration": 0.023663,
     "end_time": "2023-03-08T09:23:57.101883",
     "exception": false,
     "start_time": "2023-03-08T09:23:57.078220",
     "status": "completed"
    },
    "tags": []
   },
   "outputs": [
    {
     "name": "stdout",
     "output_type": "stream",
     "text": [
      "              precision    recall  f1-score   support\n",
      "\n",
      "           0       0.90      0.89      0.89       107\n",
      "           1       0.88      0.89      0.88        98\n",
      "\n",
      "    accuracy                           0.89       205\n",
      "   macro avg       0.89      0.89      0.89       205\n",
      "weighted avg       0.89      0.89      0.89       205\n",
      "\n"
     ]
    }
   ],
   "source": [
    "from sklearn.metrics import classification_report\n",
    "print(classification_report(y_test,y_pred))"
   ]
  },
  {
   "cell_type": "markdown",
   "id": "e3d1dc2c",
   "metadata": {
    "papermill": {
     "duration": 0.009085,
     "end_time": "2023-03-08T09:23:57.120574",
     "exception": false,
     "start_time": "2023-03-08T09:23:57.111489",
     "status": "completed"
    },
    "tags": []
   },
   "source": [
    "<div id='1'\n",
    "     style = \"display: fill;\n",
    "              border-radius: 10px;\n",
    "              background-color: #AD8B73;\">\n",
    "    <h3 style = \"padding: 15px; \n",
    "                 color: white;\n",
    "                 text-align: left;\n",
    "                 font-family: Trebuchet MS;\"> Scores from Confusion Matrix\n",
    "    </h3>\n",
    "</div>"
   ]
  },
  {
   "cell_type": "code",
   "execution_count": 18,
   "id": "541dc617",
   "metadata": {
    "execution": {
     "iopub.execute_input": "2023-03-08T09:23:57.140789Z",
     "iopub.status.busy": "2023-03-08T09:23:57.140411Z",
     "iopub.status.idle": "2023-03-08T09:23:57.149183Z",
     "shell.execute_reply": "2023-03-08T09:23:57.148330Z"
    },
    "papermill": {
     "duration": 0.021145,
     "end_time": "2023-03-08T09:23:57.151071",
     "exception": false,
     "start_time": "2023-03-08T09:23:57.129926",
     "status": "completed"
    },
    "tags": []
   },
   "outputs": [
    {
     "name": "stdout",
     "output_type": "stream",
     "text": [
      "Classification accuracy : 0.8878\n",
      "Classification error : 0.1122\n",
      "Precision : 0.8879\n",
      "Recall or Sensitivity : 0.8962\n",
      "True Positive Rate : 0.8962\n",
      "False Positive Rate : 0.1212\n",
      "Specificity : 0.8788\n"
     ]
    }
   ],
   "source": [
    "TP = cm[0,0]\n",
    "TN = cm[1,1]\n",
    "FP = cm[0,1]\n",
    "FN = cm[1,0]\n",
    "\n",
    "# print classification accuracy\n",
    "classification_accuracy = (TP + TN) / float(TP + TN + FP + FN)\n",
    "print('Classification accuracy : {0:0.4f}'.format(classification_accuracy))\n",
    "\n",
    "# print classification error\n",
    "classification_error = (FP + FN) / float(TP + TN + FP + FN)\n",
    "print('Classification error : {0:0.4f}'.format(classification_error))\n",
    "\n",
    "# print precision score\n",
    "precision = TP / float(TP + FP)\n",
    "print('Precision : {0:0.4f}'.format(precision))\n",
    "\n",
    "#print recall score\n",
    "recall = TP / float(TP + FN)\n",
    "print('Recall or Sensitivity : {0:0.4f}'.format(recall))\n",
    "\n",
    "#true positive rate\n",
    "true_positive_rate = TP / float(TP + FN)\n",
    "print('True Positive Rate : {0:0.4f}'.format(true_positive_rate))\n",
    "\n",
    "\n",
    "#false positive rate\n",
    "false_positive_rate = FP / float(FP + TN)\n",
    "print('False Positive Rate : {0:0.4f}'.format(false_positive_rate))\n",
    "\n",
    "#Specificity\n",
    "specificity = TN / (TN + FP)\n",
    "print('Specificity : {0:0.4f}'.format(specificity))"
   ]
  },
  {
   "cell_type": "markdown",
   "id": "930f8b33",
   "metadata": {
    "papermill": {
     "duration": 0.009244,
     "end_time": "2023-03-08T09:23:57.169842",
     "exception": false,
     "start_time": "2023-03-08T09:23:57.160598",
     "status": "completed"
    },
    "tags": []
   },
   "source": [
    "<div id='1'\n",
    "     style = \"display: fill;\n",
    "              border-radius: 10px;\n",
    "              background-color: #AD8B73;\">\n",
    "    <h3 style = \"padding: 15px; \n",
    "                 color: white;\n",
    "                 text-align: left;\n",
    "                 font-family: Trebuchet MS;\">ROC Curve\n",
    "    </h3>\n",
    "</div>"
   ]
  },
  {
   "cell_type": "code",
   "execution_count": 19,
   "id": "c3640e6e",
   "metadata": {
    "execution": {
     "iopub.execute_input": "2023-03-08T09:23:57.190825Z",
     "iopub.status.busy": "2023-03-08T09:23:57.190426Z",
     "iopub.status.idle": "2023-03-08T09:23:57.348888Z",
     "shell.execute_reply": "2023-03-08T09:23:57.347927Z"
    },
    "papermill": {
     "duration": 0.171188,
     "end_time": "2023-03-08T09:23:57.350625",
     "exception": false,
     "start_time": "2023-03-08T09:23:57.179437",
     "status": "completed"
    },
    "tags": []
   },
   "outputs": [
    {
     "data": {
      "image/png": "[encoded data removed]",
      "text/plain": [
       "<Figure size 640x480 with 1 Axes>"
      ]
     },
     "metadata": {},
     "output_type": "display_data"
    }
   ],
   "source": [
    "from sklearn import metrics\n",
    "metrics.plot_roc_curve(model,X_test,y_test)\n",
    "plt.show()"
   ]
  },
  {
   "cell_type": "markdown",
   "id": "94a58db5",
   "metadata": {
    "papermill": {
     "duration": 0.009362,
     "end_time": "2023-03-08T09:23:57.369864",
     "exception": false,
     "start_time": "2023-03-08T09:23:57.360502",
     "status": "completed"
    },
    "tags": []
   },
   "source": [
    "<div id='1'\n",
    "     style = \"display: fill;\n",
    "              border-radius: 10px;\n",
    "              background-color: #AD8B73;\">\n",
    "    <h3 style = \"padding: 15px; \n",
    "                 color: white;\n",
    "                 text-align: left;\n",
    "                 font-family: Trebuchet MS;\">ROC AUC Score\n",
    "    </h3>\n",
    "</div>"
   ]
  },
  {
   "cell_type": "code",
   "execution_count": 20,
   "id": "ee9454d6",
   "metadata": {
    "execution": {
     "iopub.execute_input": "2023-03-08T09:23:57.391517Z",
     "iopub.status.busy": "2023-03-08T09:23:57.390518Z",
     "iopub.status.idle": "2023-03-08T09:23:57.405262Z",
     "shell.execute_reply": "2023-03-08T09:23:57.403977Z"
    },
    "papermill": {
     "duration": 0.02854,
     "end_time": "2023-03-08T09:23:57.408049",
     "exception": false,
     "start_time": "2023-03-08T09:23:57.379509",
     "status": "completed"
    },
    "tags": []
   },
   "outputs": [
    {
     "name": "stdout",
     "output_type": "stream",
     "text": [
      "ROC AUC : 0.9536\n"
     ]
    }
   ],
   "source": [
    "# compute ROC AUC\n",
    "# store the predicted probabilities for class 1 - Probability of >50K\n",
    "\n",
    "y_pred1 = model.predict_proba(X_test)[:, 1]\n",
    "from sklearn.metrics import roc_auc_score\n",
    "\n",
    "ROC_AUC = roc_auc_score(y_test, y_pred1)\n",
    "\n",
    "print('ROC AUC : {:.4f}'.format(ROC_AUC))"
   ]
  },
  {
   "cell_type": "markdown",
   "id": "31ad2b91",
   "metadata": {
    "papermill": {
     "duration": 0.009705,
     "end_time": "2023-03-08T09:23:57.428409",
     "exception": false,
     "start_time": "2023-03-08T09:23:57.418704",
     "status": "completed"
    },
    "tags": []
   },
   "source": [
    "<div id='1'\n",
    "     style = \"display: fill;\n",
    "              border-radius: 10px;\n",
    "              background-color: #AD8B73;\">\n",
    "    <h3 style = \"padding: 15px; \n",
    "                 color: white;\n",
    "                 text-align: left;\n",
    "                 font-family: Trebuchet MS;\">Cross Validation Score\n",
    "    </h3>\n",
    "</div>"
   ]
  },
  {
   "cell_type": "code",
   "execution_count": 21,
   "id": "ce81fe48",
   "metadata": {
    "execution": {
     "iopub.execute_input": "2023-03-08T09:23:57.450151Z",
     "iopub.status.busy": "2023-03-08T09:23:57.449532Z",
     "iopub.status.idle": "2023-03-08T09:23:58.291120Z",
     "shell.execute_reply": "2023-03-08T09:23:58.290193Z"
    },
    "papermill": {
     "duration": 0.854679,
     "end_time": "2023-03-08T09:23:58.293140",
     "exception": false,
     "start_time": "2023-03-08T09:23:57.438461",
     "status": "completed"
    },
    "tags": []
   },
   "outputs": [
    {
     "name": "stdout",
     "output_type": "stream",
     "text": [
      "Cross-validation scores:[0.91463415 0.95121951 0.85365854 0.87804878 0.90243902 0.86585366\n",
      " 0.87804878 0.86585366 0.96341463 0.92682927]\n",
      "\n",
      "Average cross-validation score: 0.9000\n"
     ]
    }
   ],
   "source": [
    "# Applying 10-Fold Cross Validation\n",
    "\n",
    "from sklearn.model_selection import cross_val_score\n",
    "\n",
    "scores = cross_val_score(model, X_train, y_train, cv = 10, scoring='accuracy')\n",
    "\n",
    "print('Cross-validation scores:{}'.format(scores))\n",
    "\n",
    "# compute Average cross-validation score\n",
    "\n",
    "print('\\nAverage cross-validation score: {:.4f}'.format(scores.mean()))"
   ]
  },
  {
   "cell_type": "markdown",
   "id": "82215db5",
   "metadata": {
    "papermill": {
     "duration": 0.009961,
     "end_time": "2023-03-08T09:23:58.313376",
     "exception": false,
     "start_time": "2023-03-08T09:23:58.303415",
     "status": "completed"
    },
    "tags": []
   },
   "source": [
    "<div id='5'\n",
    "     style = \"display: fill;\n",
    "              border-radius: 10px;\n",
    "              background-color: #B7CADB;\">\n",
    "    <h1 style = \"padding: 15px; \n",
    "                 color: white;\n",
    "                 text-align: left;\n",
    "                 font-family: Trebuchet MS;\">K Fold Cross Validation\n",
    "    </h1>\n",
    "</div>"
   ]
  },
  {
   "cell_type": "code",
   "execution_count": 22,
   "id": "9ba6be65",
   "metadata": {
    "execution": {
     "iopub.execute_input": "2023-03-08T09:23:58.335242Z",
     "iopub.status.busy": "2023-03-08T09:23:58.334895Z",
     "iopub.status.idle": "2023-03-08T09:23:58.778814Z",
     "shell.execute_reply": "2023-03-08T09:23:58.778106Z"
    },
    "papermill": {
     "duration": 0.457458,
     "end_time": "2023-03-08T09:23:58.780932",
     "exception": false,
     "start_time": "2023-03-08T09:23:58.323474",
     "status": "completed"
    },
    "tags": []
   },
   "outputs": [
    {
     "name": "stdout",
     "output_type": "stream",
     "text": [
      "Stratified cross-validation scores with linear kernel:[0.92195122 0.91707317 0.89756098 0.89756098 0.87317073]\n",
      "\n",
      "Average stratified cross-validation score with linear kernel:0.9015\n"
     ]
    }
   ],
   "source": [
    "from sklearn.model_selection import KFold\n",
    "\n",
    "\n",
    "kfold=KFold(n_splits=5, shuffle=True, random_state=0)\n",
    "\n",
    "model=AdaBoostClassifier()\n",
    "\n",
    "\n",
    "linear_scores = cross_val_score(model, X, y, cv=kfold)\n",
    "# print cross-validation scores with linear kernel\n",
    "\n",
    "print('Stratified cross-validation scores with linear kernel:{}'.format(linear_scores))\n",
    "# print average cross-validation score with linear kernel\n",
    "\n",
    "print('\\nAverage stratified cross-validation score with linear kernel:{:.4f}'.format(linear_scores.mean()))"
   ]
  },
  {
   "cell_type": "markdown",
   "id": "77b2fda6",
   "metadata": {
    "papermill": {
     "duration": 0.009498,
     "end_time": "2023-03-08T09:23:58.802162",
     "exception": false,
     "start_time": "2023-03-08T09:23:58.792664",
     "status": "completed"
    },
    "tags": []
   },
   "source": [
    "<div id='5'\n",
    "     style = \"display: fill;\n",
    "              border-radius: 10px;\n",
    "              background-color: #0E8388;\">\n",
    "    <h1 style = \"padding: 30px; \n",
    "                 color: white;\n",
    "                 font-weight:600;\n",
    "                 font-size:50px;\n",
    "                 text-align: CENTER;\n",
    "                 font-family: Tilt Warp;\">PLEASE UPVOTE IF IT HELPED\n",
    "    </h1>\n",
    "</div>](http://)"
   ]
  },
  {
   "cell_type": "code",
   "execution_count": null,
   "id": "8afa7031",
   "metadata": {
    "papermill": {
     "duration": 0.009481,
     "end_time": "2023-03-08T09:23:58.821594",
     "exception": false,
     "start_time": "2023-03-08T09:23:58.812113",
     "status": "completed"
    },
    "tags": []
   },
   "outputs": [],
   "source": []
  }
 ],
 "metadata": {
  "kernelspec": {
   "display_name": "Python 3",
   "language": "python",
   "name": "python3"
  },
  "language_info": {
   "codemirror_mode": {
    "name": "ipython",
    "version": 3
   },
   "file_extension": ".py",
   "mimetype": "text/x-python",
   "name": "python",
   "nbconvert_exporter": "python",
   "pygments_lexer": "ipython3",
   "version": "3.7.12"
  },
  "papermill": {
   "default_parameters": {},
   "duration": 18.521402,
   "end_time": "2023-03-08T09:23:59.552151",
   "environment_variables": {},
   "exception": null,
   "input_path": "__notebook__.ipynb",
   "output_path": "__notebook__.ipynb",
   "parameters": {},
   "start_time": "2023-03-08T09:23:41.030749",
   "version": "2.3.4"
  }
 },
 "nbformat": 4,
 "nbformat_minor": 5
}
