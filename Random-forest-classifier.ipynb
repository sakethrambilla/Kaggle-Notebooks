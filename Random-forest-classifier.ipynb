{
 "cells": [
  {
   "cell_type": "markdown",
   "id": "b8b3f352",
   "metadata": {
    "papermill": {
     "duration": 0.010376,
     "end_time": "2023-03-07T10:21:52.235450",
     "exception": false,
     "start_time": "2023-03-07T10:21:52.225074",
     "status": "completed"
    },
    "tags": []
   },
   "source": [
    "<div style=\"padding:20px;color:white;margin:0;font-size:200%;text-align:center;display:fill;border-radius:5px;background-color:#C85C8E;overflow:hidden;font-weight:500\">Random Forest Classifier 💸 </div>\n",
    "\n",
    "\n",
    "\n"
   ]
  },
  {
   "cell_type": "markdown",
   "id": "dc7731d2",
   "metadata": {
    "papermill": {
     "duration": 0.008801,
     "end_time": "2023-03-07T10:21:52.253672",
     "exception": false,
     "start_time": "2023-03-07T10:21:52.244871",
     "status": "completed"
    },
    "tags": []
   },
   "source": [
    "# **Table of Contents**\n",
    "\n",
    "1.\t[Introduction](#1)\n",
    "2.\t[Data Preprocessing](#2)\n",
    "3.\t[Model Training](#3)\n",
    "4.\t[Evaluation](#4)\n",
    "5.\t[K Fold Cross Validation](#5)\n"
   ]
  },
  {
   "cell_type": "markdown",
   "id": "c2b405c6",
   "metadata": {
    "papermill": {
     "duration": 0.008704,
     "end_time": "2023-03-07T10:21:52.271444",
     "exception": false,
     "start_time": "2023-03-07T10:21:52.262740",
     "status": "completed"
    },
    "tags": []
   },
   "source": [
    "<div id='1'\n",
    "     style = \"display: fill;\n",
    "              border-radius: 10px;\n",
    "              background-color: #B7CADB;\">\n",
    "    <h1 style = \"padding: 15px; \n",
    "                 color: white;\n",
    "                 text-align: left;\n",
    "                 font-family: Trebuchet MS;\">Introduction\n",
    "    </h1>\n",
    "</div>"
   ]
  },
  {
   "cell_type": "markdown",
   "id": "2cb871fe",
   "metadata": {
    "papermill": {
     "duration": 0.008636,
     "end_time": "2023-03-07T10:21:52.289061",
     "exception": false,
     "start_time": "2023-03-07T10:21:52.280425",
     "status": "completed"
    },
    "tags": []
   },
   "source": [
    "<div id='1'\n",
    "     style = \"display: fill;\n",
    "              border-radius: 10px;\n",
    "              background-color: #AD8B73;\">\n",
    "    <h3 style = \"padding: 15px; \n",
    "                 color: white;\n",
    "                 text-align: left;\n",
    "                 font-family: Trebuchet MS;\">Importing Libraries\n",
    "    </h3>\n",
    "</div>"
   ]
  },
  {
   "cell_type": "code",
   "execution_count": 1,
   "id": "26adc83d",
   "metadata": {
    "_cell_guid": "b1076dfc-b9ad-4769-8c92-a6c4dae69d19",
    "_uuid": "8f2839f25d086af736a60e9eeb907d3b93b6e0e5",
    "execution": {
     "iopub.execute_input": "2023-03-07T10:21:52.309706Z",
     "iopub.status.busy": "2023-03-07T10:21:52.308726Z",
     "iopub.status.idle": "2023-03-07T10:21:53.532123Z",
     "shell.execute_reply": "2023-03-07T10:21:53.530697Z"
    },
    "papermill": {
     "duration": 1.236706,
     "end_time": "2023-03-07T10:21:53.534760",
     "exception": false,
     "start_time": "2023-03-07T10:21:52.298054",
     "status": "completed"
    },
    "tags": []
   },
   "outputs": [
    {
     "name": "stdout",
     "output_type": "stream",
     "text": [
      "/kaggle/input/social-network-ads/Social_Network_Ads.csv\n"
     ]
    }
   ],
   "source": [
    "import numpy as np \n",
    "import pandas as pd \n",
    "import matplotlib.pyplot as plt\n",
    "import seaborn as sns\n",
    "%matplotlib inline\n",
    "import os\n",
    "for dirname, _, filenames in os.walk('/kaggle/input'):\n",
    "    for filename in filenames:\n",
    "        print(os.path.join(dirname, filename))\n",
    "from sklearn.model_selection import train_test_split\n",
    "from sklearn.metrics import accuracy_score,classification_report,confusion_matrix,roc_auc_score\n",
    "import warnings\n",
    "warnings.filterwarnings('ignore')"
   ]
  },
  {
   "cell_type": "code",
   "execution_count": 2,
   "id": "4e199e88",
   "metadata": {
    "execution": {
     "iopub.execute_input": "2023-03-07T10:21:53.555829Z",
     "iopub.status.busy": "2023-03-07T10:21:53.555378Z",
     "iopub.status.idle": "2023-03-07T10:21:53.590962Z",
     "shell.execute_reply": "2023-03-07T10:21:53.589673Z"
    },
    "papermill": {
     "duration": 0.04947,
     "end_time": "2023-03-07T10:21:53.593825",
     "exception": false,
     "start_time": "2023-03-07T10:21:53.544355",
     "status": "completed"
    },
    "tags": []
   },
   "outputs": [
    {
     "data": {
      "text/html": [
       "<div>\n",
       "<style scoped>\n",
       "    .dataframe tbody tr th:only-of-type {\n",
       "        vertical-align: middle;\n",
       "    }\n",
       "\n",
       "    .dataframe tbody tr th {\n",
       "        vertical-align: top;\n",
       "    }\n",
       "\n",
       "    .dataframe thead th {\n",
       "        text-align: right;\n",
       "    }\n",
       "</style>\n",
       "<table border=\"1\" class=\"dataframe\">\n",
       "  <thead>\n",
       "    <tr style=\"text-align: right;\">\n",
       "      <th></th>\n",
       "      <th>Age</th>\n",
       "      <th>EstimatedSalary</th>\n",
       "      <th>Purchased</th>\n",
       "    </tr>\n",
       "  </thead>\n",
       "  <tbody>\n",
       "    <tr>\n",
       "      <th>0</th>\n",
       "      <td>19</td>\n",
       "      <td>19000</td>\n",
       "      <td>0</td>\n",
       "    </tr>\n",
       "    <tr>\n",
       "      <th>1</th>\n",
       "      <td>35</td>\n",
       "      <td>20000</td>\n",
       "      <td>0</td>\n",
       "    </tr>\n",
       "    <tr>\n",
       "      <th>2</th>\n",
       "      <td>26</td>\n",
       "      <td>43000</td>\n",
       "      <td>0</td>\n",
       "    </tr>\n",
       "    <tr>\n",
       "      <th>3</th>\n",
       "      <td>27</td>\n",
       "      <td>57000</td>\n",
       "      <td>0</td>\n",
       "    </tr>\n",
       "    <tr>\n",
       "      <th>4</th>\n",
       "      <td>19</td>\n",
       "      <td>76000</td>\n",
       "      <td>0</td>\n",
       "    </tr>\n",
       "  </tbody>\n",
       "</table>\n",
       "</div>"
      ],
      "text/plain": [
       "   Age  EstimatedSalary  Purchased\n",
       "0   19            19000          0\n",
       "1   35            20000          0\n",
       "2   26            43000          0\n",
       "3   27            57000          0\n",
       "4   19            76000          0"
      ]
     },
     "execution_count": 2,
     "metadata": {},
     "output_type": "execute_result"
    }
   ],
   "source": [
    "df=pd.read_csv('/kaggle/input/social-network-ads/Social_Network_Ads.csv')\n",
    "df.head()"
   ]
  },
  {
   "cell_type": "code",
   "execution_count": 3,
   "id": "d40ad85d",
   "metadata": {
    "execution": {
     "iopub.execute_input": "2023-03-07T10:21:53.616375Z",
     "iopub.status.busy": "2023-03-07T10:21:53.615613Z",
     "iopub.status.idle": "2023-03-07T10:21:53.622783Z",
     "shell.execute_reply": "2023-03-07T10:21:53.621609Z"
    },
    "papermill": {
     "duration": 0.020576,
     "end_time": "2023-03-07T10:21:53.625305",
     "exception": false,
     "start_time": "2023-03-07T10:21:53.604729",
     "status": "completed"
    },
    "tags": []
   },
   "outputs": [
    {
     "data": {
      "text/plain": [
       "(400, 3)"
      ]
     },
     "execution_count": 3,
     "metadata": {},
     "output_type": "execute_result"
    }
   ],
   "source": [
    "#Number of rows and columns\n",
    "df.shape"
   ]
  },
  {
   "cell_type": "code",
   "execution_count": 4,
   "id": "4c9e6995",
   "metadata": {
    "_kg_hide-output": true,
    "execution": {
     "iopub.execute_input": "2023-03-07T10:21:53.646173Z",
     "iopub.status.busy": "2023-03-07T10:21:53.645757Z",
     "iopub.status.idle": "2023-03-07T10:21:53.667368Z",
     "shell.execute_reply": "2023-03-07T10:21:53.666201Z"
    },
    "papermill": {
     "duration": 0.035333,
     "end_time": "2023-03-07T10:21:53.670258",
     "exception": false,
     "start_time": "2023-03-07T10:21:53.634925",
     "status": "completed"
    },
    "tags": []
   },
   "outputs": [
    {
     "name": "stdout",
     "output_type": "stream",
     "text": [
      "<class 'pandas.core.frame.DataFrame'>\n",
      "RangeIndex: 400 entries, 0 to 399\n",
      "Data columns (total 3 columns):\n",
      " #   Column           Non-Null Count  Dtype\n",
      "---  ------           --------------  -----\n",
      " 0   Age              400 non-null    int64\n",
      " 1   EstimatedSalary  400 non-null    int64\n",
      " 2   Purchased        400 non-null    int64\n",
      "dtypes: int64(3)\n",
      "memory usage: 9.5 KB\n"
     ]
    }
   ],
   "source": [
    "#Information about dataset\n",
    "df.info()"
   ]
  },
  {
   "cell_type": "markdown",
   "id": "05fb1960",
   "metadata": {
    "papermill": {
     "duration": 0.009153,
     "end_time": "2023-03-07T10:21:53.689027",
     "exception": false,
     "start_time": "2023-03-07T10:21:53.679874",
     "status": "completed"
    },
    "tags": []
   },
   "source": [
    "<div id='2'\n",
    "     style = \"display: fill;\n",
    "              border-radius: 10px;\n",
    "              background-color: #B7CADB;\">\n",
    "    <h1 style = \"padding: 15px; \n",
    "                 color: white;\n",
    "                 text-align: left;\n",
    "                 font-family: Trebuchet MS;\"> Data Preprocessing\n",
    "    </h1>\n",
    "</div>"
   ]
  },
  {
   "cell_type": "code",
   "execution_count": 5,
   "id": "e79d7a99",
   "metadata": {
    "_kg_hide-output": true,
    "execution": {
     "iopub.execute_input": "2023-03-07T10:21:53.710985Z",
     "iopub.status.busy": "2023-03-07T10:21:53.710051Z",
     "iopub.status.idle": "2023-03-07T10:21:53.720033Z",
     "shell.execute_reply": "2023-03-07T10:21:53.718886Z"
    },
    "papermill": {
     "duration": 0.023372,
     "end_time": "2023-03-07T10:21:53.722615",
     "exception": false,
     "start_time": "2023-03-07T10:21:53.699243",
     "status": "completed"
    },
    "tags": []
   },
   "outputs": [
    {
     "data": {
      "text/plain": [
       "Age                0\n",
       "EstimatedSalary    0\n",
       "Purchased          0\n",
       "dtype: int64"
      ]
     },
     "execution_count": 5,
     "metadata": {},
     "output_type": "execute_result"
    }
   ],
   "source": [
    "#Missing values\n",
    "df.isnull().sum()"
   ]
  },
  {
   "cell_type": "markdown",
   "id": "f97bdcf7",
   "metadata": {
    "papermill": {
     "duration": 0.009304,
     "end_time": "2023-03-07T10:21:53.742406",
     "exception": false,
     "start_time": "2023-03-07T10:21:53.733102",
     "status": "completed"
    },
    "tags": []
   },
   "source": [
    "<div id='1'\n",
    "     style = \"display: fill;\n",
    "              border-radius: 10px;\n",
    "              background-color: #AD8B73;\">\n",
    "    <h3 style = \"padding: 15px; \n",
    "                 color: white;\n",
    "                 text-align: left;\n",
    "                 font-family: Trebuchet MS;\">Separating Target Variable\n",
    "    </h3>\n",
    "</div>"
   ]
  },
  {
   "cell_type": "code",
   "execution_count": 6,
   "id": "eac8f6b2",
   "metadata": {
    "execution": {
     "iopub.execute_input": "2023-03-07T10:21:53.763720Z",
     "iopub.status.busy": "2023-03-07T10:21:53.763273Z",
     "iopub.status.idle": "2023-03-07T10:21:53.770589Z",
     "shell.execute_reply": "2023-03-07T10:21:53.769306Z"
    },
    "papermill": {
     "duration": 0.020895,
     "end_time": "2023-03-07T10:21:53.772978",
     "exception": false,
     "start_time": "2023-03-07T10:21:53.752083",
     "status": "completed"
    },
    "tags": []
   },
   "outputs": [],
   "source": [
    "#Declaring Dependent and Independent variables\n",
    "X = df.drop(['Purchased'],axis=1)\n",
    "y = df['Purchased']"
   ]
  },
  {
   "cell_type": "markdown",
   "id": "425c094e",
   "metadata": {
    "papermill": {
     "duration": 0.00941,
     "end_time": "2023-03-07T10:21:53.792209",
     "exception": false,
     "start_time": "2023-03-07T10:21:53.782799",
     "status": "completed"
    },
    "tags": []
   },
   "source": [
    "<div id='1'\n",
    "     style = \"display: fill;\n",
    "              border-radius: 10px;\n",
    "              background-color: #AD8B73;\">\n",
    "    <h3 style = \"padding: 15px; \n",
    "                 color: white;\n",
    "                 text-align: left;\n",
    "                 font-family: Trebuchet MS;\"> Splitting Training and Testing Dataset\n",
    "    </h3>\n",
    "</div>"
   ]
  },
  {
   "cell_type": "code",
   "execution_count": 7,
   "id": "a0756e4b",
   "metadata": {
    "execution": {
     "iopub.execute_input": "2023-03-07T10:21:53.813289Z",
     "iopub.status.busy": "2023-03-07T10:21:53.812863Z",
     "iopub.status.idle": "2023-03-07T10:21:53.821225Z",
     "shell.execute_reply": "2023-03-07T10:21:53.820053Z"
    },
    "papermill": {
     "duration": 0.021637,
     "end_time": "2023-03-07T10:21:53.823504",
     "exception": false,
     "start_time": "2023-03-07T10:21:53.801867",
     "status": "completed"
    },
    "tags": []
   },
   "outputs": [],
   "source": [
    "#Splitting x and y into training and testing datasets\n",
    "X_train,X_test,y_train,y_test = train_test_split(X,y, test_size=0.2,random_state=4)"
   ]
  },
  {
   "cell_type": "code",
   "execution_count": 8,
   "id": "9ee6ac1f",
   "metadata": {
    "execution": {
     "iopub.execute_input": "2023-03-07T10:21:53.844445Z",
     "iopub.status.busy": "2023-03-07T10:21:53.844025Z",
     "iopub.status.idle": "2023-03-07T10:21:53.850541Z",
     "shell.execute_reply": "2023-03-07T10:21:53.849718Z"
    },
    "papermill": {
     "duration": 0.019654,
     "end_time": "2023-03-07T10:21:53.852783",
     "exception": false,
     "start_time": "2023-03-07T10:21:53.833129",
     "status": "completed"
    },
    "tags": []
   },
   "outputs": [
    {
     "data": {
      "text/plain": [
       "((320, 2), (80, 2))"
      ]
     },
     "execution_count": 8,
     "metadata": {},
     "output_type": "execute_result"
    }
   ],
   "source": [
    "#checking the shape of X_train and X_test\n",
    "X_train.shape, X_test.shape"
   ]
  },
  {
   "cell_type": "markdown",
   "id": "7adf8d98",
   "metadata": {
    "papermill": {
     "duration": 0.009297,
     "end_time": "2023-03-07T10:21:53.871812",
     "exception": false,
     "start_time": "2023-03-07T10:21:53.862515",
     "status": "completed"
    },
    "tags": []
   },
   "source": [
    "<div id='1'\n",
    "     style = \"display: fill;\n",
    "              border-radius: 10px;\n",
    "              background-color: #AD8B73;\">\n",
    "    <h3 style = \"padding: 15px; \n",
    "                 color: white;\n",
    "                 text-align: left;\n",
    "                 font-family: Trebuchet MS;\">Feature Scaling\n",
    "    </h3>\n",
    "</div>"
   ]
  },
  {
   "cell_type": "code",
   "execution_count": 9,
   "id": "9afb0918",
   "metadata": {
    "execution": {
     "iopub.execute_input": "2023-03-07T10:21:53.893019Z",
     "iopub.status.busy": "2023-03-07T10:21:53.892560Z",
     "iopub.status.idle": "2023-03-07T10:21:53.904985Z",
     "shell.execute_reply": "2023-03-07T10:21:53.903499Z"
    },
    "papermill": {
     "duration": 0.026137,
     "end_time": "2023-03-07T10:21:53.907561",
     "exception": false,
     "start_time": "2023-03-07T10:21:53.881424",
     "status": "completed"
    },
    "tags": []
   },
   "outputs": [],
   "source": [
    "from sklearn.preprocessing import RobustScaler\n",
    "cols=X_train.columns\n",
    "scaler = RobustScaler()\n",
    "X_train = scaler.fit_transform(X_train)\n",
    "X_test = scaler.transform(X_test)"
   ]
  },
  {
   "cell_type": "code",
   "execution_count": 10,
   "id": "7f1b37c0",
   "metadata": {
    "execution": {
     "iopub.execute_input": "2023-03-07T10:21:53.929184Z",
     "iopub.status.busy": "2023-03-07T10:21:53.928768Z",
     "iopub.status.idle": "2023-03-07T10:21:53.944309Z",
     "shell.execute_reply": "2023-03-07T10:21:53.943398Z"
    },
    "papermill": {
     "duration": 0.029002,
     "end_time": "2023-03-07T10:21:53.946480",
     "exception": false,
     "start_time": "2023-03-07T10:21:53.917478",
     "status": "completed"
    },
    "tags": []
   },
   "outputs": [
    {
     "data": {
      "text/html": [
       "<div>\n",
       "<style scoped>\n",
       "    .dataframe tbody tr th:only-of-type {\n",
       "        vertical-align: middle;\n",
       "    }\n",
       "\n",
       "    .dataframe tbody tr th {\n",
       "        vertical-align: top;\n",
       "    }\n",
       "\n",
       "    .dataframe thead tr th {\n",
       "        text-align: left;\n",
       "    }\n",
       "</style>\n",
       "<table border=\"1\" class=\"dataframe\">\n",
       "  <thead>\n",
       "    <tr>\n",
       "      <th></th>\n",
       "      <th>Age</th>\n",
       "      <th>EstimatedSalary</th>\n",
       "    </tr>\n",
       "  </thead>\n",
       "  <tbody>\n",
       "    <tr>\n",
       "      <th>0</th>\n",
       "      <td>-0.0625</td>\n",
       "      <td>-0.454054</td>\n",
       "    </tr>\n",
       "    <tr>\n",
       "      <th>1</th>\n",
       "      <td>-0.1250</td>\n",
       "      <td>0.800000</td>\n",
       "    </tr>\n",
       "    <tr>\n",
       "      <th>2</th>\n",
       "      <td>0.1250</td>\n",
       "      <td>1.102703</td>\n",
       "    </tr>\n",
       "    <tr>\n",
       "      <th>3</th>\n",
       "      <td>-0.4375</td>\n",
       "      <td>-1.167568</td>\n",
       "    </tr>\n",
       "    <tr>\n",
       "      <th>4</th>\n",
       "      <td>-0.3125</td>\n",
       "      <td>0.324324</td>\n",
       "    </tr>\n",
       "  </tbody>\n",
       "</table>\n",
       "</div>"
      ],
      "text/plain": [
       "      Age EstimatedSalary\n",
       "0 -0.0625       -0.454054\n",
       "1 -0.1250        0.800000\n",
       "2  0.1250        1.102703\n",
       "3 -0.4375       -1.167568\n",
       "4 -0.3125        0.324324"
      ]
     },
     "execution_count": 10,
     "metadata": {},
     "output_type": "execute_result"
    }
   ],
   "source": [
    "X_train = pd.DataFrame(X_train, columns=[cols])\n",
    "X_test = pd.DataFrame(X_test, columns=[cols])\n",
    "X_train.head()\n"
   ]
  },
  {
   "cell_type": "markdown",
   "id": "f82d8add",
   "metadata": {
    "papermill": {
     "duration": 0.009639,
     "end_time": "2023-03-07T10:21:53.966059",
     "exception": false,
     "start_time": "2023-03-07T10:21:53.956420",
     "status": "completed"
    },
    "tags": []
   },
   "source": [
    "<div id='3'\n",
    "     style = \"display: fill;\n",
    "              border-radius: 10px;\n",
    "              background-color: #B7CADB;\">\n",
    "    <h1 style = \"padding: 15px; \n",
    "                 color: white;\n",
    "                 text-align: left;\n",
    "                 font-family: Trebuchet MS;\">Model Training\n",
    "    </h1>\n",
    "</div>"
   ]
  },
  {
   "cell_type": "code",
   "execution_count": 11,
   "id": "1b825ce0",
   "metadata": {
    "execution": {
     "iopub.execute_input": "2023-03-07T10:21:53.987520Z",
     "iopub.status.busy": "2023-03-07T10:21:53.987079Z",
     "iopub.status.idle": "2023-03-07T10:21:54.328837Z",
     "shell.execute_reply": "2023-03-07T10:21:54.327656Z"
    },
    "papermill": {
     "duration": 0.35551,
     "end_time": "2023-03-07T10:21:54.331457",
     "exception": false,
     "start_time": "2023-03-07T10:21:53.975947",
     "status": "completed"
    },
    "tags": []
   },
   "outputs": [
    {
     "name": "stdout",
     "output_type": "stream",
     "text": [
      "Model accuracy score with 10 decision-trees : 0.8875\n"
     ]
    }
   ],
   "source": [
    "from sklearn.ensemble import RandomForestClassifier\n",
    "model = RandomForestClassifier(n_estimators=10,random_state=0)\n",
    "model.fit(X_train, y_train)\n",
    "y_pred = model.predict(X_test)\n",
    "print('Model accuracy score with 10 decision-trees : {0:0.4f}'. format(accuracy_score(y_test, y_pred)))"
   ]
  },
  {
   "cell_type": "markdown",
   "id": "f4d40ce4",
   "metadata": {
    "papermill": {
     "duration": 0.009753,
     "end_time": "2023-03-07T10:21:54.351195",
     "exception": false,
     "start_time": "2023-03-07T10:21:54.341442",
     "status": "completed"
    },
    "tags": []
   },
   "source": [
    "<div id='1'\n",
    "     style = \"display: fill;\n",
    "              border-radius: 10px;\n",
    "              background-color: #AD8B73;\">\n",
    "    <h3 style = \"padding: 15px; \n",
    "                 color: white;\n",
    "                 text-align: left;\n",
    "                 font-family: Trebuchet MS;\">RF Classifier with n_estimators =100\n",
    "    </h3>\n",
    "</div>"
   ]
  },
  {
   "cell_type": "code",
   "execution_count": 12,
   "id": "9f8882de",
   "metadata": {
    "execution": {
     "iopub.execute_input": "2023-03-07T10:21:54.373251Z",
     "iopub.status.busy": "2023-03-07T10:21:54.372428Z",
     "iopub.status.idle": "2023-03-07T10:21:54.541021Z",
     "shell.execute_reply": "2023-03-07T10:21:54.539477Z"
    },
    "papermill": {
     "duration": 0.182362,
     "end_time": "2023-03-07T10:21:54.543633",
     "exception": false,
     "start_time": "2023-03-07T10:21:54.361271",
     "status": "completed"
    },
    "tags": []
   },
   "outputs": [
    {
     "name": "stdout",
     "output_type": "stream",
     "text": [
      "Model accuracy score with 100 decision-trees : 0.8875\n"
     ]
    }
   ],
   "source": [
    "# instantiate the classifier with n_estimators = 100\n",
    "rfc_100 = RandomForestClassifier(n_estimators=100, random_state=0)\n",
    "\n",
    "# fit the model to the training set\n",
    "rfc_100.fit(X_train, y_train)\n",
    "\n",
    "# Predict on the test set results\n",
    "y_pred_100 = rfc_100.predict(X_test)\n",
    "\n",
    "# Check accuracy score \n",
    "print('Model accuracy score with 100 decision-trees : {0:0.4f}'. format(accuracy_score(y_test, y_pred_100)))"
   ]
  },
  {
   "cell_type": "markdown",
   "id": "ff6eae10",
   "metadata": {
    "papermill": {
     "duration": 0.00962,
     "end_time": "2023-03-07T10:21:54.563321",
     "exception": false,
     "start_time": "2023-03-07T10:21:54.553701",
     "status": "completed"
    },
    "tags": []
   },
   "source": [
    "<div id='4'\n",
    "     style = \"display: fill;\n",
    "              border-radius: 10px;\n",
    "              background-color: #B7CADB;\">\n",
    "    <h1 style = \"padding: 15px; \n",
    "                 color: white;\n",
    "                 text-align: left;\n",
    "                 font-family: Trebuchet MS;\">Evaluation\n",
    "    </h1>\n",
    "</div>"
   ]
  },
  {
   "cell_type": "markdown",
   "id": "b62649a1",
   "metadata": {
    "papermill": {
     "duration": 0.009584,
     "end_time": "2023-03-07T10:21:54.583085",
     "exception": false,
     "start_time": "2023-03-07T10:21:54.573501",
     "status": "completed"
    },
    "tags": []
   },
   "source": [
    "<div id='1'\n",
    "     style = \"display: fill;\n",
    "              border-radius: 10px;\n",
    "              background-color: #AD8B73;\">\n",
    "    <h3 style = \"padding: 15px; \n",
    "                 color: white;\n",
    "                 text-align: left;\n",
    "                 font-family: Trebuchet MS;\">Accuracy\n",
    "    </h3>\n",
    "</div>"
   ]
  },
  {
   "cell_type": "code",
   "execution_count": 13,
   "id": "331d2088",
   "metadata": {
    "execution": {
     "iopub.execute_input": "2023-03-07T10:21:54.604937Z",
     "iopub.status.busy": "2023-03-07T10:21:54.604501Z",
     "iopub.status.idle": "2023-03-07T10:21:54.620701Z",
     "shell.execute_reply": "2023-03-07T10:21:54.619059Z"
    },
    "papermill": {
     "duration": 0.03004,
     "end_time": "2023-03-07T10:21:54.623107",
     "exception": false,
     "start_time": "2023-03-07T10:21:54.593067",
     "status": "completed"
    },
    "tags": []
   },
   "outputs": [
    {
     "name": "stdout",
     "output_type": "stream",
     "text": [
      "Model Accuracy : 0.8875\n",
      "Model Accuracy : 0.9906\n"
     ]
    }
   ],
   "source": [
    "y_pred = model.predict(X_test)\n",
    "y_pred_train = model.predict(X_train)\n",
    "from sklearn.metrics import accuracy_score\n",
    "print(\"Model Accuracy : {0:0.4f}\".format(accuracy_score(y_test,y_pred)))\n",
    "print(\"Model Accuracy : {0:0.4f}\".format(accuracy_score(y_train,y_pred_train)))"
   ]
  },
  {
   "cell_type": "markdown",
   "id": "4a53421f",
   "metadata": {
    "papermill": {
     "duration": 0.009788,
     "end_time": "2023-03-07T10:21:54.643087",
     "exception": false,
     "start_time": "2023-03-07T10:21:54.633299",
     "status": "completed"
    },
    "tags": []
   },
   "source": [
    "<div id='1'\n",
    "     style = \"display: fill;\n",
    "              border-radius: 10px;\n",
    "              background-color: #AD8B73;\">\n",
    "    <h3 style = \"padding: 15px; \n",
    "                 color: white;\n",
    "                 text-align: left;\n",
    "                 font-family: Trebuchet MS;\">Confusion Matrix\n",
    "    </h3>\n",
    "</div>"
   ]
  },
  {
   "cell_type": "code",
   "execution_count": 14,
   "id": "3ba4d971",
   "metadata": {
    "_kg_hide-output": true,
    "execution": {
     "iopub.execute_input": "2023-03-07T10:21:54.665149Z",
     "iopub.status.busy": "2023-03-07T10:21:54.664699Z",
     "iopub.status.idle": "2023-03-07T10:21:54.675224Z",
     "shell.execute_reply": "2023-03-07T10:21:54.673947Z"
    },
    "papermill": {
     "duration": 0.02458,
     "end_time": "2023-03-07T10:21:54.677793",
     "exception": false,
     "start_time": "2023-03-07T10:21:54.653213",
     "status": "completed"
    },
    "tags": []
   },
   "outputs": [
    {
     "name": "stdout",
     "output_type": "stream",
     "text": [
      "Confusion Matrix\n",
      "\n",
      " [[54  5]\n",
      " [ 4 17]]\n",
      "\n",
      "True Positives(TP) =  54\n",
      "\n",
      "True Negatives(TN) =  17\n",
      "\n",
      "False Positives(FP) =  5\n",
      "\n",
      "False Negatives(FN) =  4\n"
     ]
    }
   ],
   "source": [
    "from sklearn.metrics import confusion_matrix\n",
    "cm = confusion_matrix(y_test,y_pred)\n",
    "print('Confusion Matrix\\n\\n',cm)\n",
    "print('\\nTrue Positives(TP) = ', cm[0,0])\n",
    "print('\\nTrue Negatives(TN) = ', cm[1,1])\n",
    "print('\\nFalse Positives(FP) = ', cm[0,1])\n",
    "print('\\nFalse Negatives(FN) = ', cm[1,0])"
   ]
  },
  {
   "cell_type": "code",
   "execution_count": 15,
   "id": "d8ff2776",
   "metadata": {
    "execution": {
     "iopub.execute_input": "2023-03-07T10:21:54.700053Z",
     "iopub.status.busy": "2023-03-07T10:21:54.699639Z",
     "iopub.status.idle": "2023-03-07T10:21:54.957589Z",
     "shell.execute_reply": "2023-03-07T10:21:54.956689Z"
    },
    "papermill": {
     "duration": 0.272135,
     "end_time": "2023-03-07T10:21:54.960200",
     "exception": false,
     "start_time": "2023-03-07T10:21:54.688065",
     "status": "completed"
    },
    "tags": []
   },
   "outputs": [
    {
     "data": {
      "text/plain": [
       "<AxesSubplot:>"
      ]
     },
     "execution_count": 15,
     "metadata": {},
     "output_type": "execute_result"
    },
    {
     "data": {
      "image/png": "[encoded data removed]",
      "text/plain": [
       "<Figure size 640x480 with 2 Axes>"
      ]
     },
     "metadata": {},
     "output_type": "display_data"
    }
   ],
   "source": [
    "sns.heatmap(cm,annot= True, fmt='d', cmap='rocket')"
   ]
  },
  {
   "cell_type": "markdown",
   "id": "f4a70d10",
   "metadata": {
    "papermill": {
     "duration": 0.0101,
     "end_time": "2023-03-07T10:21:54.981245",
     "exception": false,
     "start_time": "2023-03-07T10:21:54.971145",
     "status": "completed"
    },
    "tags": []
   },
   "source": [
    "<div id='1'\n",
    "     style = \"display: fill;\n",
    "              border-radius: 10px;\n",
    "              background-color: #AD8B73;\">\n",
    "    <h3 style = \"padding: 15px; \n",
    "                 color: white;\n",
    "                 text-align: left;\n",
    "                 font-family: Trebuchet MS;\"> Classification Report\n",
    "    </h3>\n",
    "</div>"
   ]
  },
  {
   "cell_type": "code",
   "execution_count": 16,
   "id": "6122a3fb",
   "metadata": {
    "execution": {
     "iopub.execute_input": "2023-03-07T10:21:55.004833Z",
     "iopub.status.busy": "2023-03-07T10:21:55.003755Z",
     "iopub.status.idle": "2023-03-07T10:21:55.015059Z",
     "shell.execute_reply": "2023-03-07T10:21:55.013654Z"
    },
    "papermill": {
     "duration": 0.025646,
     "end_time": "2023-03-07T10:21:55.017486",
     "exception": false,
     "start_time": "2023-03-07T10:21:54.991840",
     "status": "completed"
    },
    "tags": []
   },
   "outputs": [
    {
     "name": "stdout",
     "output_type": "stream",
     "text": [
      "              precision    recall  f1-score   support\n",
      "\n",
      "           0       0.93      0.92      0.92        59\n",
      "           1       0.77      0.81      0.79        21\n",
      "\n",
      "    accuracy                           0.89        80\n",
      "   macro avg       0.85      0.86      0.86        80\n",
      "weighted avg       0.89      0.89      0.89        80\n",
      "\n"
     ]
    }
   ],
   "source": [
    "from sklearn.metrics import classification_report\n",
    "print(classification_report(y_test,y_pred))"
   ]
  },
  {
   "cell_type": "markdown",
   "id": "53bd92dd",
   "metadata": {
    "papermill": {
     "duration": 0.010261,
     "end_time": "2023-03-07T10:21:55.039113",
     "exception": false,
     "start_time": "2023-03-07T10:21:55.028852",
     "status": "completed"
    },
    "tags": []
   },
   "source": [
    "<div id='1'\n",
    "     style = \"display: fill;\n",
    "              border-radius: 10px;\n",
    "              background-color: #AD8B73;\">\n",
    "    <h3 style = \"padding: 15px; \n",
    "                 color: white;\n",
    "                 text-align: left;\n",
    "                 font-family: Trebuchet MS;\"> Scores from Confusion Matrix\n",
    "    </h3>\n",
    "</div>"
   ]
  },
  {
   "cell_type": "code",
   "execution_count": 17,
   "id": "71c991c3",
   "metadata": {
    "execution": {
     "iopub.execute_input": "2023-03-07T10:21:55.062626Z",
     "iopub.status.busy": "2023-03-07T10:21:55.062201Z",
     "iopub.status.idle": "2023-03-07T10:21:55.073154Z",
     "shell.execute_reply": "2023-03-07T10:21:55.071763Z"
    },
    "papermill": {
     "duration": 0.026116,
     "end_time": "2023-03-07T10:21:55.076059",
     "exception": false,
     "start_time": "2023-03-07T10:21:55.049943",
     "status": "completed"
    },
    "tags": []
   },
   "outputs": [
    {
     "name": "stdout",
     "output_type": "stream",
     "text": [
      "Classification accuracy : 0.8875\n",
      "Classification error : 0.1125\n",
      "Precision : 0.9153\n",
      "Recall or Sensitivity : 0.9310\n",
      "True Positive Rate : 0.9310\n",
      "False Positive Rate : 0.2273\n",
      "Specificity : 0.7727\n"
     ]
    }
   ],
   "source": [
    "TP = cm[0,0]\n",
    "TN = cm[1,1]\n",
    "FP = cm[0,1]\n",
    "FN = cm[1,0]\n",
    "\n",
    "# print classification accuracy\n",
    "classification_accuracy = (TP + TN) / float(TP + TN + FP + FN)\n",
    "print('Classification accuracy : {0:0.4f}'.format(classification_accuracy))\n",
    "\n",
    "# print classification error\n",
    "classification_error = (FP + FN) / float(TP + TN + FP + FN)\n",
    "print('Classification error : {0:0.4f}'.format(classification_error))\n",
    "\n",
    "# print precision score\n",
    "precision = TP / float(TP + FP)\n",
    "print('Precision : {0:0.4f}'.format(precision))\n",
    "\n",
    "#print recall score\n",
    "recall = TP / float(TP + FN)\n",
    "print('Recall or Sensitivity : {0:0.4f}'.format(recall))\n",
    "\n",
    "#true positive rate\n",
    "true_positive_rate = TP / float(TP + FN)\n",
    "print('True Positive Rate : {0:0.4f}'.format(true_positive_rate))\n",
    "\n",
    "\n",
    "#false positive rate\n",
    "false_positive_rate = FP / float(FP + TN)\n",
    "print('False Positive Rate : {0:0.4f}'.format(false_positive_rate))\n",
    "\n",
    "#Specificity\n",
    "specificity = TN / (TN + FP)\n",
    "print('Specificity : {0:0.4f}'.format(specificity))"
   ]
  },
  {
   "cell_type": "markdown",
   "id": "ea09a4dd",
   "metadata": {
    "papermill": {
     "duration": 0.010278,
     "end_time": "2023-03-07T10:21:55.097423",
     "exception": false,
     "start_time": "2023-03-07T10:21:55.087145",
     "status": "completed"
    },
    "tags": []
   },
   "source": [
    "<div id='1'\n",
    "     style = \"display: fill;\n",
    "              border-radius: 10px;\n",
    "              background-color: #AD8B73;\">\n",
    "    <h3 style = \"padding: 15px; \n",
    "                 color: white;\n",
    "                 text-align: left;\n",
    "                 font-family: Trebuchet MS;\">ROC Curve\n",
    "    </h3>\n",
    "</div>"
   ]
  },
  {
   "cell_type": "code",
   "execution_count": 18,
   "id": "62b515cf",
   "metadata": {
    "execution": {
     "iopub.execute_input": "2023-03-07T10:21:55.120840Z",
     "iopub.status.busy": "2023-03-07T10:21:55.120434Z",
     "iopub.status.idle": "2023-03-07T10:21:55.325120Z",
     "shell.execute_reply": "2023-03-07T10:21:55.323804Z"
    },
    "papermill": {
     "duration": 0.220171,
     "end_time": "2023-03-07T10:21:55.328195",
     "exception": false,
     "start_time": "2023-03-07T10:21:55.108024",
     "status": "completed"
    },
    "tags": []
   },
   "outputs": [
    {
     "data": {
      "image/png": "[encoded data removed]",
      "text/plain": [
       "<Figure size 640x480 with 1 Axes>"
      ]
     },
     "metadata": {},
     "output_type": "display_data"
    }
   ],
   "source": [
    "from sklearn import metrics\n",
    "metrics.plot_roc_curve(model,X_test,y_test)\n",
    "plt.show()"
   ]
  },
  {
   "cell_type": "markdown",
   "id": "a981cf9f",
   "metadata": {
    "papermill": {
     "duration": 0.011918,
     "end_time": "2023-03-07T10:21:55.352184",
     "exception": false,
     "start_time": "2023-03-07T10:21:55.340266",
     "status": "completed"
    },
    "tags": []
   },
   "source": [
    "<div id='1'\n",
    "     style = \"display: fill;\n",
    "              border-radius: 10px;\n",
    "              background-color: #AD8B73;\">\n",
    "    <h3 style = \"padding: 15px; \n",
    "                 color: white;\n",
    "                 text-align: left;\n",
    "                 font-family: Trebuchet MS;\">ROC AUC Score\n",
    "    </h3>\n",
    "</div>"
   ]
  },
  {
   "cell_type": "code",
   "execution_count": 19,
   "id": "29a0e7f5",
   "metadata": {
    "execution": {
     "iopub.execute_input": "2023-03-07T10:21:55.377264Z",
     "iopub.status.busy": "2023-03-07T10:21:55.376483Z",
     "iopub.status.idle": "2023-03-07T10:21:55.387404Z",
     "shell.execute_reply": "2023-03-07T10:21:55.386195Z"
    },
    "papermill": {
     "duration": 0.026143,
     "end_time": "2023-03-07T10:21:55.389762",
     "exception": false,
     "start_time": "2023-03-07T10:21:55.363619",
     "status": "completed"
    },
    "tags": []
   },
   "outputs": [
    {
     "name": "stdout",
     "output_type": "stream",
     "text": [
      "ROC AUC : 0.9201\n"
     ]
    }
   ],
   "source": [
    "# compute ROC AUC\n",
    "# store the predicted probabilities for class 1 - Probability of >50K\n",
    "\n",
    "y_pred1 = model.predict_proba(X_test)[:, 1]\n",
    "from sklearn.metrics import roc_auc_score\n",
    "\n",
    "ROC_AUC = roc_auc_score(y_test, y_pred1)\n",
    "\n",
    "print('ROC AUC : {:.4f}'.format(ROC_AUC))"
   ]
  },
  {
   "cell_type": "markdown",
   "id": "a634abfe",
   "metadata": {
    "papermill": {
     "duration": 0.01099,
     "end_time": "2023-03-07T10:21:55.412087",
     "exception": false,
     "start_time": "2023-03-07T10:21:55.401097",
     "status": "completed"
    },
    "tags": []
   },
   "source": [
    "<div id='1'\n",
    "     style = \"display: fill;\n",
    "              border-radius: 10px;\n",
    "              background-color: #AD8B73;\">\n",
    "    <h3 style = \"padding: 15px; \n",
    "                 color: white;\n",
    "                 text-align: left;\n",
    "                 font-family: Trebuchet MS;\">Cross Validation Score\n",
    "    </h3>\n",
    "</div>"
   ]
  },
  {
   "cell_type": "code",
   "execution_count": 20,
   "id": "e327c981",
   "metadata": {
    "execution": {
     "iopub.execute_input": "2023-03-07T10:21:55.437291Z",
     "iopub.status.busy": "2023-03-07T10:21:55.436541Z",
     "iopub.status.idle": "2023-03-07T10:21:55.654088Z",
     "shell.execute_reply": "2023-03-07T10:21:55.652581Z"
    },
    "papermill": {
     "duration": 0.233278,
     "end_time": "2023-03-07T10:21:55.656780",
     "exception": false,
     "start_time": "2023-03-07T10:21:55.423502",
     "status": "completed"
    },
    "tags": []
   },
   "outputs": [
    {
     "name": "stdout",
     "output_type": "stream",
     "text": [
      "Cross-validation scores:[0.875   0.875   0.90625 0.875   0.8125  0.9375  0.875   0.90625 0.875\n",
      " 0.90625]\n"
     ]
    }
   ],
   "source": [
    "# Applying 10-Fold Cross Validation\n",
    "\n",
    "from sklearn.model_selection import cross_val_score\n",
    "\n",
    "scores = cross_val_score(model, X_train, y_train, cv = 10, scoring='accuracy')\n",
    "\n",
    "print('Cross-validation scores:{}'.format(scores))"
   ]
  },
  {
   "cell_type": "code",
   "execution_count": 21,
   "id": "e4e84d4d",
   "metadata": {
    "execution": {
     "iopub.execute_input": "2023-03-07T10:21:55.681634Z",
     "iopub.status.busy": "2023-03-07T10:21:55.681206Z",
     "iopub.status.idle": "2023-03-07T10:21:55.687067Z",
     "shell.execute_reply": "2023-03-07T10:21:55.685847Z"
    },
    "papermill": {
     "duration": 0.021558,
     "end_time": "2023-03-07T10:21:55.689993",
     "exception": false,
     "start_time": "2023-03-07T10:21:55.668435",
     "status": "completed"
    },
    "tags": []
   },
   "outputs": [
    {
     "name": "stdout",
     "output_type": "stream",
     "text": [
      "Average cross-validation score: 0.8844\n"
     ]
    }
   ],
   "source": [
    "# compute Average cross-validation score\n",
    "print('Average cross-validation score: {:.4f}'.format(scores.mean()))"
   ]
  },
  {
   "cell_type": "markdown",
   "id": "b8d98e63",
   "metadata": {
    "papermill": {
     "duration": 0.011176,
     "end_time": "2023-03-07T10:21:55.712875",
     "exception": false,
     "start_time": "2023-03-07T10:21:55.701699",
     "status": "completed"
    },
    "tags": []
   },
   "source": [
    "<div id='4'\n",
    "     style = \"display: fill;\n",
    "              border-radius: 10px;\n",
    "              background-color: #B7CADB;\">\n",
    "    <h1 style = \"padding: 15px; \n",
    "                 color: white;\n",
    "                 text-align: left;\n",
    "                 font-family: Trebuchet MS;\"> K Fold Cross Validation\n",
    "    </h1>\n",
    "</div>"
   ]
  },
  {
   "cell_type": "code",
   "execution_count": 22,
   "id": "8a76be14",
   "metadata": {
    "execution": {
     "iopub.execute_input": "2023-03-07T10:21:55.738491Z",
     "iopub.status.busy": "2023-03-07T10:21:55.737719Z",
     "iopub.status.idle": "2023-03-07T10:21:56.535012Z",
     "shell.execute_reply": "2023-03-07T10:21:56.533385Z"
    },
    "papermill": {
     "duration": 0.814007,
     "end_time": "2023-03-07T10:21:56.538690",
     "exception": false,
     "start_time": "2023-03-07T10:21:55.724683",
     "status": "completed"
    },
    "tags": []
   },
   "outputs": [
    {
     "name": "stdout",
     "output_type": "stream",
     "text": [
      "Stratified cross-validation scores with linear kernel:[0.9125 0.875  0.8375 0.85   0.9625]\n",
      "\n",
      "Average stratified cross-validation score with linear kernel:0.8875\n"
     ]
    }
   ],
   "source": [
    "from sklearn.model_selection import KFold\n",
    "\n",
    "\n",
    "kfold=KFold(n_splits=5, shuffle=True, random_state=0)\n",
    "\n",
    "model=RandomForestClassifier()\n",
    "\n",
    "\n",
    "linear_scores = cross_val_score(model, X, y, cv=kfold)\n",
    "# print cross-validation scores with linear kernel\n",
    "\n",
    "print('Stratified cross-validation scores with linear kernel:{}'.format(linear_scores))\n",
    "# print average cross-validation score with linear kernel\n",
    "\n",
    "print('\\nAverage stratified cross-validation score with linear kernel:{:.4f}'.format(linear_scores.mean()))"
   ]
  },
  {
   "cell_type": "markdown",
   "id": "f5542136",
   "metadata": {
    "papermill": {
     "duration": 0.011296,
     "end_time": "2023-03-07T10:21:56.562140",
     "exception": false,
     "start_time": "2023-03-07T10:21:56.550844",
     "status": "completed"
    },
    "tags": []
   },
   "source": [
    "<div id='5'\n",
    "     style = \"display: fill;\n",
    "              border-radius: 10px;\n",
    "              background-color: #0E8388;\">\n",
    "    <h1 style = \"padding: 30px; \n",
    "                 color: white;\n",
    "                 font-weight:600;\n",
    "                 font-size:50px;\n",
    "                 text-align: CENTER;\n",
    "                 font-family: Tilt Warp;\">PLEASE UPVOTE IF IT HELPED\n",
    "    </h1>\n",
    "</div>](http://)"
   ]
  },
  {
   "cell_type": "code",
   "execution_count": null,
   "id": "46e1000e",
   "metadata": {
    "papermill": {
     "duration": 0.011149,
     "end_time": "2023-03-07T10:21:56.584894",
     "exception": false,
     "start_time": "2023-03-07T10:21:56.573745",
     "status": "completed"
    },
    "tags": []
   },
   "outputs": [],
   "source": []
  }
 ],
 "metadata": {
  "kernelspec": {
   "display_name": "Python 3",
   "language": "python",
   "name": "python3"
  },
  "language_info": {
   "codemirror_mode": {
    "name": "ipython",
    "version": 3
   },
   "file_extension": ".py",
   "mimetype": "text/x-python",
   "name": "python",
   "nbconvert_exporter": "python",
   "pygments_lexer": "ipython3",
   "version": "3.7.12"
  },
  "papermill": {
   "default_parameters": {},
   "duration": 14.804994,
   "end_time": "2023-03-07T10:21:57.319679",
   "environment_variables": {},
   "exception": null,
   "input_path": "__notebook__.ipynb",
   "output_path": "__notebook__.ipynb",
   "parameters": {},
   "start_time": "2023-03-07T10:21:42.514685",
   "version": "2.4.0"
  }
 },
 "nbformat": 4,
 "nbformat_minor": 5
}
